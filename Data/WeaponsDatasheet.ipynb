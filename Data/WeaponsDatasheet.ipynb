{
 "cells": [
  {
   "cell_type": "markdown",
   "metadata": {},
   "source": [
    "## Escape from Tarkov Gun Mod Project -- Weapons Database ##"
   ]
  },
  {
   "cell_type": "code",
   "execution_count": 58,
   "metadata": {},
   "outputs": [],
   "source": [
    "from requests import get\n",
    "from bs4 import BeautifulSoup\n",
    "import pandas as pd\n",
    "import numpy as np"
   ]
  },
  {
   "cell_type": "markdown",
   "metadata": {},
   "source": [
    "## Website thats being webscrapped for database ##"
   ]
  },
  {
   "cell_type": "code",
   "execution_count": 59,
   "metadata": {},
   "outputs": [],
   "source": [
    "urlWeapons = 'https://escapefromtarkov.gamepedia.com/Weapons'\n",
    "tarkovURL = 'https://escapefromtarkov.gamepedia.com/'"
   ]
  },
  {
   "cell_type": "markdown",
   "metadata": {},
   "source": [
    "## Requesting information ##"
   ]
  },
  {
   "cell_type": "code",
   "execution_count": 60,
   "metadata": {},
   "outputs": [
    {
     "name": "stdout",
     "output_type": "stream",
     "text": [
      "Downloading Weapons Page https://escapefromtarkov.gamepedia.com/Weapons...\n"
     ]
    }
   ],
   "source": [
    "print(\"Downloading Weapons Page %s...\" %urlWeapons)\n",
    "response = get(urlWeapons)\n",
    "response.raise_for_status()"
   ]
  },
  {
   "cell_type": "markdown",
   "metadata": {},
   "source": [
    "## Create obj ##"
   ]
  },
  {
   "cell_type": "code",
   "execution_count": 61,
   "metadata": {},
   "outputs": [],
   "source": [
    "WeaponSoup = BeautifulSoup(response.content,'lxml')"
   ]
  },
  {
   "cell_type": "code",
   "execution_count": 62,
   "metadata": {},
   "outputs": [],
   "source": [
    "WeaponsData=[]\n",
    "\n",
    "\n",
    "for table in WeaponSoup.findAll('table',{\"class\":\"wikitable sortable\"}):\n",
    "\n",
    "    WeaponsTable_body = table.find('tbody')\n",
    "\n",
    "    WeaponsRows = WeaponsTable_body.find_all('tr')\n",
    "\n",
    "    for row in WeaponsRows:\n",
    "        WeaponCols = row.find_all('th')+ row.find_all('td')\n",
    "        WeaponCols = [ele.text.strip() for ele in WeaponCols]\n",
    "        WeaponsData.append([ele for ele in WeaponCols])\n",
    "\n",
    "    #print(WeaponsData) \n",
    "\n",
    "#print(WeaponsData[-1])"
   ]
  },
  {
   "cell_type": "markdown",
   "metadata": {},
   "source": [
    "## Grabbing URLs ## "
   ]
  },
  {
   "cell_type": "code",
   "execution_count": 63,
   "metadata": {},
   "outputs": [],
   "source": [
    "imageData = pd.DataFrame()\n",
    "\n",
    "for table in WeaponSoup.findAll('table',{\"class\":\"wikitable sortable\"}):\n",
    "\n",
    "    tableRows = table.findAll('tr')\n",
    "\n",
    "    for row in tableRows :\n",
    "\n",
    "        for image in row.select('img'):\n",
    "\n",
    "            if image.has_attr('src'):\n",
    "\n",
    "                data = image['src']\n",
    "\n",
    "                imageData = imageData.append({'image':data},ignore_index=True)\n",
    "\n",
    "imageData.index = np.arange(1,len(imageData)+1)\n",
    "\n",
    "#imageData"
   ]
  },
  {
   "cell_type": "markdown",
   "metadata": {},
   "source": [
    "## Header Adjust And Adding Images ##"
   ]
  },
  {
   "cell_type": "code",
   "execution_count": 64,
   "metadata": {},
   "outputs": [
    {
     "data": {
      "text/html": [
       "<div>\n",
       "<style scoped>\n",
       "    .dataframe tbody tr th:only-of-type {\n",
       "        vertical-align: middle;\n",
       "    }\n",
       "\n",
       "    .dataframe tbody tr th {\n",
       "        vertical-align: top;\n",
       "    }\n",
       "\n",
       "    .dataframe thead th {\n",
       "        text-align: right;\n",
       "    }\n",
       "</style>\n",
       "<table border=\"1\" class=\"dataframe\">\n",
       "  <thead>\n",
       "    <tr style=\"text-align: right;\">\n",
       "      <th></th>\n",
       "      <th>Index</th>\n",
       "      <th>Name</th>\n",
       "      <th>Cartridge</th>\n",
       "      <th>Firing Modes</th>\n",
       "      <th>Rate of Fire</th>\n",
       "      <th>Description</th>\n",
       "      <th>Image</th>\n",
       "    </tr>\n",
       "  </thead>\n",
       "  <tbody>\n",
       "    <tr>\n",
       "      <th>0</th>\n",
       "      <td></td>\n",
       "      <td>ADAR 2-15</td>\n",
       "      <td>5.56x45mm NATO</td>\n",
       "      <td>Single</td>\n",
       "      <td>800</td>\n",
       "      <td>Russian civilian carbine ADAR 2-15 is based on...</td>\n",
       "      <td>None</td>\n",
       "    </tr>\n",
       "    <tr>\n",
       "      <th>1</th>\n",
       "      <td></td>\n",
       "      <td>AK-101</td>\n",
       "      <td>5.56x45mm NATO</td>\n",
       "      <td>SingleFull‑Auto</td>\n",
       "      <td>650</td>\n",
       "      <td>Export version of a Kalashnikov chambered in 5...</td>\n",
       "      <td>None</td>\n",
       "    </tr>\n",
       "    <tr>\n",
       "      <th>2</th>\n",
       "      <td></td>\n",
       "      <td>AK-102</td>\n",
       "      <td>5.56x45mm NATO</td>\n",
       "      <td>SingleFull‑Auto</td>\n",
       "      <td>600</td>\n",
       "      <td>Short, export version of a Kalashnikov 5.56 mm...</td>\n",
       "      <td>None</td>\n",
       "    </tr>\n",
       "    <tr>\n",
       "      <th>3</th>\n",
       "      <td></td>\n",
       "      <td>AK-103</td>\n",
       "      <td>7.62x39mm</td>\n",
       "      <td>SingleFull‑Auto</td>\n",
       "      <td>600</td>\n",
       "      <td>Kalashnikov 7.62 mm assault rifle equipped wit...</td>\n",
       "      <td>None</td>\n",
       "    </tr>\n",
       "    <tr>\n",
       "      <th>4</th>\n",
       "      <td></td>\n",
       "      <td>AK-104</td>\n",
       "      <td>7.62x39mm</td>\n",
       "      <td>SingleFull‑Auto</td>\n",
       "      <td>600</td>\n",
       "      <td>Short Kalashnikov 7.62 mm assault rifle equipp...</td>\n",
       "      <td>None</td>\n",
       "    </tr>\n",
       "    <tr>\n",
       "      <th>5</th>\n",
       "      <td></td>\n",
       "      <td>AK-105</td>\n",
       "      <td>5.45x39mm</td>\n",
       "      <td>SingleFull‑Auto</td>\n",
       "      <td>600</td>\n",
       "      <td>Short Kalashnikov 5.45 mm modernized assault r...</td>\n",
       "      <td>None</td>\n",
       "    </tr>\n",
       "    <tr>\n",
       "      <th>6</th>\n",
       "      <td></td>\n",
       "      <td>AK-74</td>\n",
       "      <td>5.45x39mm</td>\n",
       "      <td>SingleFull‑Auto</td>\n",
       "      <td>650</td>\n",
       "      <td>Kalashnikov 5.45 mm assault rifle, developed i...</td>\n",
       "      <td>None</td>\n",
       "    </tr>\n",
       "    <tr>\n",
       "      <th>7</th>\n",
       "      <td></td>\n",
       "      <td>AK-74M</td>\n",
       "      <td>5.45x39mm</td>\n",
       "      <td>SingleFull‑Auto</td>\n",
       "      <td>650</td>\n",
       "      <td>Kalashnikov 5.45 mm modernized assault rifle e...</td>\n",
       "      <td>None</td>\n",
       "    </tr>\n",
       "    <tr>\n",
       "      <th>8</th>\n",
       "      <td></td>\n",
       "      <td>AK-74N</td>\n",
       "      <td>5.45x39mm</td>\n",
       "      <td>SingleFull‑Auto</td>\n",
       "      <td>650</td>\n",
       "      <td>Kalashnikov 5.45 mm assault rifle, developed i...</td>\n",
       "      <td>None</td>\n",
       "    </tr>\n",
       "    <tr>\n",
       "      <th>9</th>\n",
       "      <td></td>\n",
       "      <td>AKM</td>\n",
       "      <td>7.62x39mm</td>\n",
       "      <td>SingleFull‑Auto</td>\n",
       "      <td>600</td>\n",
       "      <td>Modernized 7.62mm Kalashnikov, adopted in 1959...</td>\n",
       "      <td>None</td>\n",
       "    </tr>\n",
       "    <tr>\n",
       "      <th>10</th>\n",
       "      <td></td>\n",
       "      <td>AKMN</td>\n",
       "      <td>7.62x39mm</td>\n",
       "      <td>SingleFull‑Auto</td>\n",
       "      <td>600</td>\n",
       "      <td>AKMN (with NSPUM-AKMN2 scope) is a small arms ...</td>\n",
       "      <td>None</td>\n",
       "    </tr>\n",
       "    <tr>\n",
       "      <th>11</th>\n",
       "      <td></td>\n",
       "      <td>AKMS</td>\n",
       "      <td>7.62x39mm</td>\n",
       "      <td>SingleFull‑Auto</td>\n",
       "      <td>600</td>\n",
       "      <td>AKMS (GRAU Index - 6P4) is a variant of the AK...</td>\n",
       "      <td>None</td>\n",
       "    </tr>\n",
       "    <tr>\n",
       "      <th>12</th>\n",
       "      <td></td>\n",
       "      <td>AKMSN</td>\n",
       "      <td>7.62x39mm</td>\n",
       "      <td>SingleFull‑Auto</td>\n",
       "      <td>600</td>\n",
       "      <td>AKMSN - is a modified AKMS with dovetail mount...</td>\n",
       "      <td>None</td>\n",
       "    </tr>\n",
       "    <tr>\n",
       "      <th>13</th>\n",
       "      <td></td>\n",
       "      <td>AKS-74</td>\n",
       "      <td>5.45x39mm</td>\n",
       "      <td>SingleFull‑Auto</td>\n",
       "      <td>650</td>\n",
       "      <td>Kalashnikov 5.45 mm assault rifle equipped wit...</td>\n",
       "      <td>None</td>\n",
       "    </tr>\n",
       "    <tr>\n",
       "      <th>14</th>\n",
       "      <td></td>\n",
       "      <td>AKS-74N</td>\n",
       "      <td>5.45x39mm</td>\n",
       "      <td>SingleFull‑Auto</td>\n",
       "      <td>650</td>\n",
       "      <td>Kalashnikov 5.45 mm assault rifle equipped wit...</td>\n",
       "      <td>None</td>\n",
       "    </tr>\n",
       "    <tr>\n",
       "      <th>15</th>\n",
       "      <td></td>\n",
       "      <td>AKS-74U</td>\n",
       "      <td>5.45x39mm</td>\n",
       "      <td>SingleFull‑Auto</td>\n",
       "      <td>650</td>\n",
       "      <td>Reduced version of AKS-74 assault rifle, devel...</td>\n",
       "      <td>None</td>\n",
       "    </tr>\n",
       "    <tr>\n",
       "      <th>16</th>\n",
       "      <td></td>\n",
       "      <td>AKS-74UB</td>\n",
       "      <td>5.45x39mm</td>\n",
       "      <td>SingleFull‑Auto</td>\n",
       "      <td>650</td>\n",
       "      <td>Special version of the AKS-74U, modification B...</td>\n",
       "      <td>None</td>\n",
       "    </tr>\n",
       "    <tr>\n",
       "      <th>17</th>\n",
       "      <td></td>\n",
       "      <td>AKS-74UN</td>\n",
       "      <td>5.45x39mm</td>\n",
       "      <td>SingleFull‑Auto</td>\n",
       "      <td>650</td>\n",
       "      <td>Reduced version of the AKS-74 assault rifle, d...</td>\n",
       "      <td>None</td>\n",
       "    </tr>\n",
       "    <tr>\n",
       "      <th>18</th>\n",
       "      <td></td>\n",
       "      <td>ASh-12</td>\n",
       "      <td>12.7x55mm STs-130</td>\n",
       "      <td>SingleFull‑Auto</td>\n",
       "      <td>650</td>\n",
       "      <td>The ASh-12.7 (which stands for \"Automatic assa...</td>\n",
       "      <td>None</td>\n",
       "    </tr>\n",
       "    <tr>\n",
       "      <th>19</th>\n",
       "      <td></td>\n",
       "      <td>AS VAL</td>\n",
       "      <td>9x39mm</td>\n",
       "      <td>SingleFull‑Auto</td>\n",
       "      <td>900</td>\n",
       "      <td>AS VAL (Avtomat Specialniy, Special Automatic ...</td>\n",
       "      <td>None</td>\n",
       "    </tr>\n",
       "    <tr>\n",
       "      <th>20</th>\n",
       "      <td></td>\n",
       "      <td>DT MDR 5.56x45</td>\n",
       "      <td>5.56x45mm NATO</td>\n",
       "      <td>SingleFull‑Auto</td>\n",
       "      <td>650</td>\n",
       "      <td>The product of the US-based company Desert Tec...</td>\n",
       "      <td>None</td>\n",
       "    </tr>\n",
       "    <tr>\n",
       "      <th>21</th>\n",
       "      <td></td>\n",
       "      <td>DT MDR .308</td>\n",
       "      <td>7.62x51mm NATO</td>\n",
       "      <td>SingleFull‑Auto</td>\n",
       "      <td>650</td>\n",
       "      <td>The product of the US-based company Desert Tec...</td>\n",
       "      <td>None</td>\n",
       "    </tr>\n",
       "    <tr>\n",
       "      <th>22</th>\n",
       "      <td></td>\n",
       "      <td>HK 416A5</td>\n",
       "      <td>5.56x45mm NATO</td>\n",
       "      <td>SingleFull‑Auto</td>\n",
       "      <td>850</td>\n",
       "      <td>The HK416 A5 is a further development of the H...</td>\n",
       "      <td>None</td>\n",
       "    </tr>\n",
       "    <tr>\n",
       "      <th>23</th>\n",
       "      <td></td>\n",
       "      <td>Kel-Tec RFB 7.62x51</td>\n",
       "      <td>7.62x51mm NATO</td>\n",
       "      <td>Single</td>\n",
       "      <td>700</td>\n",
       "      <td>The Kel-Tec RFB (Rifle, Forward-ejection, Bull...</td>\n",
       "      <td>None</td>\n",
       "    </tr>\n",
       "    <tr>\n",
       "      <th>24</th>\n",
       "      <td></td>\n",
       "      <td>M4A1</td>\n",
       "      <td>5.56x45mm NATO</td>\n",
       "      <td>SingleFull‑Auto</td>\n",
       "      <td>800</td>\n",
       "      <td>Colt M4A1 - an assault rifle (carbine), design...</td>\n",
       "      <td>None</td>\n",
       "    </tr>\n",
       "    <tr>\n",
       "      <th>25</th>\n",
       "      <td></td>\n",
       "      <td>MCX</td>\n",
       "      <td>.300 Blackout</td>\n",
       "      <td>SingleFull‑Auto</td>\n",
       "      <td>800</td>\n",
       "      <td>The MCX line, designed and manufactured by SIG...</td>\n",
       "      <td>None</td>\n",
       "    </tr>\n",
       "    <tr>\n",
       "      <th>26</th>\n",
       "      <td></td>\n",
       "      <td>SA-58</td>\n",
       "      <td>7.62x51mm NATO</td>\n",
       "      <td>SingleFull‑Auto</td>\n",
       "      <td>700</td>\n",
       "      <td>SA-58 OSW (Operations Specialist Weapon) manuf...</td>\n",
       "      <td>None</td>\n",
       "    </tr>\n",
       "    <tr>\n",
       "      <th>27</th>\n",
       "      <td></td>\n",
       "      <td>TX-15 DML</td>\n",
       "      <td>5.56x45mm NATO</td>\n",
       "      <td>Single</td>\n",
       "      <td>800</td>\n",
       "      <td>The TX15 Designated Marksman Light (DML) serie...</td>\n",
       "      <td>None</td>\n",
       "    </tr>\n",
       "    <tr>\n",
       "      <th>28</th>\n",
       "      <td></td>\n",
       "      <td>Vepr AKM/VPO-209</td>\n",
       "      <td>.366 TKM</td>\n",
       "      <td>Single</td>\n",
       "      <td>600</td>\n",
       "      <td>VPO-209 was created on the platform of Klashni...</td>\n",
       "      <td>None</td>\n",
       "    </tr>\n",
       "    <tr>\n",
       "      <th>29</th>\n",
       "      <td></td>\n",
       "      <td>Vepr KM/VPO-136</td>\n",
       "      <td>7.62x39mm</td>\n",
       "      <td>Single</td>\n",
       "      <td>600</td>\n",
       "      <td>Semi-automatic hunting carbine of 7.62x39 mm c...</td>\n",
       "      <td>None</td>\n",
       "    </tr>\n",
       "    <tr>\n",
       "      <th>...</th>\n",
       "      <td>...</td>\n",
       "      <td>...</td>\n",
       "      <td>...</td>\n",
       "      <td>...</td>\n",
       "      <td>...</td>\n",
       "      <td>...</td>\n",
       "      <td>...</td>\n",
       "    </tr>\n",
       "    <tr>\n",
       "      <th>188</th>\n",
       "      <td></td>\n",
       "      <td>Chiappa Rhino 20/40/50/60DS</td>\n",
       "      <td>.357 Magnum, 9x19mm Parabellum, .40 S&amp;W and 9x...</td>\n",
       "      <td>Confirmed with screenshots</td>\n",
       "      <td>None</td>\n",
       "      <td>None</td>\n",
       "      <td>None</td>\n",
       "    </tr>\n",
       "    <tr>\n",
       "      <th>189</th>\n",
       "      <td></td>\n",
       "      <td>CZ 75</td>\n",
       "      <td>9x19mm Parabellum, 9x21mm and .40 S&amp;W</td>\n",
       "      <td>Confirmed on Reddit</td>\n",
       "      <td>None</td>\n",
       "      <td>None</td>\n",
       "      <td>None</td>\n",
       "    </tr>\n",
       "    <tr>\n",
       "      <th>190</th>\n",
       "      <td></td>\n",
       "      <td>CZ P-09</td>\n",
       "      <td>9x19mm Parabellum</td>\n",
       "      <td>Confirmed on Talking Tarkov № 2</td>\n",
       "      <td>None</td>\n",
       "      <td>None</td>\n",
       "      <td>None</td>\n",
       "    </tr>\n",
       "    <tr>\n",
       "      <th>191</th>\n",
       "      <td></td>\n",
       "      <td>EAA Thor</td>\n",
       "      <td>.500 S&amp;W Magnum, .223 Remington, .308 Winchest...</td>\n",
       "      <td>Confirmed on russian audiopodcast with BSG</td>\n",
       "      <td>None</td>\n",
       "      <td>None</td>\n",
       "      <td>None</td>\n",
       "    </tr>\n",
       "    <tr>\n",
       "      <th>192</th>\n",
       "      <td></td>\n",
       "      <td>GSh-18</td>\n",
       "      <td>9x19mm Parabellum</td>\n",
       "      <td>Confirmed on Instagram</td>\n",
       "      <td>None</td>\n",
       "      <td>None</td>\n",
       "      <td>None</td>\n",
       "    </tr>\n",
       "    <tr>\n",
       "      <th>193</th>\n",
       "      <td></td>\n",
       "      <td>Glock 19</td>\n",
       "      <td>9x19mm Parabellum</td>\n",
       "      <td>Confirmed in Talking Tarkov Devblog № 4</td>\n",
       "      <td>None</td>\n",
       "      <td>None</td>\n",
       "      <td>None</td>\n",
       "    </tr>\n",
       "    <tr>\n",
       "      <th>194</th>\n",
       "      <td></td>\n",
       "      <td>Heckler &amp; Koch USP</td>\n",
       "      <td>9x19mm Parabellum, .45 ACP and .40 S&amp;W</td>\n",
       "      <td>Confirmed on Talking Tarkov № 2\\nConfirmed on ...</td>\n",
       "      <td>None</td>\n",
       "      <td>None</td>\n",
       "      <td>None</td>\n",
       "    </tr>\n",
       "    <tr>\n",
       "      <th>195</th>\n",
       "      <td></td>\n",
       "      <td>IMI Desert Eagle</td>\n",
       "      <td>.50 Action Express, 429 DE, .44 Magnum, .357 M...</td>\n",
       "      <td>Confirmed on Reddit</td>\n",
       "      <td>None</td>\n",
       "      <td>None</td>\n",
       "      <td>None</td>\n",
       "    </tr>\n",
       "    <tr>\n",
       "      <th>196</th>\n",
       "      <td></td>\n",
       "      <td>Jericho 941</td>\n",
       "      <td>9x19 Parabellum, .40S&amp;W, .45 ACP</td>\n",
       "      <td>Confirmed on Talking Tarkov № 2</td>\n",
       "      <td>None</td>\n",
       "      <td>None</td>\n",
       "      <td>None</td>\n",
       "    </tr>\n",
       "    <tr>\n",
       "      <th>197</th>\n",
       "      <td></td>\n",
       "      <td>PMM</td>\n",
       "      <td>9x18mm Makarov</td>\n",
       "      <td>Confirmed on russian audiopodcast with BSG</td>\n",
       "      <td>None</td>\n",
       "      <td>None</td>\n",
       "      <td>None</td>\n",
       "    </tr>\n",
       "    <tr>\n",
       "      <th>198</th>\n",
       "      <td></td>\n",
       "      <td>PSS</td>\n",
       "      <td>7.62x42mm SP-4</td>\n",
       "      <td>Present in a report on the Youtube channel of ...</td>\n",
       "      <td>None</td>\n",
       "      <td>None</td>\n",
       "      <td>None</td>\n",
       "    </tr>\n",
       "    <tr>\n",
       "      <th>199</th>\n",
       "      <td></td>\n",
       "      <td>Smith &amp; Wesson M&amp;P</td>\n",
       "      <td>.45 ACP, 9x19mm Parabellum, .40 S&amp;W, .357 SIG</td>\n",
       "      <td>Confirmed on Talking Tarkov № 2</td>\n",
       "      <td>None</td>\n",
       "      <td>None</td>\n",
       "      <td>None</td>\n",
       "    </tr>\n",
       "    <tr>\n",
       "      <th>200</th>\n",
       "      <td>Name</td>\n",
       "      <td>Image</td>\n",
       "      <td>Cartridge</td>\n",
       "      <td>Status</td>\n",
       "      <td>None</td>\n",
       "      <td>None</td>\n",
       "      <td>None</td>\n",
       "    </tr>\n",
       "    <tr>\n",
       "      <th>201</th>\n",
       "      <td></td>\n",
       "      <td>GP-25</td>\n",
       "      <td>40x53mm</td>\n",
       "      <td>Confirmed on TarkovTV DevBlog № 4</td>\n",
       "      <td>None</td>\n",
       "      <td>None</td>\n",
       "      <td>None</td>\n",
       "    </tr>\n",
       "    <tr>\n",
       "      <th>202</th>\n",
       "      <td></td>\n",
       "      <td>GP-30M</td>\n",
       "      <td>40x53mm</td>\n",
       "      <td>Twitter</td>\n",
       "      <td>None</td>\n",
       "      <td>None</td>\n",
       "      <td>None</td>\n",
       "    </tr>\n",
       "    <tr>\n",
       "      <th>203</th>\n",
       "      <td></td>\n",
       "      <td>GP-34</td>\n",
       "      <td>40x53mm</td>\n",
       "      <td>Temporarily removed due to bugs</td>\n",
       "      <td>None</td>\n",
       "      <td>None</td>\n",
       "      <td>None</td>\n",
       "    </tr>\n",
       "    <tr>\n",
       "      <th>204</th>\n",
       "      <td></td>\n",
       "      <td>M203</td>\n",
       "      <td>40x46 mm</td>\n",
       "      <td>Confirmed on TarkovTV DevBlog № 4</td>\n",
       "      <td>None</td>\n",
       "      <td>None</td>\n",
       "      <td>None</td>\n",
       "    </tr>\n",
       "    <tr>\n",
       "      <th>205</th>\n",
       "      <td></td>\n",
       "      <td>Milkor MGL</td>\n",
       "      <td>40x46 mm and 40x51mm</td>\n",
       "      <td>Confirmed on Talking Tarkov № 6</td>\n",
       "      <td>None</td>\n",
       "      <td>None</td>\n",
       "      <td>None</td>\n",
       "    </tr>\n",
       "    <tr>\n",
       "      <th>206</th>\n",
       "      <td></td>\n",
       "      <td>RG-6</td>\n",
       "      <td>40x53mm</td>\n",
       "      <td>Confirmed on Talking Tarkov № 1</td>\n",
       "      <td>None</td>\n",
       "      <td>None</td>\n",
       "      <td>None</td>\n",
       "    </tr>\n",
       "    <tr>\n",
       "      <th>207</th>\n",
       "      <td></td>\n",
       "      <td>RPG-7</td>\n",
       "      <td>40mm</td>\n",
       "      <td>Image of trigger and grip posted to\\nBSG's Twi...</td>\n",
       "      <td>None</td>\n",
       "      <td>None</td>\n",
       "      <td>None</td>\n",
       "    </tr>\n",
       "    <tr>\n",
       "      <th>208</th>\n",
       "      <td>Name</td>\n",
       "      <td>Image</td>\n",
       "      <td>Status</td>\n",
       "      <td>None</td>\n",
       "      <td>None</td>\n",
       "      <td>None</td>\n",
       "      <td>None</td>\n",
       "    </tr>\n",
       "    <tr>\n",
       "      <th>209</th>\n",
       "      <td>Name</td>\n",
       "      <td>Image</td>\n",
       "      <td>Type</td>\n",
       "      <td>Status</td>\n",
       "      <td>None</td>\n",
       "      <td>None</td>\n",
       "      <td>None</td>\n",
       "    </tr>\n",
       "    <tr>\n",
       "      <th>210</th>\n",
       "      <td></td>\n",
       "      <td>AN grenade (model unknown, could be an AN M14 ...</td>\n",
       "      <td>model unknown</td>\n",
       "      <td>Confirmed with this screenshot</td>\n",
       "      <td>None</td>\n",
       "      <td>None</td>\n",
       "      <td>None</td>\n",
       "    </tr>\n",
       "    <tr>\n",
       "      <th>211</th>\n",
       "      <td></td>\n",
       "      <td>RGN offensive grenade (brown) and RGO defensiv...</td>\n",
       "      <td>Impact Grenade</td>\n",
       "      <td>Located within game files and confirmed with t...</td>\n",
       "      <td>None</td>\n",
       "      <td>None</td>\n",
       "      <td>None</td>\n",
       "    </tr>\n",
       "    <tr>\n",
       "      <th>212</th>\n",
       "      <td>Name</td>\n",
       "      <td>Image</td>\n",
       "      <td>Type</td>\n",
       "      <td>Status</td>\n",
       "      <td>None</td>\n",
       "      <td>None</td>\n",
       "      <td>None</td>\n",
       "    </tr>\n",
       "    <tr>\n",
       "      <th>213</th>\n",
       "      <td></td>\n",
       "      <td>OZM72 wire mine with MUV2 fuse</td>\n",
       "      <td>Wire Mine</td>\n",
       "      <td>Confirmed with this screenshot on the Facebook...</td>\n",
       "      <td>None</td>\n",
       "      <td>None</td>\n",
       "      <td>None</td>\n",
       "    </tr>\n",
       "    <tr>\n",
       "      <th>214</th>\n",
       "      <td></td>\n",
       "      <td>PMN2 anti personnel mine</td>\n",
       "      <td>Anti personnel mine</td>\n",
       "      <td>Confirmed with this screenshot on the Facebook...</td>\n",
       "      <td>None</td>\n",
       "      <td>None</td>\n",
       "      <td>None</td>\n",
       "    </tr>\n",
       "    <tr>\n",
       "      <th>215</th>\n",
       "      <td></td>\n",
       "      <td>PMN4 anti personnel mine</td>\n",
       "      <td>Anti personnel mine</td>\n",
       "      <td>Confirmed in Talking Tarkov № 5</td>\n",
       "      <td>None</td>\n",
       "      <td>None</td>\n",
       "      <td>None</td>\n",
       "    </tr>\n",
       "    <tr>\n",
       "      <th>216</th>\n",
       "      <td></td>\n",
       "      <td>PFM1 anti personnel mine</td>\n",
       "      <td>Anti personnel mine</td>\n",
       "      <td>Confirmed in Talking Tarkov № 6</td>\n",
       "      <td>None</td>\n",
       "      <td>None</td>\n",
       "      <td>None</td>\n",
       "    </tr>\n",
       "    <tr>\n",
       "      <th>217</th>\n",
       "      <td></td>\n",
       "      <td>MON-50</td>\n",
       "      <td>Anti personnel mine</td>\n",
       "      <td>Confirmed with this screenshot on the Facebook...</td>\n",
       "      <td>None</td>\n",
       "      <td>None</td>\n",
       "      <td>None</td>\n",
       "    </tr>\n",
       "  </tbody>\n",
       "</table>\n",
       "<p>218 rows × 7 columns</p>\n",
       "</div>"
      ],
      "text/plain": [
       "    Index                                               Name  \\\n",
       "0                                                  ADAR 2-15   \n",
       "1                                                     AK-101   \n",
       "2                                                     AK-102   \n",
       "3                                                     AK-103   \n",
       "4                                                     AK-104   \n",
       "5                                                     AK-105   \n",
       "6                                                      AK-74   \n",
       "7                                                     AK-74M   \n",
       "8                                                     AK-74N   \n",
       "9                                                        AKM   \n",
       "10                                                      AKMN   \n",
       "11                                                      AKMS   \n",
       "12                                                     AKMSN   \n",
       "13                                                    AKS-74   \n",
       "14                                                   AKS-74N   \n",
       "15                                                   AKS-74U   \n",
       "16                                                  AKS-74UB   \n",
       "17                                                  AKS-74UN   \n",
       "18                                                    ASh-12   \n",
       "19                                                    AS VAL   \n",
       "20                                            DT MDR 5.56x45   \n",
       "21                                               DT MDR .308   \n",
       "22                                                  HK 416A5   \n",
       "23                                       Kel-Tec RFB 7.62x51   \n",
       "24                                                      M4A1   \n",
       "25                                                       MCX   \n",
       "26                                                     SA-58   \n",
       "27                                                 TX-15 DML   \n",
       "28                                          Vepr AKM/VPO-209   \n",
       "29                                           Vepr KM/VPO-136   \n",
       "..    ...                                                ...   \n",
       "188                              Chiappa Rhino 20/40/50/60DS   \n",
       "189                                                    CZ 75   \n",
       "190                                                  CZ P-09   \n",
       "191                                                 EAA Thor   \n",
       "192                                                   GSh-18   \n",
       "193                                                 Glock 19   \n",
       "194                                       Heckler & Koch USP   \n",
       "195                                         IMI Desert Eagle   \n",
       "196                                              Jericho 941   \n",
       "197                                                      PMM   \n",
       "198                                                      PSS   \n",
       "199                                       Smith & Wesson M&P   \n",
       "200  Name                                              Image   \n",
       "201                                                    GP-25   \n",
       "202                                                   GP-30M   \n",
       "203                                                    GP-34   \n",
       "204                                                     M203   \n",
       "205                                               Milkor MGL   \n",
       "206                                                     RG-6   \n",
       "207                                                    RPG-7   \n",
       "208  Name                                              Image   \n",
       "209  Name                                              Image   \n",
       "210        AN grenade (model unknown, could be an AN M14 ...   \n",
       "211        RGN offensive grenade (brown) and RGO defensiv...   \n",
       "212  Name                                              Image   \n",
       "213                           OZM72 wire mine with MUV2 fuse   \n",
       "214                                 PMN2 anti personnel mine   \n",
       "215                                 PMN4 anti personnel mine   \n",
       "216                                 PFM1 anti personnel mine   \n",
       "217                                                   MON-50   \n",
       "\n",
       "                                             Cartridge  \\\n",
       "0                                       5.56x45mm NATO   \n",
       "1                                       5.56x45mm NATO   \n",
       "2                                       5.56x45mm NATO   \n",
       "3                                            7.62x39mm   \n",
       "4                                            7.62x39mm   \n",
       "5                                            5.45x39mm   \n",
       "6                                            5.45x39mm   \n",
       "7                                            5.45x39mm   \n",
       "8                                            5.45x39mm   \n",
       "9                                            7.62x39mm   \n",
       "10                                           7.62x39mm   \n",
       "11                                           7.62x39mm   \n",
       "12                                           7.62x39mm   \n",
       "13                                           5.45x39mm   \n",
       "14                                           5.45x39mm   \n",
       "15                                           5.45x39mm   \n",
       "16                                           5.45x39mm   \n",
       "17                                           5.45x39mm   \n",
       "18                                   12.7x55mm STs-130   \n",
       "19                                              9x39mm   \n",
       "20                                      5.56x45mm NATO   \n",
       "21                                      7.62x51mm NATO   \n",
       "22                                      5.56x45mm NATO   \n",
       "23                                      7.62x51mm NATO   \n",
       "24                                      5.56x45mm NATO   \n",
       "25                                       .300 Blackout   \n",
       "26                                      7.62x51mm NATO   \n",
       "27                                      5.56x45mm NATO   \n",
       "28                                            .366 TKM   \n",
       "29                                           7.62x39mm   \n",
       "..                                                 ...   \n",
       "188  .357 Magnum, 9x19mm Parabellum, .40 S&W and 9x...   \n",
       "189              9x19mm Parabellum, 9x21mm and .40 S&W   \n",
       "190                                  9x19mm Parabellum   \n",
       "191  .500 S&W Magnum, .223 Remington, .308 Winchest...   \n",
       "192                                  9x19mm Parabellum   \n",
       "193                                  9x19mm Parabellum   \n",
       "194             9x19mm Parabellum, .45 ACP and .40 S&W   \n",
       "195  .50 Action Express, 429 DE, .44 Magnum, .357 M...   \n",
       "196                   9x19 Parabellum, .40S&W, .45 ACP   \n",
       "197                                     9x18mm Makarov   \n",
       "198                                     7.62x42mm SP-4   \n",
       "199      .45 ACP, 9x19mm Parabellum, .40 S&W, .357 SIG   \n",
       "200                                          Cartridge   \n",
       "201                                            40x53mm   \n",
       "202                                            40x53mm   \n",
       "203                                            40x53mm   \n",
       "204                                           40x46 mm   \n",
       "205                               40x46 mm and 40x51mm   \n",
       "206                                            40x53mm   \n",
       "207                                               40mm   \n",
       "208                                             Status   \n",
       "209                                               Type   \n",
       "210                                      model unknown   \n",
       "211                                     Impact Grenade   \n",
       "212                                               Type   \n",
       "213                                          Wire Mine   \n",
       "214                                Anti personnel mine   \n",
       "215                                Anti personnel mine   \n",
       "216                                Anti personnel mine   \n",
       "217                                Anti personnel mine   \n",
       "\n",
       "                                          Firing Modes Rate of Fire  \\\n",
       "0                                               Single          800   \n",
       "1                                      SingleFull‑Auto          650   \n",
       "2                                      SingleFull‑Auto          600   \n",
       "3                                      SingleFull‑Auto          600   \n",
       "4                                      SingleFull‑Auto          600   \n",
       "5                                      SingleFull‑Auto          600   \n",
       "6                                      SingleFull‑Auto          650   \n",
       "7                                      SingleFull‑Auto          650   \n",
       "8                                      SingleFull‑Auto          650   \n",
       "9                                      SingleFull‑Auto          600   \n",
       "10                                     SingleFull‑Auto          600   \n",
       "11                                     SingleFull‑Auto          600   \n",
       "12                                     SingleFull‑Auto          600   \n",
       "13                                     SingleFull‑Auto          650   \n",
       "14                                     SingleFull‑Auto          650   \n",
       "15                                     SingleFull‑Auto          650   \n",
       "16                                     SingleFull‑Auto          650   \n",
       "17                                     SingleFull‑Auto          650   \n",
       "18                                     SingleFull‑Auto          650   \n",
       "19                                     SingleFull‑Auto          900   \n",
       "20                                     SingleFull‑Auto          650   \n",
       "21                                     SingleFull‑Auto          650   \n",
       "22                                     SingleFull‑Auto          850   \n",
       "23                                              Single          700   \n",
       "24                                     SingleFull‑Auto          800   \n",
       "25                                     SingleFull‑Auto          800   \n",
       "26                                     SingleFull‑Auto          700   \n",
       "27                                              Single          800   \n",
       "28                                              Single          600   \n",
       "29                                              Single          600   \n",
       "..                                                 ...          ...   \n",
       "188                         Confirmed with screenshots         None   \n",
       "189                                Confirmed on Reddit         None   \n",
       "190                    Confirmed on Talking Tarkov № 2         None   \n",
       "191         Confirmed on russian audiopodcast with BSG         None   \n",
       "192                             Confirmed on Instagram         None   \n",
       "193            Confirmed in Talking Tarkov Devblog № 4         None   \n",
       "194  Confirmed on Talking Tarkov № 2\\nConfirmed on ...         None   \n",
       "195                                Confirmed on Reddit         None   \n",
       "196                    Confirmed on Talking Tarkov № 2         None   \n",
       "197         Confirmed on russian audiopodcast with BSG         None   \n",
       "198  Present in a report on the Youtube channel of ...         None   \n",
       "199                    Confirmed on Talking Tarkov № 2         None   \n",
       "200                                             Status         None   \n",
       "201                  Confirmed on TarkovTV DevBlog № 4         None   \n",
       "202                                            Twitter         None   \n",
       "203                    Temporarily removed due to bugs         None   \n",
       "204                  Confirmed on TarkovTV DevBlog № 4         None   \n",
       "205                    Confirmed on Talking Tarkov № 6         None   \n",
       "206                    Confirmed on Talking Tarkov № 1         None   \n",
       "207  Image of trigger and grip posted to\\nBSG's Twi...         None   \n",
       "208                                               None         None   \n",
       "209                                             Status         None   \n",
       "210                     Confirmed with this screenshot         None   \n",
       "211  Located within game files and confirmed with t...         None   \n",
       "212                                             Status         None   \n",
       "213  Confirmed with this screenshot on the Facebook...         None   \n",
       "214  Confirmed with this screenshot on the Facebook...         None   \n",
       "215                    Confirmed in Talking Tarkov № 5         None   \n",
       "216                    Confirmed in Talking Tarkov № 6         None   \n",
       "217  Confirmed with this screenshot on the Facebook...         None   \n",
       "\n",
       "                                           Description Image  \n",
       "0    Russian civilian carbine ADAR 2-15 is based on...  None  \n",
       "1    Export version of a Kalashnikov chambered in 5...  None  \n",
       "2    Short, export version of a Kalashnikov 5.56 mm...  None  \n",
       "3    Kalashnikov 7.62 mm assault rifle equipped wit...  None  \n",
       "4    Short Kalashnikov 7.62 mm assault rifle equipp...  None  \n",
       "5    Short Kalashnikov 5.45 mm modernized assault r...  None  \n",
       "6    Kalashnikov 5.45 mm assault rifle, developed i...  None  \n",
       "7    Kalashnikov 5.45 mm modernized assault rifle e...  None  \n",
       "8    Kalashnikov 5.45 mm assault rifle, developed i...  None  \n",
       "9    Modernized 7.62mm Kalashnikov, adopted in 1959...  None  \n",
       "10   AKMN (with NSPUM-AKMN2 scope) is a small arms ...  None  \n",
       "11   AKMS (GRAU Index - 6P4) is a variant of the AK...  None  \n",
       "12   AKMSN - is a modified AKMS with dovetail mount...  None  \n",
       "13   Kalashnikov 5.45 mm assault rifle equipped wit...  None  \n",
       "14   Kalashnikov 5.45 mm assault rifle equipped wit...  None  \n",
       "15   Reduced version of AKS-74 assault rifle, devel...  None  \n",
       "16   Special version of the AKS-74U, modification B...  None  \n",
       "17   Reduced version of the AKS-74 assault rifle, d...  None  \n",
       "18   The ASh-12.7 (which stands for \"Automatic assa...  None  \n",
       "19   AS VAL (Avtomat Specialniy, Special Automatic ...  None  \n",
       "20   The product of the US-based company Desert Tec...  None  \n",
       "21   The product of the US-based company Desert Tec...  None  \n",
       "22   The HK416 A5 is a further development of the H...  None  \n",
       "23   The Kel-Tec RFB (Rifle, Forward-ejection, Bull...  None  \n",
       "24   Colt M4A1 - an assault rifle (carbine), design...  None  \n",
       "25   The MCX line, designed and manufactured by SIG...  None  \n",
       "26   SA-58 OSW (Operations Specialist Weapon) manuf...  None  \n",
       "27   The TX15 Designated Marksman Light (DML) serie...  None  \n",
       "28   VPO-209 was created on the platform of Klashni...  None  \n",
       "29   Semi-automatic hunting carbine of 7.62x39 mm c...  None  \n",
       "..                                                 ...   ...  \n",
       "188                                               None  None  \n",
       "189                                               None  None  \n",
       "190                                               None  None  \n",
       "191                                               None  None  \n",
       "192                                               None  None  \n",
       "193                                               None  None  \n",
       "194                                               None  None  \n",
       "195                                               None  None  \n",
       "196                                               None  None  \n",
       "197                                               None  None  \n",
       "198                                               None  None  \n",
       "199                                               None  None  \n",
       "200                                               None  None  \n",
       "201                                               None  None  \n",
       "202                                               None  None  \n",
       "203                                               None  None  \n",
       "204                                               None  None  \n",
       "205                                               None  None  \n",
       "206                                               None  None  \n",
       "207                                               None  None  \n",
       "208                                               None  None  \n",
       "209                                               None  None  \n",
       "210                                               None  None  \n",
       "211                                               None  None  \n",
       "212                                               None  None  \n",
       "213                                               None  None  \n",
       "214                                               None  None  \n",
       "215                                               None  None  \n",
       "216                                               None  None  \n",
       "217                                               None  None  \n",
       "\n",
       "[218 rows x 7 columns]"
      ]
     },
     "execution_count": 64,
     "metadata": {},
     "output_type": "execute_result"
    }
   ],
   "source": [
    "WeaponsDf = pd.DataFrame(WeaponsData)\n",
    "\n",
    "#WeaponsDf.head()\n",
    "\n",
    "WeaponsDf = WeaponsDf.reset_index(drop=True)\n",
    "\n",
    "headerAdjust = WeaponsDf.iloc[0]\n",
    "\n",
    "WeaponsDf = WeaponsDf[1:]\n",
    "\n",
    "WeaponsDf.columns = headerAdjust\n",
    "\n",
    "#print(len(WeaponsDf.columns))\n",
    "\n",
    "WeaponsDf.columns = ['Index','Name','Cartridge','Firing Modes','Rate of Fire','Description','Image']\n",
    "\n",
    "WeaponsDf.reset_index(drop=True,inplace=True)\n",
    "WeaponsDf"
   ]
  },
  {
   "cell_type": "markdown",
   "metadata": {},
   "source": [
    "## Adding images ##"
   ]
  },
  {
   "cell_type": "code",
   "execution_count": 65,
   "metadata": {},
   "outputs": [
    {
     "data": {
      "text/html": [
       "<div>\n",
       "<style scoped>\n",
       "    .dataframe tbody tr th:only-of-type {\n",
       "        vertical-align: middle;\n",
       "    }\n",
       "\n",
       "    .dataframe tbody tr th {\n",
       "        vertical-align: top;\n",
       "    }\n",
       "\n",
       "    .dataframe thead th {\n",
       "        text-align: right;\n",
       "    }\n",
       "</style>\n",
       "<table border=\"1\" class=\"dataframe\">\n",
       "  <thead>\n",
       "    <tr style=\"text-align: right;\">\n",
       "      <th></th>\n",
       "      <th>Index</th>\n",
       "      <th>Name</th>\n",
       "      <th>Cartridge</th>\n",
       "      <th>Firing Modes</th>\n",
       "      <th>Rate of Fire</th>\n",
       "      <th>Description</th>\n",
       "      <th>Image</th>\n",
       "    </tr>\n",
       "  </thead>\n",
       "  <tbody>\n",
       "    <tr>\n",
       "      <th>0</th>\n",
       "      <td></td>\n",
       "      <td>ADAR 2-15</td>\n",
       "      <td>5.56x45mm NATO</td>\n",
       "      <td>Single</td>\n",
       "      <td>800</td>\n",
       "      <td>Russian civilian carbine ADAR 2-15 is based on...</td>\n",
       "      <td>https://static.wikia.nocookie.net/escapefromta...</td>\n",
       "    </tr>\n",
       "    <tr>\n",
       "      <th>1</th>\n",
       "      <td></td>\n",
       "      <td>AK-101</td>\n",
       "      <td>5.56x45mm NATO</td>\n",
       "      <td>SingleFull‑Auto</td>\n",
       "      <td>650</td>\n",
       "      <td>Export version of a Kalashnikov chambered in 5...</td>\n",
       "      <td>https://static.wikia.nocookie.net/escapefromta...</td>\n",
       "    </tr>\n",
       "    <tr>\n",
       "      <th>2</th>\n",
       "      <td></td>\n",
       "      <td>AK-102</td>\n",
       "      <td>5.56x45mm NATO</td>\n",
       "      <td>SingleFull‑Auto</td>\n",
       "      <td>600</td>\n",
       "      <td>Short, export version of a Kalashnikov 5.56 mm...</td>\n",
       "      <td>https://static.wikia.nocookie.net/escapefromta...</td>\n",
       "    </tr>\n",
       "    <tr>\n",
       "      <th>3</th>\n",
       "      <td></td>\n",
       "      <td>AK-103</td>\n",
       "      <td>7.62x39mm</td>\n",
       "      <td>SingleFull‑Auto</td>\n",
       "      <td>600</td>\n",
       "      <td>Kalashnikov 7.62 mm assault rifle equipped wit...</td>\n",
       "      <td>https://static.wikia.nocookie.net/escapefromta...</td>\n",
       "    </tr>\n",
       "    <tr>\n",
       "      <th>4</th>\n",
       "      <td></td>\n",
       "      <td>AK-104</td>\n",
       "      <td>7.62x39mm</td>\n",
       "      <td>SingleFull‑Auto</td>\n",
       "      <td>600</td>\n",
       "      <td>Short Kalashnikov 7.62 mm assault rifle equipp...</td>\n",
       "      <td>https://static.wikia.nocookie.net/escapefromta...</td>\n",
       "    </tr>\n",
       "    <tr>\n",
       "      <th>5</th>\n",
       "      <td></td>\n",
       "      <td>AK-105</td>\n",
       "      <td>5.45x39mm</td>\n",
       "      <td>SingleFull‑Auto</td>\n",
       "      <td>600</td>\n",
       "      <td>Short Kalashnikov 5.45 mm modernized assault r...</td>\n",
       "      <td>https://static.wikia.nocookie.net/escapefromta...</td>\n",
       "    </tr>\n",
       "    <tr>\n",
       "      <th>6</th>\n",
       "      <td></td>\n",
       "      <td>AK-74</td>\n",
       "      <td>5.45x39mm</td>\n",
       "      <td>SingleFull‑Auto</td>\n",
       "      <td>650</td>\n",
       "      <td>Kalashnikov 5.45 mm assault rifle, developed i...</td>\n",
       "      <td>https://static.wikia.nocookie.net/escapefromta...</td>\n",
       "    </tr>\n",
       "    <tr>\n",
       "      <th>7</th>\n",
       "      <td></td>\n",
       "      <td>AK-74M</td>\n",
       "      <td>5.45x39mm</td>\n",
       "      <td>SingleFull‑Auto</td>\n",
       "      <td>650</td>\n",
       "      <td>Kalashnikov 5.45 mm modernized assault rifle e...</td>\n",
       "      <td>https://static.wikia.nocookie.net/escapefromta...</td>\n",
       "    </tr>\n",
       "    <tr>\n",
       "      <th>8</th>\n",
       "      <td></td>\n",
       "      <td>AK-74N</td>\n",
       "      <td>5.45x39mm</td>\n",
       "      <td>SingleFull‑Auto</td>\n",
       "      <td>650</td>\n",
       "      <td>Kalashnikov 5.45 mm assault rifle, developed i...</td>\n",
       "      <td>https://static.wikia.nocookie.net/escapefromta...</td>\n",
       "    </tr>\n",
       "    <tr>\n",
       "      <th>9</th>\n",
       "      <td></td>\n",
       "      <td>AKM</td>\n",
       "      <td>7.62x39mm</td>\n",
       "      <td>SingleFull‑Auto</td>\n",
       "      <td>600</td>\n",
       "      <td>Modernized 7.62mm Kalashnikov, adopted in 1959...</td>\n",
       "      <td>https://static.wikia.nocookie.net/escapefromta...</td>\n",
       "    </tr>\n",
       "    <tr>\n",
       "      <th>10</th>\n",
       "      <td></td>\n",
       "      <td>AKMN</td>\n",
       "      <td>7.62x39mm</td>\n",
       "      <td>SingleFull‑Auto</td>\n",
       "      <td>600</td>\n",
       "      <td>AKMN (with NSPUM-AKMN2 scope) is a small arms ...</td>\n",
       "      <td>https://static.wikia.nocookie.net/escapefromta...</td>\n",
       "    </tr>\n",
       "    <tr>\n",
       "      <th>11</th>\n",
       "      <td></td>\n",
       "      <td>AKMS</td>\n",
       "      <td>7.62x39mm</td>\n",
       "      <td>SingleFull‑Auto</td>\n",
       "      <td>600</td>\n",
       "      <td>AKMS (GRAU Index - 6P4) is a variant of the AK...</td>\n",
       "      <td>https://static.wikia.nocookie.net/escapefromta...</td>\n",
       "    </tr>\n",
       "    <tr>\n",
       "      <th>12</th>\n",
       "      <td></td>\n",
       "      <td>AKMSN</td>\n",
       "      <td>7.62x39mm</td>\n",
       "      <td>SingleFull‑Auto</td>\n",
       "      <td>600</td>\n",
       "      <td>AKMSN - is a modified AKMS with dovetail mount...</td>\n",
       "      <td>https://static.wikia.nocookie.net/escapefromta...</td>\n",
       "    </tr>\n",
       "    <tr>\n",
       "      <th>13</th>\n",
       "      <td></td>\n",
       "      <td>AKS-74</td>\n",
       "      <td>5.45x39mm</td>\n",
       "      <td>SingleFull‑Auto</td>\n",
       "      <td>650</td>\n",
       "      <td>Kalashnikov 5.45 mm assault rifle equipped wit...</td>\n",
       "      <td>https://static.wikia.nocookie.net/escapefromta...</td>\n",
       "    </tr>\n",
       "    <tr>\n",
       "      <th>14</th>\n",
       "      <td></td>\n",
       "      <td>AKS-74N</td>\n",
       "      <td>5.45x39mm</td>\n",
       "      <td>SingleFull‑Auto</td>\n",
       "      <td>650</td>\n",
       "      <td>Kalashnikov 5.45 mm assault rifle equipped wit...</td>\n",
       "      <td>https://static.wikia.nocookie.net/escapefromta...</td>\n",
       "    </tr>\n",
       "    <tr>\n",
       "      <th>15</th>\n",
       "      <td></td>\n",
       "      <td>AKS-74U</td>\n",
       "      <td>5.45x39mm</td>\n",
       "      <td>SingleFull‑Auto</td>\n",
       "      <td>650</td>\n",
       "      <td>Reduced version of AKS-74 assault rifle, devel...</td>\n",
       "      <td>https://static.wikia.nocookie.net/escapefromta...</td>\n",
       "    </tr>\n",
       "    <tr>\n",
       "      <th>16</th>\n",
       "      <td></td>\n",
       "      <td>AKS-74UB</td>\n",
       "      <td>5.45x39mm</td>\n",
       "      <td>SingleFull‑Auto</td>\n",
       "      <td>650</td>\n",
       "      <td>Special version of the AKS-74U, modification B...</td>\n",
       "      <td>https://static.wikia.nocookie.net/escapefromta...</td>\n",
       "    </tr>\n",
       "    <tr>\n",
       "      <th>17</th>\n",
       "      <td></td>\n",
       "      <td>AKS-74UN</td>\n",
       "      <td>5.45x39mm</td>\n",
       "      <td>SingleFull‑Auto</td>\n",
       "      <td>650</td>\n",
       "      <td>Reduced version of the AKS-74 assault rifle, d...</td>\n",
       "      <td>https://static.wikia.nocookie.net/escapefromta...</td>\n",
       "    </tr>\n",
       "    <tr>\n",
       "      <th>18</th>\n",
       "      <td></td>\n",
       "      <td>ASh-12</td>\n",
       "      <td>12.7x55mm STs-130</td>\n",
       "      <td>SingleFull‑Auto</td>\n",
       "      <td>650</td>\n",
       "      <td>The ASh-12.7 (which stands for \"Automatic assa...</td>\n",
       "      <td>https://static.wikia.nocookie.net/escapefromta...</td>\n",
       "    </tr>\n",
       "    <tr>\n",
       "      <th>19</th>\n",
       "      <td></td>\n",
       "      <td>AS VAL</td>\n",
       "      <td>9x39mm</td>\n",
       "      <td>SingleFull‑Auto</td>\n",
       "      <td>900</td>\n",
       "      <td>AS VAL (Avtomat Specialniy, Special Automatic ...</td>\n",
       "      <td>https://static.wikia.nocookie.net/escapefromta...</td>\n",
       "    </tr>\n",
       "    <tr>\n",
       "      <th>20</th>\n",
       "      <td></td>\n",
       "      <td>DT MDR 5.56x45</td>\n",
       "      <td>5.56x45mm NATO</td>\n",
       "      <td>SingleFull‑Auto</td>\n",
       "      <td>650</td>\n",
       "      <td>The product of the US-based company Desert Tec...</td>\n",
       "      <td>https://static.wikia.nocookie.net/escapefromta...</td>\n",
       "    </tr>\n",
       "    <tr>\n",
       "      <th>21</th>\n",
       "      <td></td>\n",
       "      <td>DT MDR .308</td>\n",
       "      <td>7.62x51mm NATO</td>\n",
       "      <td>SingleFull‑Auto</td>\n",
       "      <td>650</td>\n",
       "      <td>The product of the US-based company Desert Tec...</td>\n",
       "      <td>https://static.wikia.nocookie.net/escapefromta...</td>\n",
       "    </tr>\n",
       "    <tr>\n",
       "      <th>22</th>\n",
       "      <td></td>\n",
       "      <td>HK 416A5</td>\n",
       "      <td>5.56x45mm NATO</td>\n",
       "      <td>SingleFull‑Auto</td>\n",
       "      <td>850</td>\n",
       "      <td>The HK416 A5 is a further development of the H...</td>\n",
       "      <td>https://static.wikia.nocookie.net/escapefromta...</td>\n",
       "    </tr>\n",
       "    <tr>\n",
       "      <th>23</th>\n",
       "      <td></td>\n",
       "      <td>Kel-Tec RFB 7.62x51</td>\n",
       "      <td>7.62x51mm NATO</td>\n",
       "      <td>Single</td>\n",
       "      <td>700</td>\n",
       "      <td>The Kel-Tec RFB (Rifle, Forward-ejection, Bull...</td>\n",
       "      <td>https://static.wikia.nocookie.net/escapefromta...</td>\n",
       "    </tr>\n",
       "    <tr>\n",
       "      <th>24</th>\n",
       "      <td></td>\n",
       "      <td>M4A1</td>\n",
       "      <td>5.56x45mm NATO</td>\n",
       "      <td>SingleFull‑Auto</td>\n",
       "      <td>800</td>\n",
       "      <td>Colt M4A1 - an assault rifle (carbine), design...</td>\n",
       "      <td>https://static.wikia.nocookie.net/escapefromta...</td>\n",
       "    </tr>\n",
       "    <tr>\n",
       "      <th>25</th>\n",
       "      <td></td>\n",
       "      <td>MCX</td>\n",
       "      <td>.300 Blackout</td>\n",
       "      <td>SingleFull‑Auto</td>\n",
       "      <td>800</td>\n",
       "      <td>The MCX line, designed and manufactured by SIG...</td>\n",
       "      <td>https://static.wikia.nocookie.net/escapefromta...</td>\n",
       "    </tr>\n",
       "    <tr>\n",
       "      <th>26</th>\n",
       "      <td></td>\n",
       "      <td>SA-58</td>\n",
       "      <td>7.62x51mm NATO</td>\n",
       "      <td>SingleFull‑Auto</td>\n",
       "      <td>700</td>\n",
       "      <td>SA-58 OSW (Operations Specialist Weapon) manuf...</td>\n",
       "      <td>https://static.wikia.nocookie.net/escapefromta...</td>\n",
       "    </tr>\n",
       "    <tr>\n",
       "      <th>27</th>\n",
       "      <td></td>\n",
       "      <td>TX-15 DML</td>\n",
       "      <td>5.56x45mm NATO</td>\n",
       "      <td>Single</td>\n",
       "      <td>800</td>\n",
       "      <td>The TX15 Designated Marksman Light (DML) serie...</td>\n",
       "      <td>https://static.wikia.nocookie.net/escapefromta...</td>\n",
       "    </tr>\n",
       "    <tr>\n",
       "      <th>28</th>\n",
       "      <td></td>\n",
       "      <td>Vepr AKM/VPO-209</td>\n",
       "      <td>.366 TKM</td>\n",
       "      <td>Single</td>\n",
       "      <td>600</td>\n",
       "      <td>VPO-209 was created on the platform of Klashni...</td>\n",
       "      <td>https://static.wikia.nocookie.net/escapefromta...</td>\n",
       "    </tr>\n",
       "    <tr>\n",
       "      <th>29</th>\n",
       "      <td></td>\n",
       "      <td>Vepr KM/VPO-136</td>\n",
       "      <td>7.62x39mm</td>\n",
       "      <td>Single</td>\n",
       "      <td>600</td>\n",
       "      <td>Semi-automatic hunting carbine of 7.62x39 mm c...</td>\n",
       "      <td>https://static.wikia.nocookie.net/escapefromta...</td>\n",
       "    </tr>\n",
       "    <tr>\n",
       "      <th>...</th>\n",
       "      <td>...</td>\n",
       "      <td>...</td>\n",
       "      <td>...</td>\n",
       "      <td>...</td>\n",
       "      <td>...</td>\n",
       "      <td>...</td>\n",
       "      <td>...</td>\n",
       "    </tr>\n",
       "    <tr>\n",
       "      <th>188</th>\n",
       "      <td></td>\n",
       "      <td>Chiappa Rhino 20/40/50/60DS</td>\n",
       "      <td>.357 Magnum, 9x19mm Parabellum, .40 S&amp;W and 9x...</td>\n",
       "      <td>Confirmed with screenshots</td>\n",
       "      <td>None</td>\n",
       "      <td>None</td>\n",
       "      <td>https://static.wikia.nocookie.net/escapefromta...</td>\n",
       "    </tr>\n",
       "    <tr>\n",
       "      <th>189</th>\n",
       "      <td></td>\n",
       "      <td>CZ 75</td>\n",
       "      <td>9x19mm Parabellum, 9x21mm and .40 S&amp;W</td>\n",
       "      <td>Confirmed on Reddit</td>\n",
       "      <td>None</td>\n",
       "      <td>None</td>\n",
       "      <td>https://static.wikia.nocookie.net/escapefromta...</td>\n",
       "    </tr>\n",
       "    <tr>\n",
       "      <th>190</th>\n",
       "      <td></td>\n",
       "      <td>CZ P-09</td>\n",
       "      <td>9x19mm Parabellum</td>\n",
       "      <td>Confirmed on Talking Tarkov № 2</td>\n",
       "      <td>None</td>\n",
       "      <td>None</td>\n",
       "      <td>https://static.wikia.nocookie.net/escapefromta...</td>\n",
       "    </tr>\n",
       "    <tr>\n",
       "      <th>191</th>\n",
       "      <td></td>\n",
       "      <td>EAA Thor</td>\n",
       "      <td>.500 S&amp;W Magnum, .223 Remington, .308 Winchest...</td>\n",
       "      <td>Confirmed on russian audiopodcast with BSG</td>\n",
       "      <td>None</td>\n",
       "      <td>None</td>\n",
       "      <td>https://static.wikia.nocookie.net/escapefromta...</td>\n",
       "    </tr>\n",
       "    <tr>\n",
       "      <th>192</th>\n",
       "      <td></td>\n",
       "      <td>GSh-18</td>\n",
       "      <td>9x19mm Parabellum</td>\n",
       "      <td>Confirmed on Instagram</td>\n",
       "      <td>None</td>\n",
       "      <td>None</td>\n",
       "      <td>https://static.wikia.nocookie.net/escapefromta...</td>\n",
       "    </tr>\n",
       "    <tr>\n",
       "      <th>193</th>\n",
       "      <td></td>\n",
       "      <td>Glock 19</td>\n",
       "      <td>9x19mm Parabellum</td>\n",
       "      <td>Confirmed in Talking Tarkov Devblog № 4</td>\n",
       "      <td>None</td>\n",
       "      <td>None</td>\n",
       "      <td>https://static.wikia.nocookie.net/escapefromta...</td>\n",
       "    </tr>\n",
       "    <tr>\n",
       "      <th>194</th>\n",
       "      <td></td>\n",
       "      <td>Heckler &amp; Koch USP</td>\n",
       "      <td>9x19mm Parabellum, .45 ACP and .40 S&amp;W</td>\n",
       "      <td>Confirmed on Talking Tarkov № 2\\nConfirmed on ...</td>\n",
       "      <td>None</td>\n",
       "      <td>None</td>\n",
       "      <td>https://static.wikia.nocookie.net/escapefromta...</td>\n",
       "    </tr>\n",
       "    <tr>\n",
       "      <th>195</th>\n",
       "      <td></td>\n",
       "      <td>IMI Desert Eagle</td>\n",
       "      <td>.50 Action Express, 429 DE, .44 Magnum, .357 M...</td>\n",
       "      <td>Confirmed on Reddit</td>\n",
       "      <td>None</td>\n",
       "      <td>None</td>\n",
       "      <td>https://static.wikia.nocookie.net/escapefromta...</td>\n",
       "    </tr>\n",
       "    <tr>\n",
       "      <th>196</th>\n",
       "      <td></td>\n",
       "      <td>Jericho 941</td>\n",
       "      <td>9x19 Parabellum, .40S&amp;W, .45 ACP</td>\n",
       "      <td>Confirmed on Talking Tarkov № 2</td>\n",
       "      <td>None</td>\n",
       "      <td>None</td>\n",
       "      <td>https://static.wikia.nocookie.net/escapefromta...</td>\n",
       "    </tr>\n",
       "    <tr>\n",
       "      <th>197</th>\n",
       "      <td></td>\n",
       "      <td>PMM</td>\n",
       "      <td>9x18mm Makarov</td>\n",
       "      <td>Confirmed on russian audiopodcast with BSG</td>\n",
       "      <td>None</td>\n",
       "      <td>None</td>\n",
       "      <td>https://static.wikia.nocookie.net/escapefromta...</td>\n",
       "    </tr>\n",
       "    <tr>\n",
       "      <th>198</th>\n",
       "      <td></td>\n",
       "      <td>PSS</td>\n",
       "      <td>7.62x42mm SP-4</td>\n",
       "      <td>Present in a report on the Youtube channel of ...</td>\n",
       "      <td>None</td>\n",
       "      <td>None</td>\n",
       "      <td>None</td>\n",
       "    </tr>\n",
       "    <tr>\n",
       "      <th>199</th>\n",
       "      <td></td>\n",
       "      <td>Smith &amp; Wesson M&amp;P</td>\n",
       "      <td>.45 ACP, 9x19mm Parabellum, .40 S&amp;W, .357 SIG</td>\n",
       "      <td>Confirmed on Talking Tarkov № 2</td>\n",
       "      <td>None</td>\n",
       "      <td>None</td>\n",
       "      <td>None</td>\n",
       "    </tr>\n",
       "    <tr>\n",
       "      <th>200</th>\n",
       "      <td>Name</td>\n",
       "      <td>Image</td>\n",
       "      <td>Cartridge</td>\n",
       "      <td>Status</td>\n",
       "      <td>None</td>\n",
       "      <td>None</td>\n",
       "      <td>None</td>\n",
       "    </tr>\n",
       "    <tr>\n",
       "      <th>201</th>\n",
       "      <td></td>\n",
       "      <td>GP-25</td>\n",
       "      <td>40x53mm</td>\n",
       "      <td>Confirmed on TarkovTV DevBlog № 4</td>\n",
       "      <td>None</td>\n",
       "      <td>None</td>\n",
       "      <td>None</td>\n",
       "    </tr>\n",
       "    <tr>\n",
       "      <th>202</th>\n",
       "      <td></td>\n",
       "      <td>GP-30M</td>\n",
       "      <td>40x53mm</td>\n",
       "      <td>Twitter</td>\n",
       "      <td>None</td>\n",
       "      <td>None</td>\n",
       "      <td>None</td>\n",
       "    </tr>\n",
       "    <tr>\n",
       "      <th>203</th>\n",
       "      <td></td>\n",
       "      <td>GP-34</td>\n",
       "      <td>40x53mm</td>\n",
       "      <td>Temporarily removed due to bugs</td>\n",
       "      <td>None</td>\n",
       "      <td>None</td>\n",
       "      <td>None</td>\n",
       "    </tr>\n",
       "    <tr>\n",
       "      <th>204</th>\n",
       "      <td></td>\n",
       "      <td>M203</td>\n",
       "      <td>40x46 mm</td>\n",
       "      <td>Confirmed on TarkovTV DevBlog № 4</td>\n",
       "      <td>None</td>\n",
       "      <td>None</td>\n",
       "      <td>None</td>\n",
       "    </tr>\n",
       "    <tr>\n",
       "      <th>205</th>\n",
       "      <td></td>\n",
       "      <td>Milkor MGL</td>\n",
       "      <td>40x46 mm and 40x51mm</td>\n",
       "      <td>Confirmed on Talking Tarkov № 6</td>\n",
       "      <td>None</td>\n",
       "      <td>None</td>\n",
       "      <td>None</td>\n",
       "    </tr>\n",
       "    <tr>\n",
       "      <th>206</th>\n",
       "      <td></td>\n",
       "      <td>RG-6</td>\n",
       "      <td>40x53mm</td>\n",
       "      <td>Confirmed on Talking Tarkov № 1</td>\n",
       "      <td>None</td>\n",
       "      <td>None</td>\n",
       "      <td>None</td>\n",
       "    </tr>\n",
       "    <tr>\n",
       "      <th>207</th>\n",
       "      <td></td>\n",
       "      <td>RPG-7</td>\n",
       "      <td>40mm</td>\n",
       "      <td>Image of trigger and grip posted to\\nBSG's Twi...</td>\n",
       "      <td>None</td>\n",
       "      <td>None</td>\n",
       "      <td>None</td>\n",
       "    </tr>\n",
       "    <tr>\n",
       "      <th>208</th>\n",
       "      <td>Name</td>\n",
       "      <td>Image</td>\n",
       "      <td>Status</td>\n",
       "      <td>None</td>\n",
       "      <td>None</td>\n",
       "      <td>None</td>\n",
       "      <td>None</td>\n",
       "    </tr>\n",
       "    <tr>\n",
       "      <th>209</th>\n",
       "      <td>Name</td>\n",
       "      <td>Image</td>\n",
       "      <td>Type</td>\n",
       "      <td>Status</td>\n",
       "      <td>None</td>\n",
       "      <td>None</td>\n",
       "      <td>None</td>\n",
       "    </tr>\n",
       "    <tr>\n",
       "      <th>210</th>\n",
       "      <td></td>\n",
       "      <td>AN grenade (model unknown, could be an AN M14 ...</td>\n",
       "      <td>model unknown</td>\n",
       "      <td>Confirmed with this screenshot</td>\n",
       "      <td>None</td>\n",
       "      <td>None</td>\n",
       "      <td>None</td>\n",
       "    </tr>\n",
       "    <tr>\n",
       "      <th>211</th>\n",
       "      <td></td>\n",
       "      <td>RGN offensive grenade (brown) and RGO defensiv...</td>\n",
       "      <td>Impact Grenade</td>\n",
       "      <td>Located within game files and confirmed with t...</td>\n",
       "      <td>None</td>\n",
       "      <td>None</td>\n",
       "      <td>None</td>\n",
       "    </tr>\n",
       "    <tr>\n",
       "      <th>212</th>\n",
       "      <td>Name</td>\n",
       "      <td>Image</td>\n",
       "      <td>Type</td>\n",
       "      <td>Status</td>\n",
       "      <td>None</td>\n",
       "      <td>None</td>\n",
       "      <td>None</td>\n",
       "    </tr>\n",
       "    <tr>\n",
       "      <th>213</th>\n",
       "      <td></td>\n",
       "      <td>OZM72 wire mine with MUV2 fuse</td>\n",
       "      <td>Wire Mine</td>\n",
       "      <td>Confirmed with this screenshot on the Facebook...</td>\n",
       "      <td>None</td>\n",
       "      <td>None</td>\n",
       "      <td>None</td>\n",
       "    </tr>\n",
       "    <tr>\n",
       "      <th>214</th>\n",
       "      <td></td>\n",
       "      <td>PMN2 anti personnel mine</td>\n",
       "      <td>Anti personnel mine</td>\n",
       "      <td>Confirmed with this screenshot on the Facebook...</td>\n",
       "      <td>None</td>\n",
       "      <td>None</td>\n",
       "      <td>None</td>\n",
       "    </tr>\n",
       "    <tr>\n",
       "      <th>215</th>\n",
       "      <td></td>\n",
       "      <td>PMN4 anti personnel mine</td>\n",
       "      <td>Anti personnel mine</td>\n",
       "      <td>Confirmed in Talking Tarkov № 5</td>\n",
       "      <td>None</td>\n",
       "      <td>None</td>\n",
       "      <td>None</td>\n",
       "    </tr>\n",
       "    <tr>\n",
       "      <th>216</th>\n",
       "      <td></td>\n",
       "      <td>PFM1 anti personnel mine</td>\n",
       "      <td>Anti personnel mine</td>\n",
       "      <td>Confirmed in Talking Tarkov № 6</td>\n",
       "      <td>None</td>\n",
       "      <td>None</td>\n",
       "      <td>None</td>\n",
       "    </tr>\n",
       "    <tr>\n",
       "      <th>217</th>\n",
       "      <td></td>\n",
       "      <td>MON-50</td>\n",
       "      <td>Anti personnel mine</td>\n",
       "      <td>Confirmed with this screenshot on the Facebook...</td>\n",
       "      <td>None</td>\n",
       "      <td>None</td>\n",
       "      <td>None</td>\n",
       "    </tr>\n",
       "  </tbody>\n",
       "</table>\n",
       "<p>218 rows × 7 columns</p>\n",
       "</div>"
      ],
      "text/plain": [
       "    Index                                               Name  \\\n",
       "0                                                  ADAR 2-15   \n",
       "1                                                     AK-101   \n",
       "2                                                     AK-102   \n",
       "3                                                     AK-103   \n",
       "4                                                     AK-104   \n",
       "5                                                     AK-105   \n",
       "6                                                      AK-74   \n",
       "7                                                     AK-74M   \n",
       "8                                                     AK-74N   \n",
       "9                                                        AKM   \n",
       "10                                                      AKMN   \n",
       "11                                                      AKMS   \n",
       "12                                                     AKMSN   \n",
       "13                                                    AKS-74   \n",
       "14                                                   AKS-74N   \n",
       "15                                                   AKS-74U   \n",
       "16                                                  AKS-74UB   \n",
       "17                                                  AKS-74UN   \n",
       "18                                                    ASh-12   \n",
       "19                                                    AS VAL   \n",
       "20                                            DT MDR 5.56x45   \n",
       "21                                               DT MDR .308   \n",
       "22                                                  HK 416A5   \n",
       "23                                       Kel-Tec RFB 7.62x51   \n",
       "24                                                      M4A1   \n",
       "25                                                       MCX   \n",
       "26                                                     SA-58   \n",
       "27                                                 TX-15 DML   \n",
       "28                                          Vepr AKM/VPO-209   \n",
       "29                                           Vepr KM/VPO-136   \n",
       "..    ...                                                ...   \n",
       "188                              Chiappa Rhino 20/40/50/60DS   \n",
       "189                                                    CZ 75   \n",
       "190                                                  CZ P-09   \n",
       "191                                                 EAA Thor   \n",
       "192                                                   GSh-18   \n",
       "193                                                 Glock 19   \n",
       "194                                       Heckler & Koch USP   \n",
       "195                                         IMI Desert Eagle   \n",
       "196                                              Jericho 941   \n",
       "197                                                      PMM   \n",
       "198                                                      PSS   \n",
       "199                                       Smith & Wesson M&P   \n",
       "200  Name                                              Image   \n",
       "201                                                    GP-25   \n",
       "202                                                   GP-30M   \n",
       "203                                                    GP-34   \n",
       "204                                                     M203   \n",
       "205                                               Milkor MGL   \n",
       "206                                                     RG-6   \n",
       "207                                                    RPG-7   \n",
       "208  Name                                              Image   \n",
       "209  Name                                              Image   \n",
       "210        AN grenade (model unknown, could be an AN M14 ...   \n",
       "211        RGN offensive grenade (brown) and RGO defensiv...   \n",
       "212  Name                                              Image   \n",
       "213                           OZM72 wire mine with MUV2 fuse   \n",
       "214                                 PMN2 anti personnel mine   \n",
       "215                                 PMN4 anti personnel mine   \n",
       "216                                 PFM1 anti personnel mine   \n",
       "217                                                   MON-50   \n",
       "\n",
       "                                             Cartridge  \\\n",
       "0                                       5.56x45mm NATO   \n",
       "1                                       5.56x45mm NATO   \n",
       "2                                       5.56x45mm NATO   \n",
       "3                                            7.62x39mm   \n",
       "4                                            7.62x39mm   \n",
       "5                                            5.45x39mm   \n",
       "6                                            5.45x39mm   \n",
       "7                                            5.45x39mm   \n",
       "8                                            5.45x39mm   \n",
       "9                                            7.62x39mm   \n",
       "10                                           7.62x39mm   \n",
       "11                                           7.62x39mm   \n",
       "12                                           7.62x39mm   \n",
       "13                                           5.45x39mm   \n",
       "14                                           5.45x39mm   \n",
       "15                                           5.45x39mm   \n",
       "16                                           5.45x39mm   \n",
       "17                                           5.45x39mm   \n",
       "18                                   12.7x55mm STs-130   \n",
       "19                                              9x39mm   \n",
       "20                                      5.56x45mm NATO   \n",
       "21                                      7.62x51mm NATO   \n",
       "22                                      5.56x45mm NATO   \n",
       "23                                      7.62x51mm NATO   \n",
       "24                                      5.56x45mm NATO   \n",
       "25                                       .300 Blackout   \n",
       "26                                      7.62x51mm NATO   \n",
       "27                                      5.56x45mm NATO   \n",
       "28                                            .366 TKM   \n",
       "29                                           7.62x39mm   \n",
       "..                                                 ...   \n",
       "188  .357 Magnum, 9x19mm Parabellum, .40 S&W and 9x...   \n",
       "189              9x19mm Parabellum, 9x21mm and .40 S&W   \n",
       "190                                  9x19mm Parabellum   \n",
       "191  .500 S&W Magnum, .223 Remington, .308 Winchest...   \n",
       "192                                  9x19mm Parabellum   \n",
       "193                                  9x19mm Parabellum   \n",
       "194             9x19mm Parabellum, .45 ACP and .40 S&W   \n",
       "195  .50 Action Express, 429 DE, .44 Magnum, .357 M...   \n",
       "196                   9x19 Parabellum, .40S&W, .45 ACP   \n",
       "197                                     9x18mm Makarov   \n",
       "198                                     7.62x42mm SP-4   \n",
       "199      .45 ACP, 9x19mm Parabellum, .40 S&W, .357 SIG   \n",
       "200                                          Cartridge   \n",
       "201                                            40x53mm   \n",
       "202                                            40x53mm   \n",
       "203                                            40x53mm   \n",
       "204                                           40x46 mm   \n",
       "205                               40x46 mm and 40x51mm   \n",
       "206                                            40x53mm   \n",
       "207                                               40mm   \n",
       "208                                             Status   \n",
       "209                                               Type   \n",
       "210                                      model unknown   \n",
       "211                                     Impact Grenade   \n",
       "212                                               Type   \n",
       "213                                          Wire Mine   \n",
       "214                                Anti personnel mine   \n",
       "215                                Anti personnel mine   \n",
       "216                                Anti personnel mine   \n",
       "217                                Anti personnel mine   \n",
       "\n",
       "                                          Firing Modes Rate of Fire  \\\n",
       "0                                               Single          800   \n",
       "1                                      SingleFull‑Auto          650   \n",
       "2                                      SingleFull‑Auto          600   \n",
       "3                                      SingleFull‑Auto          600   \n",
       "4                                      SingleFull‑Auto          600   \n",
       "5                                      SingleFull‑Auto          600   \n",
       "6                                      SingleFull‑Auto          650   \n",
       "7                                      SingleFull‑Auto          650   \n",
       "8                                      SingleFull‑Auto          650   \n",
       "9                                      SingleFull‑Auto          600   \n",
       "10                                     SingleFull‑Auto          600   \n",
       "11                                     SingleFull‑Auto          600   \n",
       "12                                     SingleFull‑Auto          600   \n",
       "13                                     SingleFull‑Auto          650   \n",
       "14                                     SingleFull‑Auto          650   \n",
       "15                                     SingleFull‑Auto          650   \n",
       "16                                     SingleFull‑Auto          650   \n",
       "17                                     SingleFull‑Auto          650   \n",
       "18                                     SingleFull‑Auto          650   \n",
       "19                                     SingleFull‑Auto          900   \n",
       "20                                     SingleFull‑Auto          650   \n",
       "21                                     SingleFull‑Auto          650   \n",
       "22                                     SingleFull‑Auto          850   \n",
       "23                                              Single          700   \n",
       "24                                     SingleFull‑Auto          800   \n",
       "25                                     SingleFull‑Auto          800   \n",
       "26                                     SingleFull‑Auto          700   \n",
       "27                                              Single          800   \n",
       "28                                              Single          600   \n",
       "29                                              Single          600   \n",
       "..                                                 ...          ...   \n",
       "188                         Confirmed with screenshots         None   \n",
       "189                                Confirmed on Reddit         None   \n",
       "190                    Confirmed on Talking Tarkov № 2         None   \n",
       "191         Confirmed on russian audiopodcast with BSG         None   \n",
       "192                             Confirmed on Instagram         None   \n",
       "193            Confirmed in Talking Tarkov Devblog № 4         None   \n",
       "194  Confirmed on Talking Tarkov № 2\\nConfirmed on ...         None   \n",
       "195                                Confirmed on Reddit         None   \n",
       "196                    Confirmed on Talking Tarkov № 2         None   \n",
       "197         Confirmed on russian audiopodcast with BSG         None   \n",
       "198  Present in a report on the Youtube channel of ...         None   \n",
       "199                    Confirmed on Talking Tarkov № 2         None   \n",
       "200                                             Status         None   \n",
       "201                  Confirmed on TarkovTV DevBlog № 4         None   \n",
       "202                                            Twitter         None   \n",
       "203                    Temporarily removed due to bugs         None   \n",
       "204                  Confirmed on TarkovTV DevBlog № 4         None   \n",
       "205                    Confirmed on Talking Tarkov № 6         None   \n",
       "206                    Confirmed on Talking Tarkov № 1         None   \n",
       "207  Image of trigger and grip posted to\\nBSG's Twi...         None   \n",
       "208                                               None         None   \n",
       "209                                             Status         None   \n",
       "210                     Confirmed with this screenshot         None   \n",
       "211  Located within game files and confirmed with t...         None   \n",
       "212                                             Status         None   \n",
       "213  Confirmed with this screenshot on the Facebook...         None   \n",
       "214  Confirmed with this screenshot on the Facebook...         None   \n",
       "215                    Confirmed in Talking Tarkov № 5         None   \n",
       "216                    Confirmed in Talking Tarkov № 6         None   \n",
       "217  Confirmed with this screenshot on the Facebook...         None   \n",
       "\n",
       "                                           Description  \\\n",
       "0    Russian civilian carbine ADAR 2-15 is based on...   \n",
       "1    Export version of a Kalashnikov chambered in 5...   \n",
       "2    Short, export version of a Kalashnikov 5.56 mm...   \n",
       "3    Kalashnikov 7.62 mm assault rifle equipped wit...   \n",
       "4    Short Kalashnikov 7.62 mm assault rifle equipp...   \n",
       "5    Short Kalashnikov 5.45 mm modernized assault r...   \n",
       "6    Kalashnikov 5.45 mm assault rifle, developed i...   \n",
       "7    Kalashnikov 5.45 mm modernized assault rifle e...   \n",
       "8    Kalashnikov 5.45 mm assault rifle, developed i...   \n",
       "9    Modernized 7.62mm Kalashnikov, adopted in 1959...   \n",
       "10   AKMN (with NSPUM-AKMN2 scope) is a small arms ...   \n",
       "11   AKMS (GRAU Index - 6P4) is a variant of the AK...   \n",
       "12   AKMSN - is a modified AKMS with dovetail mount...   \n",
       "13   Kalashnikov 5.45 mm assault rifle equipped wit...   \n",
       "14   Kalashnikov 5.45 mm assault rifle equipped wit...   \n",
       "15   Reduced version of AKS-74 assault rifle, devel...   \n",
       "16   Special version of the AKS-74U, modification B...   \n",
       "17   Reduced version of the AKS-74 assault rifle, d...   \n",
       "18   The ASh-12.7 (which stands for \"Automatic assa...   \n",
       "19   AS VAL (Avtomat Specialniy, Special Automatic ...   \n",
       "20   The product of the US-based company Desert Tec...   \n",
       "21   The product of the US-based company Desert Tec...   \n",
       "22   The HK416 A5 is a further development of the H...   \n",
       "23   The Kel-Tec RFB (Rifle, Forward-ejection, Bull...   \n",
       "24   Colt M4A1 - an assault rifle (carbine), design...   \n",
       "25   The MCX line, designed and manufactured by SIG...   \n",
       "26   SA-58 OSW (Operations Specialist Weapon) manuf...   \n",
       "27   The TX15 Designated Marksman Light (DML) serie...   \n",
       "28   VPO-209 was created on the platform of Klashni...   \n",
       "29   Semi-automatic hunting carbine of 7.62x39 mm c...   \n",
       "..                                                 ...   \n",
       "188                                               None   \n",
       "189                                               None   \n",
       "190                                               None   \n",
       "191                                               None   \n",
       "192                                               None   \n",
       "193                                               None   \n",
       "194                                               None   \n",
       "195                                               None   \n",
       "196                                               None   \n",
       "197                                               None   \n",
       "198                                               None   \n",
       "199                                               None   \n",
       "200                                               None   \n",
       "201                                               None   \n",
       "202                                               None   \n",
       "203                                               None   \n",
       "204                                               None   \n",
       "205                                               None   \n",
       "206                                               None   \n",
       "207                                               None   \n",
       "208                                               None   \n",
       "209                                               None   \n",
       "210                                               None   \n",
       "211                                               None   \n",
       "212                                               None   \n",
       "213                                               None   \n",
       "214                                               None   \n",
       "215                                               None   \n",
       "216                                               None   \n",
       "217                                               None   \n",
       "\n",
       "                                                 Image  \n",
       "0    https://static.wikia.nocookie.net/escapefromta...  \n",
       "1    https://static.wikia.nocookie.net/escapefromta...  \n",
       "2    https://static.wikia.nocookie.net/escapefromta...  \n",
       "3    https://static.wikia.nocookie.net/escapefromta...  \n",
       "4    https://static.wikia.nocookie.net/escapefromta...  \n",
       "5    https://static.wikia.nocookie.net/escapefromta...  \n",
       "6    https://static.wikia.nocookie.net/escapefromta...  \n",
       "7    https://static.wikia.nocookie.net/escapefromta...  \n",
       "8    https://static.wikia.nocookie.net/escapefromta...  \n",
       "9    https://static.wikia.nocookie.net/escapefromta...  \n",
       "10   https://static.wikia.nocookie.net/escapefromta...  \n",
       "11   https://static.wikia.nocookie.net/escapefromta...  \n",
       "12   https://static.wikia.nocookie.net/escapefromta...  \n",
       "13   https://static.wikia.nocookie.net/escapefromta...  \n",
       "14   https://static.wikia.nocookie.net/escapefromta...  \n",
       "15   https://static.wikia.nocookie.net/escapefromta...  \n",
       "16   https://static.wikia.nocookie.net/escapefromta...  \n",
       "17   https://static.wikia.nocookie.net/escapefromta...  \n",
       "18   https://static.wikia.nocookie.net/escapefromta...  \n",
       "19   https://static.wikia.nocookie.net/escapefromta...  \n",
       "20   https://static.wikia.nocookie.net/escapefromta...  \n",
       "21   https://static.wikia.nocookie.net/escapefromta...  \n",
       "22   https://static.wikia.nocookie.net/escapefromta...  \n",
       "23   https://static.wikia.nocookie.net/escapefromta...  \n",
       "24   https://static.wikia.nocookie.net/escapefromta...  \n",
       "25   https://static.wikia.nocookie.net/escapefromta...  \n",
       "26   https://static.wikia.nocookie.net/escapefromta...  \n",
       "27   https://static.wikia.nocookie.net/escapefromta...  \n",
       "28   https://static.wikia.nocookie.net/escapefromta...  \n",
       "29   https://static.wikia.nocookie.net/escapefromta...  \n",
       "..                                                 ...  \n",
       "188  https://static.wikia.nocookie.net/escapefromta...  \n",
       "189  https://static.wikia.nocookie.net/escapefromta...  \n",
       "190  https://static.wikia.nocookie.net/escapefromta...  \n",
       "191  https://static.wikia.nocookie.net/escapefromta...  \n",
       "192  https://static.wikia.nocookie.net/escapefromta...  \n",
       "193  https://static.wikia.nocookie.net/escapefromta...  \n",
       "194  https://static.wikia.nocookie.net/escapefromta...  \n",
       "195  https://static.wikia.nocookie.net/escapefromta...  \n",
       "196  https://static.wikia.nocookie.net/escapefromta...  \n",
       "197  https://static.wikia.nocookie.net/escapefromta...  \n",
       "198                                               None  \n",
       "199                                               None  \n",
       "200                                               None  \n",
       "201                                               None  \n",
       "202                                               None  \n",
       "203                                               None  \n",
       "204                                               None  \n",
       "205                                               None  \n",
       "206                                               None  \n",
       "207                                               None  \n",
       "208                                               None  \n",
       "209                                               None  \n",
       "210                                               None  \n",
       "211                                               None  \n",
       "212                                               None  \n",
       "213                                               None  \n",
       "214                                               None  \n",
       "215                                               None  \n",
       "216                                               None  \n",
       "217                                               None  \n",
       "\n",
       "[218 rows x 7 columns]"
      ]
     },
     "execution_count": 65,
     "metadata": {},
     "output_type": "execute_result"
    }
   ],
   "source": [
    "\n",
    "WeaponsDf.reset_index(drop=True, inplace=True)\n",
    "\n",
    "Counter = 1\n",
    "\n",
    "for item in range(0,len(imageData)):\n",
    "\n",
    "    if WeaponsDf.loc[WeaponsDf.index[item],'Name'] != 'Name':\n",
    "\n",
    "       # print(WeaponsDf.loc[item])\n",
    "\n",
    "        WeaponsDf.loc[item,'Image'] = imageData.loc[Counter,'image']\n",
    "\n",
    "        Counter+=1\n",
    "WeaponsDf"
   ]
  },
  {
   "cell_type": "markdown",
   "metadata": {},
   "source": [
    "## Create csv ##"
   ]
  },
  {
   "cell_type": "code",
   "execution_count": 66,
   "metadata": {},
   "outputs": [],
   "source": [
    "WeaponsDf.to_csv(\"Weapons.csv\")\n",
    "WeaponsDf.to_excel(\"Weapons.xlsx\")"
   ]
  },
  {
   "cell_type": "markdown",
   "metadata": {},
   "source": [
    "## Link to Weapon stats ##"
   ]
  },
  {
   "cell_type": "code",
   "execution_count": 67,
   "metadata": {
    "scrolled": true
   },
   "outputs": [
    {
     "data": {
      "text/plain": [
       "['https://escapefromtarkov.gamepedia.com/ADAR_2-15',\n",
       " 'https://escapefromtarkov.gamepedia.com/AK-101',\n",
       " 'https://escapefromtarkov.gamepedia.com/AK-102',\n",
       " 'https://escapefromtarkov.gamepedia.com/AK-103',\n",
       " 'https://escapefromtarkov.gamepedia.com/AK-104',\n",
       " 'https://escapefromtarkov.gamepedia.com/AK-105',\n",
       " 'https://escapefromtarkov.gamepedia.com/AK-74',\n",
       " 'https://escapefromtarkov.gamepedia.com/AK-74M',\n",
       " 'https://escapefromtarkov.gamepedia.com/AK-74N',\n",
       " 'https://escapefromtarkov.gamepedia.com/AKM',\n",
       " 'https://escapefromtarkov.gamepedia.com/AKMN',\n",
       " 'https://escapefromtarkov.gamepedia.com/AKMS',\n",
       " 'https://escapefromtarkov.gamepedia.com/AKMSN',\n",
       " 'https://escapefromtarkov.gamepedia.com/AKS-74',\n",
       " 'https://escapefromtarkov.gamepedia.com/AKS-74N',\n",
       " 'https://escapefromtarkov.gamepedia.com/AKS-74U',\n",
       " 'https://escapefromtarkov.gamepedia.com/AKS-74UB',\n",
       " 'https://escapefromtarkov.gamepedia.com/AKS-74UN',\n",
       " 'https://escapefromtarkov.gamepedia.com/ASh-12',\n",
       " 'https://escapefromtarkov.gamepedia.com/AS_VAL',\n",
       " 'https://escapefromtarkov.gamepedia.com/DT_MDR_5.56x45',\n",
       " 'https://escapefromtarkov.gamepedia.com/DT_MDR_.308',\n",
       " 'https://escapefromtarkov.gamepedia.com/HK_416A5',\n",
       " 'https://escapefromtarkov.gamepedia.com/Kel-Tec_RFB_7.62x51',\n",
       " 'https://escapefromtarkov.gamepedia.com/M4A1',\n",
       " 'https://escapefromtarkov.gamepedia.com/MCX',\n",
       " 'https://escapefromtarkov.gamepedia.com/SA-58',\n",
       " 'https://escapefromtarkov.gamepedia.com/TX-15_DML',\n",
       " 'https://escapefromtarkov.gamepedia.com/Vepr_AKM/VPO-209',\n",
       " 'https://escapefromtarkov.gamepedia.com/Vepr_KM/VPO-136',\n",
       " 'https://escapefromtarkov.gamepedia.com/OP-SKS',\n",
       " 'https://escapefromtarkov.gamepedia.com/SKS',\n",
       " 'https://escapefromtarkov.gamepedia.com/Vepr_Hunter/VPO-101',\n",
       " 'https://escapefromtarkov.gamepedia.com/RPK-16',\n",
       " 'https://escapefromtarkov.gamepedia.com/MP5',\n",
       " 'https://escapefromtarkov.gamepedia.com/MP5K-N',\n",
       " 'https://escapefromtarkov.gamepedia.com/MP7A1',\n",
       " 'https://escapefromtarkov.gamepedia.com/MP7A2',\n",
       " 'https://escapefromtarkov.gamepedia.com/MP9',\n",
       " 'https://escapefromtarkov.gamepedia.com/MP9-N',\n",
       " 'https://escapefromtarkov.gamepedia.com/MPX',\n",
       " 'https://escapefromtarkov.gamepedia.com/P90',\n",
       " 'https://escapefromtarkov.gamepedia.com/PP-19-01_Vityaz-SN',\n",
       " 'https://escapefromtarkov.gamepedia.com/PP-9_\"Klin\"',\n",
       " 'https://escapefromtarkov.gamepedia.com/PP-91_\"Kedr\"',\n",
       " 'https://escapefromtarkov.gamepedia.com/PP-91-01_\"Kedr-B\"',\n",
       " 'https://escapefromtarkov.gamepedia.com/PPSH-41',\n",
       " 'https://escapefromtarkov.gamepedia.com/Saiga-9',\n",
       " 'https://escapefromtarkov.gamepedia.com/STM-9',\n",
       " 'https://escapefromtarkov.gamepedia.com/UMP_45',\n",
       " 'https://escapefromtarkov.gamepedia.com/Vector_.45',\n",
       " 'https://escapefromtarkov.gamepedia.com/Vector_9x19',\n",
       " 'https://escapefromtarkov.gamepedia.com/590A1',\n",
       " 'https://escapefromtarkov.gamepedia.com/M870',\n",
       " 'https://escapefromtarkov.gamepedia.com/MP-133',\n",
       " 'https://escapefromtarkov.gamepedia.com/MP-153',\n",
       " 'https://escapefromtarkov.gamepedia.com/Saiga-12',\n",
       " 'https://escapefromtarkov.gamepedia.com/TOZ-106',\n",
       " 'https://escapefromtarkov.gamepedia.com/KS-23M',\n",
       " 'https://escapefromtarkov.gamepedia.com/M1A',\n",
       " 'https://escapefromtarkov.gamepedia.com/Mk-18',\n",
       " 'https://escapefromtarkov.gamepedia.com/RSASS',\n",
       " 'https://escapefromtarkov.gamepedia.com/SR-25',\n",
       " 'https://escapefromtarkov.gamepedia.com/SVDS',\n",
       " 'https://escapefromtarkov.gamepedia.com/VSS_Vintorez',\n",
       " 'https://escapefromtarkov.gamepedia.com/DVL-10',\n",
       " 'https://escapefromtarkov.gamepedia.com/M700',\n",
       " 'https://escapefromtarkov.gamepedia.com/Mosin',\n",
       " 'https://escapefromtarkov.gamepedia.com/Mosin_Inf.',\n",
       " 'https://escapefromtarkov.gamepedia.com/SV-98',\n",
       " 'https://escapefromtarkov.gamepedia.com/T-5000',\n",
       " 'https://escapefromtarkov.gamepedia.com/VPO-215',\n",
       " 'https://escapefromtarkov.gamepedia.com/FN_GL40',\n",
       " 'https://escapefromtarkov.gamepedia.com/APB',\n",
       " 'https://escapefromtarkov.gamepedia.com/APS',\n",
       " 'https://escapefromtarkov.gamepedia.com/FN_5-7',\n",
       " 'https://escapefromtarkov.gamepedia.com/GLOCK17',\n",
       " 'https://escapefromtarkov.gamepedia.com/GLOCK18C',\n",
       " 'https://escapefromtarkov.gamepedia.com/M1911A1',\n",
       " 'https://escapefromtarkov.gamepedia.com/M45A1',\n",
       " 'https://escapefromtarkov.gamepedia.com/M9A3',\n",
       " 'https://escapefromtarkov.gamepedia.com/MP-443_\"Grach\"',\n",
       " 'https://escapefromtarkov.gamepedia.com/P226R',\n",
       " 'https://escapefromtarkov.gamepedia.com/PB_pistol',\n",
       " 'https://escapefromtarkov.gamepedia.com/PL-15',\n",
       " 'https://escapefromtarkov.gamepedia.com/PM_(t)_pistol',\n",
       " 'https://escapefromtarkov.gamepedia.com/PM_pistol',\n",
       " 'https://escapefromtarkov.gamepedia.com/SR-1MP_Gyurza',\n",
       " 'https://escapefromtarkov.gamepedia.com/TT_pistol',\n",
       " 'https://escapefromtarkov.gamepedia.com/TT_pistol_(gold)',\n",
       " 'https://escapefromtarkov.gamepedia.com/NSV_\"Utes\"',\n",
       " 'https://escapefromtarkov.gamepedia.com/AGS-30',\n",
       " 'https://escapefromtarkov.gamepedia.com/6h5_Bayonet',\n",
       " 'https://escapefromtarkov.gamepedia.com/Antique_axe',\n",
       " 'https://escapefromtarkov.gamepedia.com/Bars_A-2607-_95x18',\n",
       " 'https://escapefromtarkov.gamepedia.com/Bars_A-2607-_Damascus',\n",
       " 'https://escapefromtarkov.gamepedia.com/Camper_axe',\n",
       " 'https://escapefromtarkov.gamepedia.com/Crash_Axe',\n",
       " \"https://escapefromtarkov.gamepedia.com/Cultist's_knife\",\n",
       " 'https://escapefromtarkov.gamepedia.com/ER_Fulcrum_Bayonet',\n",
       " 'https://escapefromtarkov.gamepedia.com/Freeman_crowbar',\n",
       " 'https://escapefromtarkov.gamepedia.com/Kiba_Arms_Tactical_Tomahawk',\n",
       " 'https://escapefromtarkov.gamepedia.com/Miller_Bros._Blades_M-2_Tactical_Sword',\n",
       " 'https://escapefromtarkov.gamepedia.com/MPL-50_entrenching_tool',\n",
       " 'https://escapefromtarkov.gamepedia.com/Red_Rebel_Ice_pick',\n",
       " 'https://escapefromtarkov.gamepedia.com/SP-8_Survival_Machete',\n",
       " 'https://escapefromtarkov.gamepedia.com/UVSR_Taiga-1',\n",
       " 'https://escapefromtarkov.gamepedia.com/F-1',\n",
       " 'https://escapefromtarkov.gamepedia.com/M67',\n",
       " 'https://escapefromtarkov.gamepedia.com/RGD-5',\n",
       " 'https://escapefromtarkov.gamepedia.com/VOG-17',\n",
       " 'https://escapefromtarkov.gamepedia.com/VOG-25',\n",
       " 'https://escapefromtarkov.gamepedia.com/RDG-2B',\n",
       " 'https://escapefromtarkov.gamepedia.com/Zarya',\n",
       " 'https://escapefromtarkov.gamepedia.com/9A-91/VSK-94',\n",
       " 'https://escapefromtarkov.gamepedia.com/AAC_Honey_Badger',\n",
       " 'https://escapefromtarkov.gamepedia.com/AEK-919K',\n",
       " 'https://escapefromtarkov.gamepedia.com/AEK-971/AEK-973_and_A-545/A-762',\n",
       " 'https://escapefromtarkov.gamepedia.com/AK-12',\n",
       " 'https://escapefromtarkov.gamepedia.com/AK-15',\n",
       " 'https://escapefromtarkov.gamepedia.com/AK-308',\n",
       " 'https://escapefromtarkov.gamepedia.com/AK_TR-3',\n",
       " 'https://escapefromtarkov.gamepedia.com/Alexander_Arms_.50_Beowulf',\n",
       " 'https://escapefromtarkov.gamepedia.com/AM-17',\n",
       " 'https://escapefromtarkov.gamepedia.com/AN-94',\n",
       " 'https://escapefromtarkov.gamepedia.com/Benelli_M4',\n",
       " 'https://escapefromtarkov.gamepedia.com/Bushmaster_ACR',\n",
       " 'https://escapefromtarkov.gamepedia.com/CMMG_Mk47_Mutant',\n",
       " 'https://escapefromtarkov.gamepedia.com/CZ_Bren_2_/_CZ_BREN_805',\n",
       " 'https://escapefromtarkov.gamepedia.com/DSR-1',\n",
       " 'https://escapefromtarkov.gamepedia.com/EF88_Austeyr_/_F90_(Export_version)',\n",
       " 'https://escapefromtarkov.gamepedia.com/FN_SCAR-L/H',\n",
       " 'https://escapefromtarkov.gamepedia.com/Heckler_&_Koch_G28',\n",
       " 'https://escapefromtarkov.gamepedia.com/Heckler_&_Koch_G3',\n",
       " 'https://escapefromtarkov.gamepedia.com/Heckler_&_Koch_G36',\n",
       " 'https://escapefromtarkov.gamepedia.com/Heckler_&_Koch_HK417',\n",
       " 'https://escapefromtarkov.gamepedia.com/Heckler_&_Koch_MP5/10',\n",
       " 'https://escapefromtarkov.gamepedia.com/Kalashnikov__SR1',\n",
       " \"https://escapefromtarkov.gamepedia.com/Knight's_Armament_Company_PDW\",\n",
       " 'https://escapefromtarkov.gamepedia.com/KSVK_12.7',\n",
       " 'https://escapefromtarkov.gamepedia.com/M16A4',\n",
       " 'https://escapefromtarkov.gamepedia.com/MP-155',\n",
       " 'https://escapefromtarkov.gamepedia.com/Baikal_MP-43',\n",
       " 'https://escapefromtarkov.gamepedia.com/MP-18M',\n",
       " 'https://escapefromtarkov.gamepedia.com/MP-233',\n",
       " 'https://escapefromtarkov.gamepedia.com/Molot_Bekaz_12',\n",
       " 'https://escapefromtarkov.gamepedia.com/MTs_225',\n",
       " 'https://escapefromtarkov.gamepedia.com/Orsis_SVLK-14S_\"Sumrak\"',\n",
       " 'https://escapefromtarkov.gamepedia.com/OTS-14_Groza',\n",
       " 'https://escapefromtarkov.gamepedia.com/PKM',\n",
       " 'https://escapefromtarkov.gamepedia.com/PKP_Pecheneg',\n",
       " 'https://escapefromtarkov.gamepedia.com/PP-19_Bizon',\n",
       " 'https://escapefromtarkov.gamepedia.com/Rifle_Dynamics_704_Pistol',\n",
       " 'https://escapefromtarkov.gamepedia.com/RPD',\n",
       " 'https://escapefromtarkov.gamepedia.com/RPK_&_RPK-74/RPK-74M',\n",
       " 'https://escapefromtarkov.gamepedia.com/Saiga_MK_5.45',\n",
       " 'https://escapefromtarkov.gamepedia.com/Škorpion_vz._61',\n",
       " 'https://escapefromtarkov.gamepedia.com/SIG_MPX_.45_ACP_Custom',\n",
       " 'https://escapefromtarkov.gamepedia.com/SR-2_Veresk',\n",
       " 'https://escapefromtarkov.gamepedia.com/SR-3_\"Vikhr\"',\n",
       " 'https://escapefromtarkov.gamepedia.com/Steyr_AUG',\n",
       " 'https://escapefromtarkov.gamepedia.com/SV-18',\n",
       " 'https://escapefromtarkov.gamepedia.com/SVD',\n",
       " 'https://escapefromtarkov.gamepedia.com/SVDM',\n",
       " 'https://escapefromtarkov.gamepedia.com/SVDK',\n",
       " 'https://escapefromtarkov.gamepedia.com/SVT-40',\n",
       " 'https://escapefromtarkov.gamepedia.com/Vepr_12',\n",
       " 'https://escapefromtarkov.gamepedia.com/Vepr_SOK-94',\n",
       " 'https://escapefromtarkov.gamepedia.com/VKS_Vychlop',\n",
       " 'https://escapefromtarkov.gamepedia.com/VPO-111',\n",
       " 'https://escapefromtarkov.gamepedia.com/VPO-156',\n",
       " 'https://escapefromtarkov.gamepedia.com/VPO-302',\n",
       " 'https://escapefromtarkov.gamepedia.com/Chiappa_Rhino_20/40/50/60DS',\n",
       " 'https://escapefromtarkov.gamepedia.com/CZ_75',\n",
       " 'https://escapefromtarkov.gamepedia.com/CZ_P-09',\n",
       " 'https://escapefromtarkov.gamepedia.com/EAA_Thor',\n",
       " 'https://escapefromtarkov.gamepedia.com/GSh-18',\n",
       " 'https://escapefromtarkov.gamepedia.com/Glock_19',\n",
       " 'https://escapefromtarkov.gamepedia.com/Heckler_&_Koch_USP',\n",
       " 'https://escapefromtarkov.gamepedia.com/IMI_Desert_Eagle',\n",
       " 'https://escapefromtarkov.gamepedia.com/Jericho_941',\n",
       " 'https://escapefromtarkov.gamepedia.com/PMM',\n",
       " 'https://escapefromtarkov.gamepedia.com/PSS',\n",
       " 'https://escapefromtarkov.gamepedia.com/Smith_&_Wesson_M&P',\n",
       " 'https://escapefromtarkov.gamepedia.com/GP-25',\n",
       " 'https://escapefromtarkov.gamepedia.com/GP-30M',\n",
       " 'https://escapefromtarkov.gamepedia.com/GP-34',\n",
       " 'https://escapefromtarkov.gamepedia.com/M203',\n",
       " 'https://escapefromtarkov.gamepedia.com/Milkor_MGL',\n",
       " 'https://escapefromtarkov.gamepedia.com/RG-6',\n",
       " 'https://escapefromtarkov.gamepedia.com/RPG-7',\n",
       " 'https://escapefromtarkov.gamepedia.com/AN_grenade_(model_unknown,_could_be_an_AN_M14_incendiary_grenade_or_a_M18_smoke_grenade)',\n",
       " 'https://escapefromtarkov.gamepedia.com/RGN_offensive_grenade_(brown)_and_RGO_defensive_grenade_(green),_both_with_the_UDZS_dual_action_fuze',\n",
       " 'https://escapefromtarkov.gamepedia.com/OZM72_wire_mine_with_MUV2_fuse',\n",
       " 'https://escapefromtarkov.gamepedia.com/PMN2_anti_personnel_mine',\n",
       " 'https://escapefromtarkov.gamepedia.com/PMN4_anti_personnel_mine',\n",
       " 'https://escapefromtarkov.gamepedia.com/PFM1_anti_personnel_mine',\n",
       " 'https://escapefromtarkov.gamepedia.com/MON-50']"
      ]
     },
     "execution_count": 67,
     "metadata": {},
     "output_type": "execute_result"
    }
   ],
   "source": [
    "import requests\n",
    "import time\n",
    "WeapLink = []\n",
    "Temp = \" \"\n",
    "for i in WeaponsDf['Name']:\n",
    "    if(i != 'Image'):\n",
    "        if(\" \" in i):\n",
    "            Temp = i.replace(\" \",\"_\")\n",
    "            WeapLink.append(tarkovURL + Temp)\n",
    "        else:\n",
    "            WeapLink.append(tarkovURL + i)\n",
    "WeapLink"
   ]
  },
  {
   "cell_type": "markdown",
   "metadata": {},
   "source": [
    "## Grabbing Weapon Stats ## "
   ]
  },
  {
   "cell_type": "code",
   "execution_count": 76,
   "metadata": {},
   "outputs": [
    {
     "name": "stderr",
     "output_type": "stream",
     "text": [
      "\n",
      "\n",
      "\n",
      "\n",
      "\n",
      "\n",
      "Loading...:   0%|                                                                              | 0/198 [00:00<?, ?it/s]"
     ]
    },
    {
     "name": "stdout",
     "output_type": "stream",
     "text": [
      "ADAR 2-15 .223 Carbine\n"
     ]
    },
    {
     "name": "stderr",
     "output_type": "stream",
     "text": [
      "\n",
      "\n",
      "\n",
      "\n",
      "\n",
      "\n",
      "Loading...:   1%|▎                                                                     | 1/198 [00:01<05:34,  1.70s/it]"
     ]
    },
    {
     "name": "stdout",
     "output_type": "stream",
     "text": [
      "AK-101 5.56x45 assault rifle\n"
     ]
    },
    {
     "name": "stderr",
     "output_type": "stream",
     "text": [
      "\n",
      "\n",
      "\n",
      "\n",
      "\n",
      "\n",
      "Loading...:   1%|▋                                                                     | 2/198 [00:03<05:41,  1.74s/it]"
     ]
    },
    {
     "name": "stdout",
     "output_type": "stream",
     "text": [
      "AK-102 5.56x45 assault rifle\n"
     ]
    },
    {
     "name": "stderr",
     "output_type": "stream",
     "text": [
      "\n",
      "\n",
      "\n",
      "\n",
      "\n",
      "\n",
      "Loading...:   2%|█                                                                     | 3/198 [00:05<05:28,  1.68s/it]"
     ]
    },
    {
     "name": "stdout",
     "output_type": "stream",
     "text": [
      "AK-103 7.62x39 assault rifle\n"
     ]
    },
    {
     "name": "stderr",
     "output_type": "stream",
     "text": [
      "\n",
      "\n",
      "\n",
      "\n",
      "\n",
      "\n",
      "Loading...:   2%|█▍                                                                    | 4/198 [00:06<05:18,  1.64s/it]"
     ]
    },
    {
     "name": "stdout",
     "output_type": "stream",
     "text": [
      "AK-104 7.62x39 assault rifle\n"
     ]
    },
    {
     "name": "stderr",
     "output_type": "stream",
     "text": [
      "\n",
      "\n",
      "\n",
      "\n",
      "\n",
      "\n",
      "Loading...:   3%|█▊                                                                    | 5/198 [00:08<05:16,  1.64s/it]"
     ]
    },
    {
     "name": "stdout",
     "output_type": "stream",
     "text": [
      "AK-105 5.45x39 assault rifle\n"
     ]
    },
    {
     "name": "stderr",
     "output_type": "stream",
     "text": [
      "\n",
      "\n",
      "\n",
      "\n",
      "\n",
      "\n",
      "Loading...:   3%|██                                                                    | 6/198 [00:09<05:11,  1.62s/it]"
     ]
    },
    {
     "name": "stdout",
     "output_type": "stream",
     "text": [
      "AK-74 5.45x39 assault rifle\n"
     ]
    },
    {
     "name": "stderr",
     "output_type": "stream",
     "text": [
      "\n",
      "\n",
      "\n",
      "\n",
      "\n",
      "\n",
      "Loading...:   4%|██▍                                                                   | 7/198 [00:11<05:02,  1.58s/it]"
     ]
    },
    {
     "name": "stdout",
     "output_type": "stream",
     "text": [
      "AK-74M 5.45x39 assault rifle\n"
     ]
    },
    {
     "name": "stderr",
     "output_type": "stream",
     "text": [
      "\n",
      "\n",
      "\n",
      "\n",
      "\n",
      "\n",
      "Loading...:   4%|██▊                                                                   | 8/198 [00:12<04:55,  1.55s/it]"
     ]
    },
    {
     "name": "stdout",
     "output_type": "stream",
     "text": [
      "AK-74N 5.45x39 assault rifle\n"
     ]
    },
    {
     "name": "stderr",
     "output_type": "stream",
     "text": [
      "\n",
      "\n",
      "\n",
      "\n",
      "\n",
      "\n",
      "Loading...:   5%|███▏                                                                  | 9/198 [00:14<04:56,  1.57s/it]"
     ]
    },
    {
     "name": "stdout",
     "output_type": "stream",
     "text": [
      "AKM 7.62x39 assault rifle\n"
     ]
    },
    {
     "name": "stderr",
     "output_type": "stream",
     "text": [
      "\n",
      "\n",
      "\n",
      "\n",
      "\n",
      "\n",
      "Loading...:   5%|███▍                                                                 | 10/198 [00:15<04:54,  1.57s/it]"
     ]
    },
    {
     "name": "stdout",
     "output_type": "stream",
     "text": [
      "AKMN 7.62x39 assault rifle\n"
     ]
    },
    {
     "name": "stderr",
     "output_type": "stream",
     "text": [
      "\n",
      "\n",
      "\n",
      "\n",
      "\n",
      "\n",
      "Loading...:   6%|███▊                                                                 | 11/198 [00:17<04:49,  1.55s/it]"
     ]
    },
    {
     "name": "stdout",
     "output_type": "stream",
     "text": [
      "AKMS 7.62x39 assault rifle\n"
     ]
    },
    {
     "name": "stderr",
     "output_type": "stream",
     "text": [
      "\n",
      "\n",
      "\n",
      "\n",
      "\n",
      "\n",
      "Loading...:   6%|████▏                                                                | 12/198 [00:19<04:47,  1.55s/it]"
     ]
    },
    {
     "name": "stdout",
     "output_type": "stream",
     "text": [
      "AKMSN 7.62x39 assault rifle\n"
     ]
    },
    {
     "name": "stderr",
     "output_type": "stream",
     "text": [
      "\n",
      "\n",
      "\n",
      "\n",
      "\n",
      "\n",
      "Loading...:   7%|████▌                                                                | 13/198 [00:20<04:56,  1.60s/it]"
     ]
    },
    {
     "name": "stdout",
     "output_type": "stream",
     "text": [
      "AKS-74 5.45x39 assault rifle\n"
     ]
    },
    {
     "name": "stderr",
     "output_type": "stream",
     "text": [
      "\n",
      "\n",
      "\n",
      "\n",
      "\n",
      "\n",
      "Loading...:   7%|████▉                                                                | 14/198 [00:22<04:50,  1.58s/it]"
     ]
    },
    {
     "name": "stdout",
     "output_type": "stream",
     "text": [
      "AKS-74N 5.45x39 assault rifle\n"
     ]
    },
    {
     "name": "stderr",
     "output_type": "stream",
     "text": [
      "\n",
      "\n",
      "\n",
      "\n",
      "\n",
      "\n",
      "Loading...:   8%|█████▏                                                               | 15/198 [00:23<04:47,  1.57s/it]"
     ]
    },
    {
     "name": "stdout",
     "output_type": "stream",
     "text": [
      "Kalashnikov AKS-74U 5.45x39\n"
     ]
    },
    {
     "name": "stderr",
     "output_type": "stream",
     "text": [
      "\n",
      "\n",
      "\n",
      "\n",
      "\n",
      "\n",
      "Loading...:   8%|█████▌                                                               | 16/198 [00:25<04:44,  1.56s/it]"
     ]
    },
    {
     "name": "stdout",
     "output_type": "stream",
     "text": [
      "Kalashnikov AKS-74UB 5.45x39\n"
     ]
    },
    {
     "name": "stderr",
     "output_type": "stream",
     "text": [
      "\n",
      "\n",
      "\n",
      "\n",
      "\n",
      "\n",
      "Loading...:   9%|█████▉                                                               | 17/198 [00:27<05:10,  1.72s/it]"
     ]
    },
    {
     "name": "stdout",
     "output_type": "stream",
     "text": [
      "Kalashnikov AKS-74UN 5.45x39\n"
     ]
    },
    {
     "name": "stderr",
     "output_type": "stream",
     "text": [
      "\n",
      "\n",
      "\n",
      "\n",
      "\n",
      "\n",
      "Loading...:   9%|██████▎                                                              | 18/198 [00:28<04:56,  1.65s/it]"
     ]
    },
    {
     "name": "stdout",
     "output_type": "stream",
     "text": [
      "ASh-12 12.7x55 assault rifle\n"
     ]
    },
    {
     "name": "stderr",
     "output_type": "stream",
     "text": [
      "\n",
      "\n",
      "\n",
      "\n",
      "\n",
      "\n",
      "Loading...:  10%|██████▌                                                              | 19/198 [00:30<04:49,  1.62s/it]"
     ]
    },
    {
     "name": "stdout",
     "output_type": "stream",
     "text": [
      "AS VAL\n"
     ]
    },
    {
     "name": "stderr",
     "output_type": "stream",
     "text": [
      "\n",
      "\n",
      "\n",
      "\n",
      "\n",
      "\n",
      "Loading...:  10%|██████▉                                                              | 20/198 [00:31<04:37,  1.56s/it]"
     ]
    },
    {
     "name": "stdout",
     "output_type": "stream",
     "text": [
      "DT MDR 5.56x45 Assault Rifle\n"
     ]
    },
    {
     "name": "stderr",
     "output_type": "stream",
     "text": [
      "\n",
      "\n",
      "\n",
      "\n",
      "\n",
      "\n",
      "Loading...:  11%|███████▎                                                             | 21/198 [00:33<04:44,  1.61s/it]"
     ]
    },
    {
     "name": "stdout",
     "output_type": "stream",
     "text": [
      "DT MDR 7.62x51 Assault Rifle\n"
     ]
    },
    {
     "name": "stderr",
     "output_type": "stream",
     "text": [
      "\n",
      "\n",
      "\n",
      "\n",
      "\n",
      "\n",
      "Loading...:  11%|███████▋                                                             | 22/198 [00:35<04:40,  1.59s/it]"
     ]
    },
    {
     "name": "stdout",
     "output_type": "stream",
     "text": [
      "HK 416A5 5.56x45 Assault Rifle\n"
     ]
    },
    {
     "name": "stderr",
     "output_type": "stream",
     "text": [
      "\n",
      "\n",
      "\n",
      "\n",
      "\n",
      "\n",
      "Loading...:  12%|████████                                                             | 23/198 [00:36<04:35,  1.58s/it]"
     ]
    },
    {
     "name": "stdout",
     "output_type": "stream",
     "text": [
      "Kel-Tec RFB 7.62x51\n"
     ]
    },
    {
     "name": "stderr",
     "output_type": "stream",
     "text": [
      "\n",
      "\n",
      "\n",
      "\n",
      "\n",
      "\n",
      "Loading...:  12%|████████▎                                                            | 24/198 [00:38<04:32,  1.57s/it]"
     ]
    },
    {
     "name": "stdout",
     "output_type": "stream",
     "text": [
      "Colt M4A1 5.56x45 Assault Rifle\n"
     ]
    },
    {
     "name": "stderr",
     "output_type": "stream",
     "text": [
      "\n",
      "\n",
      "\n",
      "\n",
      "\n",
      "\n",
      "Loading...:  13%|████████▋                                                            | 25/198 [00:39<04:32,  1.57s/it]"
     ]
    },
    {
     "name": "stdout",
     "output_type": "stream",
     "text": [
      "SIG MCX .300 AAC Blackout Assault Rifle\n"
     ]
    },
    {
     "name": "stderr",
     "output_type": "stream",
     "text": [
      "\n",
      "\n",
      "\n",
      "\n",
      "\n",
      "\n",
      "Loading...:  13%|█████████                                                            | 26/198 [00:41<04:41,  1.64s/it]"
     ]
    },
    {
     "name": "stdout",
     "output_type": "stream",
     "text": [
      "DS Arms SA-58 7.62x51\n"
     ]
    },
    {
     "name": "stderr",
     "output_type": "stream",
     "text": [
      "\n",
      "\n",
      "\n",
      "\n",
      "\n",
      "\n",
      "Loading...:  14%|█████████▍                                                           | 27/198 [00:43<04:34,  1.60s/it]"
     ]
    },
    {
     "name": "stdout",
     "output_type": "stream",
     "text": [
      "Lone Star TX-15 DML Rifle\n"
     ]
    },
    {
     "name": "stderr",
     "output_type": "stream",
     "text": [
      "\n",
      "\n",
      "\n",
      "\n",
      "\n",
      "\n",
      "Loading...:  14%|█████████▊                                                           | 28/198 [00:44<04:24,  1.56s/it]"
     ]
    },
    {
     "name": "stdout",
     "output_type": "stream",
     "text": [
      "Vepr AKM / VPO-209 366TKM carbine\n"
     ]
    },
    {
     "name": "stderr",
     "output_type": "stream",
     "text": [
      "\n",
      "\n",
      "\n",
      "\n",
      "\n",
      "\n",
      "Loading...:  15%|██████████                                                           | 29/198 [00:46<04:22,  1.55s/it]"
     ]
    },
    {
     "name": "stdout",
     "output_type": "stream",
     "text": [
      "Vepr KM / VPO-136 7.62x39 carbine\n"
     ]
    },
    {
     "name": "stderr",
     "output_type": "stream",
     "text": [
      "\n",
      "\n",
      "\n",
      "\n",
      "\n",
      "\n",
      "Loading...:  15%|██████████▍                                                          | 30/198 [00:47<04:14,  1.52s/it]"
     ]
    },
    {
     "name": "stdout",
     "output_type": "stream",
     "text": [
      "Simonov Semi-Automatic Carbine SKS 7.62x39 Hunting Rifle Version\n"
     ]
    },
    {
     "name": "stderr",
     "output_type": "stream",
     "text": [
      "\n",
      "\n",
      "\n",
      "\n",
      "\n",
      "\n",
      "Loading...:  16%|██████████▊                                                          | 31/198 [00:49<04:13,  1.52s/it]"
     ]
    },
    {
     "name": "stdout",
     "output_type": "stream",
     "text": [
      "Simonov Semi-Automatic Carbine SKS 7.62x39\n"
     ]
    },
    {
     "name": "stderr",
     "output_type": "stream",
     "text": [
      "\n",
      "\n",
      "\n",
      "\n",
      "\n",
      "\n",
      "Loading...:  16%|███████████▏                                                         | 32/198 [00:50<04:07,  1.49s/it]"
     ]
    },
    {
     "name": "stdout",
     "output_type": "stream",
     "text": [
      "Vepr Hunter/VPO-101 7.62x51 carbine\n"
     ]
    },
    {
     "name": "stderr",
     "output_type": "stream",
     "text": [
      "\n",
      "\n",
      "\n",
      "\n",
      "\n",
      "\n",
      "Loading...:  17%|███████████▌                                                         | 33/198 [00:52<04:08,  1.51s/it]"
     ]
    },
    {
     "name": "stdout",
     "output_type": "stream",
     "text": [
      "RPK-16 5.45x39 light machine gun\n"
     ]
    },
    {
     "name": "stderr",
     "output_type": "stream",
     "text": [
      "\n",
      "\n",
      "\n",
      "\n",
      "\n",
      "\n",
      "Loading...:  17%|███████████▊                                                         | 34/198 [00:53<04:09,  1.52s/it]"
     ]
    },
    {
     "name": "stdout",
     "output_type": "stream",
     "text": [
      "HK MP5 9x19 submachinegun (Navy 3 Round Burst)\n"
     ]
    },
    {
     "name": "stderr",
     "output_type": "stream",
     "text": [
      "\n",
      "\n",
      "\n",
      "\n",
      "\n",
      "\n",
      "Loading...:  18%|████████████▏                                                        | 35/198 [00:55<04:08,  1.53s/it]"
     ]
    },
    {
     "name": "stdout",
     "output_type": "stream",
     "text": [
      "HK MP5 Kurz 9x19 submachinegun\n"
     ]
    },
    {
     "name": "stderr",
     "output_type": "stream",
     "text": [
      "\n",
      "\n",
      "\n",
      "\n",
      "\n",
      "\n",
      "Loading...:  18%|████████████▌                                                        | 36/198 [00:56<04:08,  1.53s/it]"
     ]
    },
    {
     "name": "stdout",
     "output_type": "stream",
     "text": [
      "HK MP7A1 4.6x30 submachinegun\n"
     ]
    },
    {
     "name": "stderr",
     "output_type": "stream",
     "text": [
      "\n",
      "\n",
      "\n",
      "\n",
      "\n",
      "\n",
      "Loading...:  19%|████████████▉                                                        | 37/198 [00:58<04:19,  1.61s/it]"
     ]
    },
    {
     "name": "stdout",
     "output_type": "stream",
     "text": [
      "HK MP7A2 4.6x30 submachinegun\n"
     ]
    },
    {
     "name": "stderr",
     "output_type": "stream",
     "text": [
      "\n",
      "\n",
      "\n",
      "\n",
      "\n",
      "\n",
      "Loading...:  19%|█████████████▏                                                       | 38/198 [01:00<04:11,  1.57s/it]"
     ]
    },
    {
     "name": "stdout",
     "output_type": "stream",
     "text": [
      "B&T MP9 9x19 submachinegun\n"
     ]
    },
    {
     "name": "stderr",
     "output_type": "stream",
     "text": [
      "\n",
      "\n",
      "\n",
      "\n",
      "\n",
      "\n",
      "Loading...:  20%|█████████████▌                                                       | 39/198 [01:01<04:07,  1.56s/it]"
     ]
    },
    {
     "name": "stdout",
     "output_type": "stream",
     "text": [
      "B&T MP9-N 9x19 Submachinegun\n"
     ]
    },
    {
     "name": "stderr",
     "output_type": "stream",
     "text": [
      "\n",
      "\n",
      "\n",
      "\n",
      "\n",
      "\n",
      "Loading...:  20%|█████████████▉                                                       | 40/198 [01:03<04:04,  1.55s/it]"
     ]
    },
    {
     "name": "stdout",
     "output_type": "stream",
     "text": [
      "SIG MPX 9x19 Submachine gun\n"
     ]
    },
    {
     "name": "stderr",
     "output_type": "stream",
     "text": [
      "\n",
      "\n",
      "\n",
      "\n",
      "\n",
      "\n",
      "Loading...:  21%|██████████████▎                                                      | 41/198 [01:04<04:15,  1.63s/it]"
     ]
    },
    {
     "name": "stdout",
     "output_type": "stream",
     "text": [
      "FN P90 5.7x28 submachinegun\n"
     ]
    },
    {
     "name": "stderr",
     "output_type": "stream",
     "text": [
      "\n",
      "\n",
      "\n",
      "\n",
      "\n",
      "\n",
      "Loading...:  21%|██████████████▋                                                      | 42/198 [01:06<04:15,  1.64s/it]"
     ]
    },
    {
     "name": "stdout",
     "output_type": "stream",
     "text": [
      "Submachinegun PP-19-01 Vityaz-SN 9x19\n"
     ]
    },
    {
     "name": "stderr",
     "output_type": "stream",
     "text": [
      "\n",
      "\n",
      "\n",
      "\n",
      "\n",
      "\n",
      "Loading...:  22%|██████████████▉                                                      | 43/198 [01:08<04:25,  1.71s/it]"
     ]
    },
    {
     "name": "stdout",
     "output_type": "stream",
     "text": [
      "PP-9 Klin 9x18PMM SMG\n"
     ]
    },
    {
     "name": "stderr",
     "output_type": "stream",
     "text": [
      "\n",
      "\n",
      "\n",
      "\n",
      "\n",
      "\n",
      "Loading...:  22%|███████████████▎                                                     | 44/198 [01:09<04:12,  1.64s/it]"
     ]
    },
    {
     "name": "stdout",
     "output_type": "stream",
     "text": [
      "PP-91 Kedr 9x18PM SMG\n"
     ]
    },
    {
     "name": "stderr",
     "output_type": "stream",
     "text": [
      "\n",
      "\n",
      "\n",
      "\n",
      "\n",
      "\n",
      "Loading...:  23%|███████████████▋                                                     | 45/198 [01:11<04:01,  1.58s/it]"
     ]
    },
    {
     "name": "stdout",
     "output_type": "stream",
     "text": [
      "PP-91-01 Kedr-B 9x18PM SMG\n"
     ]
    },
    {
     "name": "stderr",
     "output_type": "stream",
     "text": [
      "\n",
      "\n",
      "\n",
      "\n",
      "\n",
      "\n",
      "Loading...:  23%|████████████████                                                     | 46/198 [01:12<03:55,  1.55s/it]"
     ]
    },
    {
     "name": "stdout",
     "output_type": "stream",
     "text": [
      "Submachinegun PPSH-41 7.62x25\n"
     ]
    },
    {
     "name": "stderr",
     "output_type": "stream",
     "text": [
      "\n",
      "\n",
      "\n",
      "\n",
      "\n",
      "\n",
      "Loading...:  24%|████████████████▍                                                    | 47/198 [01:14<04:01,  1.60s/it]"
     ]
    },
    {
     "name": "stdout",
     "output_type": "stream",
     "text": [
      "Saiga-9 9x19 Carbine\n"
     ]
    },
    {
     "name": "stderr",
     "output_type": "stream",
     "text": [
      "\n",
      "\n",
      "\n",
      "\n",
      "\n",
      "\n",
      "Loading...:  24%|████████████████▋                                                    | 48/198 [01:15<03:52,  1.55s/it]"
     ]
    },
    {
     "name": "stdout",
     "output_type": "stream",
     "text": [
      "STM-9 Gen.2 9x19 carabine\n"
     ]
    },
    {
     "name": "stderr",
     "output_type": "stream",
     "text": [
      "\n",
      "\n",
      "\n",
      "\n",
      "\n",
      "\n",
      "Loading...:  25%|█████████████████                                                    | 49/198 [01:17<03:54,  1.57s/it]"
     ]
    },
    {
     "name": "stdout",
     "output_type": "stream",
     "text": [
      "HK UMP 45 submachinegun\n"
     ]
    },
    {
     "name": "stderr",
     "output_type": "stream",
     "text": [
      "\n",
      "\n",
      "\n",
      "\n",
      "\n",
      "\n",
      "Loading...:  25%|█████████████████▍                                                   | 50/198 [01:19<04:05,  1.66s/it]"
     ]
    },
    {
     "name": "stdout",
     "output_type": "stream",
     "text": [
      "TDI KRISS Vector Gen.2 .45 ACP submachinegun\n"
     ]
    },
    {
     "name": "stderr",
     "output_type": "stream",
     "text": [
      "\n",
      "\n",
      "\n",
      "\n",
      "\n",
      "\n",
      "Loading...:  26%|█████████████████▊                                                   | 51/198 [01:21<04:23,  1.79s/it]"
     ]
    },
    {
     "name": "stdout",
     "output_type": "stream",
     "text": [
      "TDI Kriss Vector Gen.2 9x19 submachinegun\n"
     ]
    },
    {
     "name": "stderr",
     "output_type": "stream",
     "text": [
      "\n",
      "\n",
      "\n",
      "\n",
      "\n",
      "\n",
      "Loading...:  26%|██████████████████                                                   | 52/198 [01:23<04:09,  1.71s/it]"
     ]
    },
    {
     "name": "stdout",
     "output_type": "stream",
     "text": [
      "Mossberg 590A1 12ga shotgun\n"
     ]
    },
    {
     "name": "stderr",
     "output_type": "stream",
     "text": [
      "\n",
      "\n",
      "\n",
      "\n",
      "\n",
      "\n",
      "Loading...:  27%|██████████████████▍                                                  | 53/198 [01:24<04:00,  1.66s/it]"
     ]
    },
    {
     "name": "stdout",
     "output_type": "stream",
     "text": [
      "Remington Model 870 12ga shotgun\n"
     ]
    },
    {
     "name": "stderr",
     "output_type": "stream",
     "text": [
      "\n",
      "\n",
      "\n",
      "\n",
      "\n",
      "\n",
      "Loading...:  27%|██████████████████▊                                                  | 54/198 [01:26<03:51,  1.61s/it]"
     ]
    },
    {
     "name": "stdout",
     "output_type": "stream",
     "text": [
      "MP-133 12ga shotgun\n"
     ]
    },
    {
     "name": "stderr",
     "output_type": "stream",
     "text": [
      "\n",
      "\n",
      "\n",
      "\n",
      "\n",
      "\n",
      "Loading...:  28%|███████████████████▏                                                 | 55/198 [01:27<03:42,  1.56s/it]"
     ]
    },
    {
     "name": "stdout",
     "output_type": "stream",
     "text": [
      "MP-153 12ga semi-automatic shotgun\n"
     ]
    },
    {
     "name": "stderr",
     "output_type": "stream",
     "text": [
      "\n",
      "\n",
      "\n",
      "\n",
      "\n",
      "\n",
      "Loading...:  28%|███████████████████▌                                                 | 56/198 [01:29<03:42,  1.56s/it]"
     ]
    },
    {
     "name": "stdout",
     "output_type": "stream",
     "text": [
      "Saiga 12ga ver. 10 12/76 shotgun\n"
     ]
    },
    {
     "name": "stderr",
     "output_type": "stream",
     "text": [
      "\n",
      "\n",
      "\n",
      "\n",
      "\n",
      "\n",
      "Loading...:  29%|███████████████████▊                                                 | 57/198 [01:30<03:38,  1.55s/it]"
     ]
    },
    {
     "name": "stdout",
     "output_type": "stream",
     "text": [
      "TOZ-106 bolt-action shotgun\n"
     ]
    },
    {
     "name": "stderr",
     "output_type": "stream",
     "text": [
      "\n",
      "\n",
      "\n",
      "\n",
      "\n",
      "\n",
      "Loading...:  29%|████████████████████▏                                                | 58/198 [01:32<03:35,  1.54s/it]"
     ]
    },
    {
     "name": "stdout",
     "output_type": "stream",
     "text": [
      "TOZ KS-23M 23x75mm shotgun\n"
     ]
    },
    {
     "name": "stderr",
     "output_type": "stream",
     "text": [
      "\n",
      "\n",
      "\n",
      "\n",
      "\n",
      "\n",
      "Loading...:  30%|████████████████████▌                                                | 59/198 [01:33<03:34,  1.55s/it]"
     ]
    },
    {
     "name": "stdout",
     "output_type": "stream",
     "text": [
      "Springfield Armory M1A 7.62x51\n"
     ]
    },
    {
     "name": "stderr",
     "output_type": "stream",
     "text": [
      "\n",
      "\n",
      "\n",
      "\n",
      "\n",
      "\n",
      "Loading...:  30%|████████████████████▉                                                | 60/198 [01:35<03:36,  1.57s/it]"
     ]
    },
    {
     "name": "stdout",
     "output_type": "stream",
     "text": [
      "Mk-18 .338 LM marksman rifle\n"
     ]
    },
    {
     "name": "stderr",
     "output_type": "stream",
     "text": [
      "\n",
      "\n",
      "\n",
      "\n",
      "\n",
      "\n",
      "Loading...:  31%|█████████████████████▎                                               | 61/198 [01:36<03:35,  1.57s/it]"
     ]
    },
    {
     "name": "stdout",
     "output_type": "stream",
     "text": [
      "Remington R11 RSASS 7.62x51\n"
     ]
    },
    {
     "name": "stderr",
     "output_type": "stream",
     "text": [
      "\n",
      "\n",
      "\n",
      "\n",
      "\n",
      "\n",
      "Loading...:  31%|█████████████████████▌                                               | 62/198 [01:38<03:30,  1.55s/it]"
     ]
    },
    {
     "name": "stdout",
     "output_type": "stream",
     "text": [
      "Knight's Armament Company SR-25 7.62x51\n"
     ]
    },
    {
     "name": "stderr",
     "output_type": "stream",
     "text": [
      "\n",
      "\n",
      "\n",
      "\n",
      "\n",
      "\n",
      "Loading...:  32%|█████████████████████▉                                               | 63/198 [01:39<03:28,  1.54s/it]"
     ]
    },
    {
     "name": "stdout",
     "output_type": "stream",
     "text": [
      "SVDS 7.62x54 Sniper rifle\n"
     ]
    },
    {
     "name": "stderr",
     "output_type": "stream",
     "text": [
      "\n",
      "\n",
      "\n",
      "\n",
      "\n",
      "\n",
      "Loading...:  32%|██████████████████████▎                                              | 64/198 [01:41<03:26,  1.54s/it]"
     ]
    },
    {
     "name": "stdout",
     "output_type": "stream",
     "text": [
      "Special Sniper Rifle VSS Vintorez\n"
     ]
    },
    {
     "name": "stderr",
     "output_type": "stream",
     "text": [
      "\n",
      "\n",
      "\n",
      "\n",
      "\n",
      "\n",
      "Loading...:  33%|██████████████████████▋                                              | 65/198 [01:43<03:25,  1.55s/it]"
     ]
    },
    {
     "name": "stdout",
     "output_type": "stream",
     "text": [
      "DVL-10 Saboteur sniper rifle\n"
     ]
    },
    {
     "name": "stderr",
     "output_type": "stream",
     "text": [
      "\n",
      "\n",
      "\n",
      "\n",
      "\n",
      "\n",
      "Loading...:  33%|███████████████████████                                              | 66/198 [01:44<03:22,  1.53s/it]"
     ]
    },
    {
     "name": "stdout",
     "output_type": "stream",
     "text": [
      "Remington Model 700 Sniper rifle\n"
     ]
    },
    {
     "name": "stderr",
     "output_type": "stream",
     "text": [
      "\n",
      "\n",
      "\n",
      "\n",
      "\n",
      "\n",
      "Loading...:  34%|███████████████████████▎                                             | 67/198 [01:46<03:22,  1.55s/it]"
     ]
    },
    {
     "name": "stdout",
     "output_type": "stream",
     "text": [
      "Mosin bolt-action sniper rifle\n"
     ]
    },
    {
     "name": "stderr",
     "output_type": "stream",
     "text": [
      "\n",
      "\n",
      "\n",
      "\n",
      "\n",
      "\n",
      "Loading...:  34%|███████████████████████▋                                             | 68/198 [01:47<03:18,  1.53s/it]"
     ]
    },
    {
     "name": "stdout",
     "output_type": "stream",
     "text": [
      "Mosin bolt-action infantry rifle\n"
     ]
    },
    {
     "name": "stderr",
     "output_type": "stream",
     "text": [
      "\n",
      "\n",
      "\n",
      "\n",
      "\n",
      "\n",
      "Loading...:  35%|████████████████████████                                             | 69/198 [01:49<03:14,  1.51s/it]"
     ]
    },
    {
     "name": "stdout",
     "output_type": "stream",
     "text": [
      "SV-98 bolt-action sniper rifle\n"
     ]
    },
    {
     "name": "stderr",
     "output_type": "stream",
     "text": [
      "\n",
      "\n",
      "\n",
      "\n",
      "\n",
      "\n",
      "Loading...:  35%|████████████████████████▍                                            | 70/198 [01:50<03:13,  1.51s/it]"
     ]
    },
    {
     "name": "stdout",
     "output_type": "stream",
     "text": [
      "Orsis T-5000 .308 sniper rifle\n"
     ]
    },
    {
     "name": "stderr",
     "output_type": "stream",
     "text": [
      "\n",
      "\n",
      "\n",
      "\n",
      "\n",
      "\n",
      "Loading...:  36%|████████████████████████▋                                            | 71/198 [01:52<03:19,  1.57s/it]"
     ]
    },
    {
     "name": "stdout",
     "output_type": "stream",
     "text": [
      "Molot VPO-215 .366 TKM rifle\n"
     ]
    },
    {
     "name": "stderr",
     "output_type": "stream",
     "text": [
      "\n",
      "\n",
      "\n",
      "\n",
      "\n",
      "\n",
      "Loading...:  36%|█████████████████████████                                            | 72/198 [01:53<03:17,  1.57s/it]"
     ]
    },
    {
     "name": "stdout",
     "output_type": "stream",
     "text": [
      "FN GL40 Mk.2 grenade launcher\n"
     ]
    },
    {
     "name": "stderr",
     "output_type": "stream",
     "text": [
      "\n",
      "\n",
      "\n",
      "\n",
      "\n",
      "\n",
      "Loading...:  37%|█████████████████████████▍                                           | 73/198 [01:55<03:12,  1.54s/it]"
     ]
    },
    {
     "name": "stdout",
     "output_type": "stream",
     "text": [
      "Silenced Stechkin Automatic Pistol 9x18PM\n"
     ]
    },
    {
     "name": "stderr",
     "output_type": "stream",
     "text": [
      "\n",
      "\n",
      "\n",
      "\n",
      "\n",
      "\n",
      "Loading...:  37%|█████████████████████████▊                                           | 74/198 [01:56<03:11,  1.55s/it]"
     ]
    },
    {
     "name": "stdout",
     "output_type": "stream",
     "text": [
      "Stechkin Automatic Pistol 9x18PM\n"
     ]
    },
    {
     "name": "stderr",
     "output_type": "stream",
     "text": [
      "\n",
      "\n",
      "\n",
      "\n",
      "\n",
      "\n",
      "Loading...:  38%|██████████████████████████▏                                          | 75/198 [01:58<03:10,  1.55s/it]"
     ]
    },
    {
     "name": "stdout",
     "output_type": "stream",
     "text": [
      "FN Five-seveN MK2 5.7x28 pistol\n"
     ]
    },
    {
     "name": "stderr",
     "output_type": "stream",
     "text": [
      "\n",
      "\n",
      "\n",
      "\n",
      "\n",
      "\n",
      "Loading...:  38%|██████████████████████████▍                                          | 76/198 [01:59<03:04,  1.52s/it]"
     ]
    },
    {
     "name": "stdout",
     "output_type": "stream",
     "text": [
      "GLOCK 17 9x19 pistol\n"
     ]
    },
    {
     "name": "stderr",
     "output_type": "stream",
     "text": [
      "\n",
      "\n",
      "\n",
      "\n",
      "\n",
      "\n",
      "Loading...:  39%|██████████████████████████▊                                          | 77/198 [02:01<03:04,  1.53s/it]"
     ]
    },
    {
     "name": "stdout",
     "output_type": "stream",
     "text": [
      "GLOCK 18C 9x19 pistol\n"
     ]
    },
    {
     "name": "stderr",
     "output_type": "stream",
     "text": [
      "\n",
      "\n",
      "\n",
      "\n",
      "\n",
      "\n",
      "Loading...:  39%|███████████████████████████▏                                         | 78/198 [02:02<03:03,  1.53s/it]"
     ]
    },
    {
     "name": "stdout",
     "output_type": "stream",
     "text": [
      "Colt M1911A1 .45 ACP pistol\n"
     ]
    },
    {
     "name": "stderr",
     "output_type": "stream",
     "text": [
      "\n",
      "\n",
      "\n",
      "\n",
      "\n",
      "\n",
      "Loading...:  40%|███████████████████████████▌                                         | 79/198 [02:04<03:02,  1.53s/it]"
     ]
    },
    {
     "name": "stdout",
     "output_type": "stream",
     "text": [
      "Colt M45A1 .45 ACP pistol\n"
     ]
    },
    {
     "name": "stderr",
     "output_type": "stream",
     "text": [
      "\n",
      "\n",
      "\n",
      "\n",
      "\n",
      "\n",
      "Loading...:  40%|███████████████████████████▉                                         | 80/198 [02:06<03:00,  1.53s/it]"
     ]
    },
    {
     "name": "stdout",
     "output_type": "stream",
     "text": [
      "Beretta M9A3 9x19 pistol\n"
     ]
    },
    {
     "name": "stderr",
     "output_type": "stream",
     "text": [
      "\n",
      "\n",
      "\n",
      "\n",
      "\n",
      "\n",
      "Loading...:  41%|████████████████████████████▏                                        | 81/198 [02:07<02:54,  1.49s/it]"
     ]
    },
    {
     "name": "stdout",
     "output_type": "stream",
     "text": [
      "Yarygin MP-443 Grach 9x19 pistol\n"
     ]
    },
    {
     "name": "stderr",
     "output_type": "stream",
     "text": [
      "\n",
      "\n",
      "\n",
      "\n",
      "\n",
      "\n",
      "Loading...:  41%|████████████████████████████▌                                        | 82/198 [02:08<02:52,  1.49s/it]"
     ]
    },
    {
     "name": "stdout",
     "output_type": "stream",
     "text": [
      "P226R 9x19 pistol\n"
     ]
    },
    {
     "name": "stderr",
     "output_type": "stream",
     "text": [
      "\n",
      "\n",
      "\n",
      "\n",
      "\n",
      "\n",
      "Loading...:  42%|████████████████████████████▉                                        | 83/198 [02:10<02:51,  1.50s/it]"
     ]
    },
    {
     "name": "stdout",
     "output_type": "stream",
     "text": [
      "PB 9x18PM silenced pistol\n"
     ]
    },
    {
     "name": "stderr",
     "output_type": "stream",
     "text": [
      "\n",
      "\n",
      "\n",
      "\n",
      "\n",
      "\n",
      "Loading...:  42%|█████████████████████████████▎                                       | 84/198 [02:11<02:48,  1.48s/it]"
     ]
    },
    {
     "name": "stdout",
     "output_type": "stream",
     "text": [
      "PL-15 9x19 pistol\n"
     ]
    },
    {
     "name": "stderr",
     "output_type": "stream",
     "text": [
      "\n",
      "\n",
      "\n",
      "\n",
      "\n",
      "\n",
      "Loading...:  43%|█████████████████████████████▌                                       | 85/198 [02:13<02:47,  1.48s/it]"
     ]
    },
    {
     "name": "stdout",
     "output_type": "stream",
     "text": [
      "PM (t) 9x18PM pistol\n"
     ]
    },
    {
     "name": "stderr",
     "output_type": "stream",
     "text": [
      "\n",
      "\n",
      "\n",
      "\n",
      "\n",
      "\n",
      "Loading...:  43%|█████████████████████████████▉                                       | 86/198 [02:14<02:48,  1.51s/it]"
     ]
    },
    {
     "name": "stdout",
     "output_type": "stream",
     "text": [
      "PM 9x18PM pistol\n"
     ]
    },
    {
     "name": "stderr",
     "output_type": "stream",
     "text": [
      "\n",
      "\n",
      "\n",
      "\n",
      "\n",
      "\n",
      "Loading...:  44%|██████████████████████████████▎                                      | 87/198 [02:16<03:05,  1.67s/it]"
     ]
    },
    {
     "name": "stdout",
     "output_type": "stream",
     "text": [
      "9x21 Serdyukov automatic pistol SR1MP Gyurza\n"
     ]
    },
    {
     "name": "stderr",
     "output_type": "stream",
     "text": [
      "\n",
      "\n",
      "\n",
      "\n",
      "\n",
      "\n",
      "Loading...:  44%|██████████████████████████████▋                                      | 88/198 [02:18<03:06,  1.69s/it]"
     ]
    },
    {
     "name": "stdout",
     "output_type": "stream",
     "text": [
      "TT pistol 7.62x25 TT\n"
     ]
    },
    {
     "name": "stderr",
     "output_type": "stream",
     "text": [
      "\n",
      "\n",
      "\n",
      "\n",
      "\n",
      "\n",
      "Loading...:  45%|███████████████████████████████                                      | 89/198 [02:20<03:00,  1.66s/it]"
     ]
    },
    {
     "name": "stdout",
     "output_type": "stream",
     "text": [
      "TT pistol 7.62x25 TT Gold\n"
     ]
    },
    {
     "name": "stderr",
     "output_type": "stream",
     "text": [
      "\n",
      "\n",
      "\n",
      "\n",
      "\n",
      "\n",
      "Loading...:  45%|███████████████████████████████▎                                     | 90/198 [02:21<02:53,  1.61s/it]"
     ]
    },
    {
     "name": "stdout",
     "output_type": "stream",
     "text": [
      "NSV \"Utes\" 12.7x108 machine gun\n"
     ]
    },
    {
     "name": "stderr",
     "output_type": "stream",
     "text": [
      "\n",
      "\n",
      "\n",
      "\n",
      "\n",
      "\n",
      "Loading...:  46%|███████████████████████████████▋                                     | 91/198 [02:23<02:46,  1.55s/it]"
     ]
    },
    {
     "name": "stdout",
     "output_type": "stream",
     "text": [
      "AGS-30\n"
     ]
    },
    {
     "name": "stderr",
     "output_type": "stream",
     "text": [
      "\n",
      "\n",
      "\n",
      "\n",
      "\n",
      "\n",
      "Loading...:  46%|████████████████████████████████                                     | 92/198 [02:24<02:47,  1.58s/it]"
     ]
    },
    {
     "name": "stdout",
     "output_type": "stream",
     "text": [
      "6h5 Bayonet\n"
     ]
    },
    {
     "name": "stderr",
     "output_type": "stream",
     "text": [
      "\n",
      "\n",
      "\n",
      "\n",
      "\n",
      "\n",
      "Loading...:  47%|████████████████████████████████▍                                    | 93/198 [02:26<02:41,  1.53s/it]"
     ]
    },
    {
     "name": "stdout",
     "output_type": "stream",
     "text": [
      "Antique axe\n"
     ]
    },
    {
     "name": "stderr",
     "output_type": "stream",
     "text": [
      "\n",
      "\n",
      "\n",
      "\n",
      "\n",
      "\n",
      "Loading...:  47%|████████████████████████████████▊                                    | 94/198 [02:27<02:36,  1.51s/it]"
     ]
    },
    {
     "name": "stdout",
     "output_type": "stream",
     "text": [
      "Bars A-2607- 95x18\n"
     ]
    },
    {
     "name": "stderr",
     "output_type": "stream",
     "text": [
      "\n",
      "\n",
      "\n",
      "\n",
      "\n",
      "\n",
      "Loading...:  48%|█████████████████████████████████                                    | 95/198 [02:29<02:33,  1.49s/it]"
     ]
    },
    {
     "name": "stdout",
     "output_type": "stream",
     "text": [
      "Bars A-2607- Damascus\n"
     ]
    },
    {
     "name": "stderr",
     "output_type": "stream",
     "text": [
      "\n",
      "\n",
      "\n",
      "\n",
      "\n",
      "\n",
      "Loading...:  48%|█████████████████████████████████▍                                   | 96/198 [02:30<02:35,  1.53s/it]"
     ]
    },
    {
     "name": "stdout",
     "output_type": "stream",
     "text": [
      "Camper axe\n"
     ]
    },
    {
     "name": "stderr",
     "output_type": "stream",
     "text": [
      "\n",
      "\n",
      "\n",
      "\n",
      "\n",
      "\n",
      "Loading...:  49%|█████████████████████████████████▊                                   | 97/198 [02:32<02:31,  1.50s/it]"
     ]
    },
    {
     "name": "stdout",
     "output_type": "stream",
     "text": [
      "Crash Axe\n"
     ]
    },
    {
     "name": "stderr",
     "output_type": "stream",
     "text": [
      "\n",
      "\n",
      "\n",
      "\n",
      "\n",
      "\n",
      "Loading...:  49%|██████████████████████████████████▏                                  | 98/198 [02:33<02:28,  1.49s/it]"
     ]
    },
    {
     "name": "stdout",
     "output_type": "stream",
     "text": [
      "Cultist's knife\n"
     ]
    },
    {
     "name": "stderr",
     "output_type": "stream",
     "text": [
      "\n",
      "\n",
      "\n",
      "\n",
      "\n",
      "\n",
      "Loading...:  50%|██████████████████████████████████▌                                  | 99/198 [02:35<02:31,  1.53s/it]"
     ]
    },
    {
     "name": "stdout",
     "output_type": "stream",
     "text": [
      "ER Fulcrum Bayonet\n"
     ]
    },
    {
     "name": "stderr",
     "output_type": "stream",
     "text": [
      "\n",
      "\n",
      "\n",
      "\n",
      "\n",
      "\n",
      "Loading...:  51%|██████████████████████████████████▎                                 | 100/198 [02:36<02:31,  1.54s/it]"
     ]
    },
    {
     "name": "stdout",
     "output_type": "stream",
     "text": [
      "Freeman crowbar\n"
     ]
    },
    {
     "name": "stderr",
     "output_type": "stream",
     "text": [
      "\n",
      "\n",
      "\n",
      "\n",
      "\n",
      "\n",
      "Loading...:  51%|██████████████████████████████████▋                                 | 101/198 [02:38<02:28,  1.53s/it]"
     ]
    },
    {
     "name": "stdout",
     "output_type": "stream",
     "text": [
      "Kiba Arms Tactical Tomahawk\n"
     ]
    },
    {
     "name": "stderr",
     "output_type": "stream",
     "text": [
      "\n",
      "\n",
      "\n",
      "\n",
      "\n",
      "\n",
      "Loading...:  52%|███████████████████████████████████                                 | 102/198 [02:40<02:35,  1.62s/it]"
     ]
    },
    {
     "name": "stdout",
     "output_type": "stream",
     "text": [
      "Miller Bros. Blades M-2 Tactical Sword\n"
     ]
    },
    {
     "name": "stderr",
     "output_type": "stream",
     "text": [
      "\n",
      "\n",
      "\n",
      "\n",
      "\n",
      "\n",
      "Loading...:  52%|███████████████████████████████████▎                                | 103/198 [02:41<02:28,  1.56s/it]"
     ]
    },
    {
     "name": "stdout",
     "output_type": "stream",
     "text": [
      "MPL-50 entrenching tool\n"
     ]
    },
    {
     "name": "stderr",
     "output_type": "stream",
     "text": [
      "\n",
      "\n",
      "\n",
      "\n",
      "\n",
      "\n",
      "Loading...:  53%|███████████████████████████████████▋                                | 104/198 [02:43<02:29,  1.59s/it]"
     ]
    },
    {
     "name": "stdout",
     "output_type": "stream",
     "text": [
      "Red Rebel Ice pick\n"
     ]
    },
    {
     "name": "stderr",
     "output_type": "stream",
     "text": [
      "\n",
      "\n",
      "\n",
      "\n",
      "\n",
      "\n",
      "Loading...:  53%|████████████████████████████████████                                | 105/198 [02:44<02:24,  1.55s/it]"
     ]
    },
    {
     "name": "stdout",
     "output_type": "stream",
     "text": [
      "SP-8 Survival Machete\n"
     ]
    },
    {
     "name": "stderr",
     "output_type": "stream",
     "text": [
      "\n",
      "\n",
      "\n",
      "\n",
      "\n",
      "\n",
      "Loading...:  54%|████████████████████████████████████▍                               | 106/198 [02:46<02:21,  1.54s/it]"
     ]
    },
    {
     "name": "stdout",
     "output_type": "stream",
     "text": [
      "UVSR Taiga-1\n"
     ]
    },
    {
     "name": "stderr",
     "output_type": "stream",
     "text": [
      "\n",
      "\n",
      "\n",
      "\n",
      "\n",
      "\n",
      "Loading...:  54%|████████████████████████████████████▋                               | 107/198 [02:47<02:17,  1.51s/it]"
     ]
    },
    {
     "name": "stdout",
     "output_type": "stream",
     "text": [
      "F-1 Hand grenade\n"
     ]
    },
    {
     "name": "stderr",
     "output_type": "stream",
     "text": [
      "\n",
      "\n",
      "\n",
      "\n",
      "\n",
      "\n",
      "Loading...:  55%|█████████████████████████████████████                               | 108/198 [02:49<02:23,  1.60s/it]"
     ]
    },
    {
     "name": "stdout",
     "output_type": "stream",
     "text": [
      "M67 Hand grenade\n"
     ]
    },
    {
     "name": "stderr",
     "output_type": "stream",
     "text": [
      "\n",
      "\n",
      "\n",
      "\n",
      "\n",
      "\n",
      "Loading...:  55%|█████████████████████████████████████▍                              | 109/198 [02:51<02:20,  1.58s/it]"
     ]
    },
    {
     "name": "stdout",
     "output_type": "stream",
     "text": [
      "RGD-5 hand grenade\n"
     ]
    },
    {
     "name": "stderr",
     "output_type": "stream",
     "text": [
      "\n",
      "\n",
      "\n",
      "\n",
      "\n",
      "\n",
      "Loading...:  56%|█████████████████████████████████████▊                              | 110/198 [02:52<02:16,  1.55s/it]"
     ]
    },
    {
     "name": "stdout",
     "output_type": "stream",
     "text": [
      "VOG-17 Khattabka grenade\n"
     ]
    },
    {
     "name": "stderr",
     "output_type": "stream",
     "text": [
      "\n",
      "\n",
      "\n",
      "\n",
      "\n",
      "\n",
      "Loading...:  56%|██████████████████████████████████████                              | 111/198 [02:54<02:13,  1.54s/it]"
     ]
    },
    {
     "name": "stdout",
     "output_type": "stream",
     "text": [
      "VOG-25 Khattabka grenade\n"
     ]
    },
    {
     "name": "stderr",
     "output_type": "stream",
     "text": [
      "\n",
      "\n",
      "\n",
      "\n",
      "\n",
      "\n",
      "Loading...:  57%|██████████████████████████████████████▍                             | 112/198 [02:55<02:10,  1.52s/it]"
     ]
    },
    {
     "name": "stdout",
     "output_type": "stream",
     "text": [
      "RDG-2B Smoke grenade\n"
     ]
    },
    {
     "name": "stderr",
     "output_type": "stream",
     "text": [
      "\n",
      "\n",
      "\n",
      "\n",
      "\n",
      "\n",
      "Loading...:  57%|██████████████████████████████████████▊                             | 113/198 [02:57<02:11,  1.55s/it]"
     ]
    },
    {
     "name": "stdout",
     "output_type": "stream",
     "text": [
      "Zarya stun grenade\n"
     ]
    },
    {
     "name": "stderr",
     "output_type": "stream",
     "text": [
      "\n",
      "\n",
      "\n",
      "\n",
      "\n",
      "\n",
      "Loading...:  58%|███████████████████████████████████████▏                            | 114/198 [02:58<02:07,  1.52s/it]"
     ]
    },
    {
     "name": "stdout",
     "output_type": "stream",
     "text": [
      "9A-91/VSK-94\n"
     ]
    },
    {
     "name": "stderr",
     "output_type": "stream",
     "text": [
      "\n",
      "\n",
      "\n",
      "\n",
      "\n",
      "\n",
      "Loading...:  58%|███████████████████████████████████████▍                            | 115/198 [02:59<02:03,  1.49s/it]"
     ]
    },
    {
     "name": "stdout",
     "output_type": "stream",
     "text": [
      "AAC Honey Badger\n"
     ]
    },
    {
     "name": "stderr",
     "output_type": "stream",
     "text": [
      "\n",
      "\n",
      "\n",
      "\n",
      "\n",
      "\n",
      "Loading...:  59%|███████████████████████████████████████▊                            | 116/198 [03:01<02:03,  1.50s/it]"
     ]
    },
    {
     "name": "stdout",
     "output_type": "stream",
     "text": [
      "AEK-919K\n"
     ]
    },
    {
     "name": "stderr",
     "output_type": "stream",
     "text": [
      "\n",
      "\n",
      "\n",
      "\n",
      "\n",
      "\n",
      "Loading...:  59%|████████████████████████████████████████▏                           | 117/198 [03:03<02:07,  1.57s/it]"
     ]
    },
    {
     "name": "stdout",
     "output_type": "stream",
     "text": [
      "AEK-971/AEK-973 and A-545/A-762\n"
     ]
    },
    {
     "name": "stderr",
     "output_type": "stream",
     "text": [
      "\n",
      "\n",
      "\n",
      "\n",
      "\n",
      "\n",
      "Loading...:  60%|████████████████████████████████████████▌                           | 118/198 [03:04<02:02,  1.53s/it]"
     ]
    },
    {
     "name": "stdout",
     "output_type": "stream",
     "text": [
      "AK-12\n"
     ]
    },
    {
     "name": "stderr",
     "output_type": "stream",
     "text": [
      "\n",
      "\n",
      "\n",
      "\n",
      "\n",
      "\n",
      "Loading...:  60%|████████████████████████████████████████▊                           | 119/198 [03:06<01:58,  1.50s/it]"
     ]
    },
    {
     "name": "stdout",
     "output_type": "stream",
     "text": [
      "AK-15\n"
     ]
    },
    {
     "name": "stderr",
     "output_type": "stream",
     "text": [
      "\n",
      "\n",
      "\n",
      "\n",
      "\n",
      "\n",
      "Loading...:  61%|█████████████████████████████████████████▏                          | 120/198 [03:07<01:54,  1.46s/it]"
     ]
    },
    {
     "name": "stdout",
     "output_type": "stream",
     "text": [
      "AK-308\n"
     ]
    },
    {
     "name": "stderr",
     "output_type": "stream",
     "text": [
      "\n",
      "\n",
      "\n",
      "\n",
      "\n",
      "\n",
      "Loading...:  61%|█████████████████████████████████████████▌                          | 121/198 [03:08<01:53,  1.47s/it]"
     ]
    },
    {
     "name": "stdout",
     "output_type": "stream",
     "text": [
      "AK TR-3\n"
     ]
    },
    {
     "name": "stderr",
     "output_type": "stream",
     "text": [
      "\n",
      "\n",
      "\n",
      "\n",
      "\n",
      "\n",
      "Loading...:  62%|█████████████████████████████████████████▉                          | 122/198 [03:10<01:50,  1.46s/it]"
     ]
    },
    {
     "name": "stdout",
     "output_type": "stream",
     "text": [
      "Alexander Arms .50 Beowulf\n"
     ]
    },
    {
     "name": "stderr",
     "output_type": "stream",
     "text": [
      "\n",
      "\n",
      "\n",
      "\n",
      "\n",
      "\n",
      "Loading...:  62%|██████████████████████████████████████████▏                         | 123/198 [03:11<01:48,  1.45s/it]"
     ]
    },
    {
     "name": "stdout",
     "output_type": "stream",
     "text": [
      "AM-17\n"
     ]
    },
    {
     "name": "stderr",
     "output_type": "stream",
     "text": [
      "\n",
      "\n",
      "\n",
      "\n",
      "\n",
      "\n",
      "Loading...:  63%|██████████████████████████████████████████▌                         | 124/198 [03:13<01:47,  1.45s/it]"
     ]
    },
    {
     "name": "stdout",
     "output_type": "stream",
     "text": [
      "AN-94\n"
     ]
    },
    {
     "name": "stderr",
     "output_type": "stream",
     "text": [
      "\n",
      "\n",
      "\n",
      "\n",
      "\n",
      "\n",
      "Loading...:  63%|██████████████████████████████████████████▉                         | 125/198 [03:14<01:46,  1.47s/it]"
     ]
    },
    {
     "name": "stdout",
     "output_type": "stream",
     "text": [
      "Benelli M4\n"
     ]
    },
    {
     "name": "stderr",
     "output_type": "stream",
     "text": [
      "\n",
      "\n",
      "\n",
      "\n",
      "\n",
      "\n",
      "Loading...:  64%|███████████████████████████████████████████▎                        | 126/198 [03:16<01:50,  1.53s/it]"
     ]
    },
    {
     "name": "stdout",
     "output_type": "stream",
     "text": [
      "Bushmaster ACR\n"
     ]
    },
    {
     "name": "stderr",
     "output_type": "stream",
     "text": [
      "\n",
      "\n",
      "\n",
      "\n",
      "\n",
      "\n",
      "Loading...:  64%|███████████████████████████████████████████▌                        | 127/198 [03:17<01:48,  1.52s/it]"
     ]
    },
    {
     "name": "stdout",
     "output_type": "stream",
     "text": [
      "CMMG Mk47 Mutant\n"
     ]
    },
    {
     "name": "stderr",
     "output_type": "stream",
     "text": [
      "\n",
      "\n",
      "\n",
      "\n",
      "\n",
      "\n",
      "Loading...:  65%|███████████████████████████████████████████▉                        | 128/198 [03:19<01:47,  1.53s/it]"
     ]
    },
    {
     "name": "stdout",
     "output_type": "stream",
     "text": [
      "CZ Bren 2 / CZ BREN 805\n"
     ]
    },
    {
     "name": "stderr",
     "output_type": "stream",
     "text": [
      "\n",
      "\n",
      "\n",
      "\n",
      "\n",
      "\n",
      "Loading...:  65%|████████████████████████████████████████████▎                       | 129/198 [03:21<01:45,  1.53s/it]"
     ]
    },
    {
     "name": "stdout",
     "output_type": "stream",
     "text": [
      "DSR-1\n"
     ]
    },
    {
     "name": "stderr",
     "output_type": "stream",
     "text": [
      "\n",
      "\n",
      "\n",
      "\n",
      "\n",
      "\n",
      "Loading...:  66%|████████████████████████████████████████████▋                       | 130/198 [03:22<01:43,  1.52s/it]"
     ]
    },
    {
     "name": "stdout",
     "output_type": "stream",
     "text": [
      "EF88 Austeyr / F90 (Export version)\n"
     ]
    },
    {
     "name": "stderr",
     "output_type": "stream",
     "text": [
      "\n",
      "\n",
      "\n",
      "\n",
      "\n",
      "\n",
      "Loading...:  66%|████████████████████████████████████████████▉                       | 131/198 [03:24<01:41,  1.51s/it]"
     ]
    },
    {
     "name": "stdout",
     "output_type": "stream",
     "text": [
      "FN SCAR-L/H\n"
     ]
    },
    {
     "name": "stderr",
     "output_type": "stream",
     "text": [
      "\n",
      "\n",
      "\n",
      "\n",
      "\n",
      "\n",
      "Loading...:  67%|█████████████████████████████████████████████▎                      | 132/198 [03:25<01:37,  1.48s/it]"
     ]
    },
    {
     "name": "stdout",
     "output_type": "stream",
     "text": [
      "Heckler\n"
     ]
    },
    {
     "name": "stderr",
     "output_type": "stream",
     "text": [
      "\n",
      "\n",
      "\n",
      "\n",
      "\n",
      "\n",
      "Loading...:  67%|█████████████████████████████████████████████▋                      | 133/198 [03:27<01:46,  1.64s/it]"
     ]
    },
    {
     "name": "stdout",
     "output_type": "stream",
     "text": [
      "Heckler\n"
     ]
    },
    {
     "name": "stderr",
     "output_type": "stream",
     "text": [
      "\n",
      "\n",
      "\n",
      "\n",
      "\n",
      "\n",
      "Loading...:  68%|██████████████████████████████████████████████                      | 134/198 [03:28<01:39,  1.56s/it]"
     ]
    },
    {
     "name": "stdout",
     "output_type": "stream",
     "text": [
      "Heckler\n"
     ]
    },
    {
     "name": "stderr",
     "output_type": "stream",
     "text": [
      "\n",
      "\n",
      "\n",
      "\n",
      "\n",
      "\n",
      "Loading...:  68%|██████████████████████████████████████████████▎                     | 135/198 [03:30<01:35,  1.52s/it]"
     ]
    },
    {
     "name": "stdout",
     "output_type": "stream",
     "text": [
      "Heckler\n"
     ]
    },
    {
     "name": "stderr",
     "output_type": "stream",
     "text": [
      "\n",
      "\n",
      "\n",
      "\n",
      "\n",
      "\n",
      "Loading...:  69%|██████████████████████████████████████████████▋                     | 136/198 [03:31<01:32,  1.49s/it]"
     ]
    },
    {
     "name": "stdout",
     "output_type": "stream",
     "text": [
      "Heckler\n"
     ]
    },
    {
     "name": "stderr",
     "output_type": "stream",
     "text": [
      "\n",
      "\n",
      "\n",
      "\n",
      "\n",
      "\n",
      "Loading...:  69%|███████████████████████████████████████████████                     | 137/198 [03:33<01:34,  1.54s/it]"
     ]
    },
    {
     "name": "stdout",
     "output_type": "stream",
     "text": [
      "Kalashnikov SR1\n"
     ]
    },
    {
     "name": "stderr",
     "output_type": "stream",
     "text": [
      "\n",
      "\n",
      "\n",
      "\n",
      "\n",
      "\n",
      "Loading...:  70%|███████████████████████████████████████████████▍                    | 138/198 [03:34<01:27,  1.46s/it]"
     ]
    },
    {
     "name": "stdout",
     "output_type": "stream",
     "text": [
      "Knight's Armament Company PDW\n"
     ]
    },
    {
     "name": "stderr",
     "output_type": "stream",
     "text": [
      "\n",
      "\n",
      "\n",
      "\n",
      "\n",
      "\n",
      "Loading...:  70%|███████████████████████████████████████████████▋                    | 139/198 [03:36<01:24,  1.44s/it]"
     ]
    },
    {
     "name": "stdout",
     "output_type": "stream",
     "text": [
      "KSVK 12.7\n"
     ]
    },
    {
     "name": "stderr",
     "output_type": "stream",
     "text": [
      "\n",
      "\n",
      "\n",
      "\n",
      "\n",
      "\n",
      "Loading...:  71%|████████████████████████████████████████████████                    | 140/198 [03:37<01:23,  1.45s/it]"
     ]
    },
    {
     "name": "stdout",
     "output_type": "stream",
     "text": [
      "M16A4\n"
     ]
    },
    {
     "name": "stderr",
     "output_type": "stream",
     "text": [
      "\n",
      "\n",
      "\n",
      "\n",
      "\n",
      "\n",
      "Loading...:  71%|████████████████████████████████████████████████▍                   | 141/198 [03:38<01:22,  1.44s/it]"
     ]
    },
    {
     "name": "stdout",
     "output_type": "stream",
     "text": [
      "MP-155\n"
     ]
    },
    {
     "name": "stderr",
     "output_type": "stream",
     "text": [
      "\n",
      "\n",
      "\n",
      "\n",
      "\n",
      "\n",
      "Loading...:  72%|████████████████████████████████████████████████▊                   | 142/198 [03:40<01:19,  1.43s/it]"
     ]
    },
    {
     "name": "stdout",
     "output_type": "stream",
     "text": [
      "Baikal MP-43\n"
     ]
    },
    {
     "name": "stderr",
     "output_type": "stream",
     "text": [
      "\n",
      "\n",
      "\n",
      "\n",
      "\n",
      "\n",
      "Loading...:  72%|█████████████████████████████████████████████████                   | 143/198 [03:41<01:20,  1.47s/it]"
     ]
    },
    {
     "name": "stdout",
     "output_type": "stream",
     "text": [
      "MP-18M\n"
     ]
    },
    {
     "name": "stderr",
     "output_type": "stream",
     "text": [
      "\n",
      "\n",
      "\n",
      "\n",
      "\n",
      "\n",
      "Loading...:  73%|█████████████████████████████████████████████████▍                  | 144/198 [03:43<01:18,  1.45s/it]"
     ]
    },
    {
     "name": "stdout",
     "output_type": "stream",
     "text": [
      "MP-233\n"
     ]
    },
    {
     "name": "stderr",
     "output_type": "stream",
     "text": [
      "\n",
      "\n",
      "\n",
      "\n",
      "\n",
      "\n",
      "Loading...:  73%|█████████████████████████████████████████████████▊                  | 145/198 [03:44<01:16,  1.45s/it]"
     ]
    },
    {
     "name": "stdout",
     "output_type": "stream",
     "text": [
      "Molot Bekaz 12\n"
     ]
    },
    {
     "name": "stderr",
     "output_type": "stream",
     "text": [
      "\n",
      "\n",
      "\n",
      "\n",
      "\n",
      "\n",
      "Loading...:  74%|██████████████████████████████████████████████████▏                 | 146/198 [03:46<01:15,  1.46s/it]"
     ]
    },
    {
     "name": "stdout",
     "output_type": "stream",
     "text": [
      "MTs 225\n"
     ]
    },
    {
     "name": "stderr",
     "output_type": "stream",
     "text": [
      "\n",
      "\n",
      "\n",
      "\n",
      "\n",
      "\n",
      "Loading...:  74%|██████████████████████████████████████████████████▍                 | 147/198 [03:47<01:16,  1.51s/it]"
     ]
    },
    {
     "name": "stdout",
     "output_type": "stream",
     "text": [
      "Orsis SVLK-14S \"Sumrak\"\n"
     ]
    },
    {
     "name": "stderr",
     "output_type": "stream",
     "text": [
      "\n",
      "\n",
      "\n",
      "\n",
      "\n",
      "\n",
      "Loading...:  75%|██████████████████████████████████████████████████▊                 | 148/198 [03:49<01:15,  1.51s/it]"
     ]
    },
    {
     "name": "stdout",
     "output_type": "stream",
     "text": [
      "OTS-14 Groza\n"
     ]
    },
    {
     "name": "stderr",
     "output_type": "stream",
     "text": [
      "\n",
      "\n",
      "\n",
      "\n",
      "\n",
      "\n",
      "Loading...:  75%|███████████████████████████████████████████████████▏                | 149/198 [03:50<01:13,  1.49s/it]"
     ]
    },
    {
     "name": "stdout",
     "output_type": "stream",
     "text": [
      "PKM\n"
     ]
    },
    {
     "name": "stderr",
     "output_type": "stream",
     "text": [
      "\n",
      "\n",
      "\n",
      "\n",
      "\n",
      "\n",
      "Loading...:  76%|███████████████████████████████████████████████████▌                | 150/198 [03:52<01:13,  1.53s/it]"
     ]
    },
    {
     "name": "stdout",
     "output_type": "stream",
     "text": [
      "PKP Pecheneg\n"
     ]
    },
    {
     "name": "stderr",
     "output_type": "stream",
     "text": [
      "\n",
      "\n",
      "\n",
      "\n",
      "\n",
      "\n",
      "Loading...:  76%|███████████████████████████████████████████████████▊                | 151/198 [03:53<01:10,  1.51s/it]"
     ]
    },
    {
     "name": "stdout",
     "output_type": "stream",
     "text": [
      "PP-19 Bizon\n"
     ]
    },
    {
     "name": "stderr",
     "output_type": "stream",
     "text": [
      "\n",
      "\n",
      "\n",
      "\n",
      "\n",
      "\n",
      "Loading...:  77%|████████████████████████████████████████████████████▏               | 152/198 [03:55<01:10,  1.54s/it]"
     ]
    },
    {
     "name": "stdout",
     "output_type": "stream",
     "text": [
      "Rifle Dynamics 704 Pistol\n"
     ]
    },
    {
     "name": "stderr",
     "output_type": "stream",
     "text": [
      "\n",
      "\n",
      "\n",
      "\n",
      "\n",
      "\n",
      "Loading...:  77%|████████████████████████████████████████████████████▌               | 153/198 [03:56<01:07,  1.51s/it]"
     ]
    },
    {
     "name": "stdout",
     "output_type": "stream",
     "text": [
      "RPD\n"
     ]
    },
    {
     "name": "stderr",
     "output_type": "stream",
     "text": [
      "\n",
      "\n",
      "\n",
      "\n",
      "\n",
      "\n",
      "Loading...:  78%|████████████████████████████████████████████████████▉               | 154/198 [03:58<01:12,  1.65s/it]"
     ]
    },
    {
     "name": "stdout",
     "output_type": "stream",
     "text": [
      "RPK-16 5.45x39 light machine gun\n"
     ]
    },
    {
     "name": "stderr",
     "output_type": "stream",
     "text": [
      "\n",
      "\n",
      "\n",
      "\n",
      "\n",
      "\n",
      "Loading...:  78%|█████████████████████████████████████████████████████▏              | 155/198 [04:00<01:15,  1.76s/it]"
     ]
    },
    {
     "name": "stdout",
     "output_type": "stream",
     "text": [
      "Saiga MK 5.45\n"
     ]
    },
    {
     "name": "stderr",
     "output_type": "stream",
     "text": [
      "\n",
      "\n",
      "\n",
      "\n",
      "\n",
      "\n",
      "Loading...:  79%|█████████████████████████████████████████████████████▌              | 156/198 [04:02<01:09,  1.65s/it]"
     ]
    },
    {
     "name": "stdout",
     "output_type": "stream",
     "text": [
      "Škorpion vz. 61\n"
     ]
    },
    {
     "name": "stderr",
     "output_type": "stream",
     "text": [
      "\n",
      "\n",
      "\n",
      "\n",
      "\n",
      "\n",
      "Loading...:  79%|█████████████████████████████████████████████████████▉              | 157/198 [04:03<01:05,  1.60s/it]"
     ]
    },
    {
     "name": "stdout",
     "output_type": "stream",
     "text": [
      "SIG MPX .45 ACP Custom\n"
     ]
    },
    {
     "name": "stderr",
     "output_type": "stream",
     "text": [
      "\n",
      "\n",
      "\n",
      "\n",
      "\n",
      "\n",
      "Loading...:  80%|██████████████████████████████████████████████████████▎             | 158/198 [04:05<01:02,  1.57s/it]"
     ]
    },
    {
     "name": "stdout",
     "output_type": "stream",
     "text": [
      "SR-2 Veresk\n"
     ]
    },
    {
     "name": "stderr",
     "output_type": "stream",
     "text": [
      "\n",
      "\n",
      "\n",
      "\n",
      "\n",
      "\n",
      "Loading...:  80%|██████████████████████████████████████████████████████▌             | 159/198 [04:06<00:59,  1.54s/it]"
     ]
    },
    {
     "name": "stdout",
     "output_type": "stream",
     "text": [
      "SR-3 \"Vikhr\"\n"
     ]
    },
    {
     "name": "stderr",
     "output_type": "stream",
     "text": [
      "\n",
      "\n",
      "\n",
      "\n",
      "\n",
      "\n",
      "Loading...:  81%|██████████████████████████████████████████████████████▉             | 160/198 [04:08<00:57,  1.51s/it]"
     ]
    },
    {
     "name": "stdout",
     "output_type": "stream",
     "text": [
      "Steyr AUG\n"
     ]
    },
    {
     "name": "stderr",
     "output_type": "stream",
     "text": [
      "\n",
      "\n",
      "\n",
      "\n",
      "\n",
      "\n",
      "Loading...:  81%|███████████████████████████████████████████████████████▎            | 161/198 [04:09<00:58,  1.57s/it]"
     ]
    },
    {
     "name": "stdout",
     "output_type": "stream",
     "text": [
      "SV-18\n"
     ]
    },
    {
     "name": "stderr",
     "output_type": "stream",
     "text": [
      "\n",
      "\n",
      "\n",
      "\n",
      "\n",
      "\n",
      "Loading...:  82%|███████████████████████████████████████████████████████▋            | 162/198 [04:11<00:56,  1.56s/it]"
     ]
    },
    {
     "name": "stdout",
     "output_type": "stream",
     "text": [
      "SVDS 7.62x54 Sniper rifle\n"
     ]
    },
    {
     "name": "stderr",
     "output_type": "stream",
     "text": [
      "\n",
      "\n",
      "\n",
      "\n",
      "\n",
      "\n",
      "Loading...:  82%|███████████████████████████████████████████████████████▉            | 163/198 [04:13<00:54,  1.56s/it]"
     ]
    },
    {
     "name": "stdout",
     "output_type": "stream",
     "text": [
      "SVDM\n"
     ]
    },
    {
     "name": "stderr",
     "output_type": "stream",
     "text": [
      "\n",
      "\n",
      "\n",
      "\n",
      "\n",
      "\n",
      "Loading...:  83%|████████████████████████████████████████████████████████▎           | 164/198 [04:14<00:51,  1.52s/it]"
     ]
    },
    {
     "name": "stdout",
     "output_type": "stream",
     "text": [
      "SVDK\n"
     ]
    },
    {
     "name": "stderr",
     "output_type": "stream",
     "text": [
      "\n",
      "\n",
      "\n",
      "\n",
      "\n",
      "\n",
      "Loading...:  83%|████████████████████████████████████████████████████████▋           | 165/198 [04:16<00:51,  1.55s/it]"
     ]
    },
    {
     "name": "stdout",
     "output_type": "stream",
     "text": [
      "SVT-40\n"
     ]
    },
    {
     "name": "stderr",
     "output_type": "stream",
     "text": [
      "\n",
      "\n",
      "\n",
      "\n",
      "\n",
      "\n",
      "Loading...:  84%|█████████████████████████████████████████████████████████           | 166/198 [04:17<00:48,  1.53s/it]"
     ]
    },
    {
     "name": "stdout",
     "output_type": "stream",
     "text": [
      "Vepr 12\n"
     ]
    },
    {
     "name": "stderr",
     "output_type": "stream",
     "text": [
      "\n",
      "\n",
      "\n",
      "\n",
      "\n",
      "\n",
      "Loading...:  84%|█████████████████████████████████████████████████████████▎          | 167/198 [04:19<00:47,  1.52s/it]"
     ]
    },
    {
     "name": "stdout",
     "output_type": "stream",
     "text": [
      "Vepr SOK-94\n"
     ]
    },
    {
     "name": "stderr",
     "output_type": "stream",
     "text": [
      "\n",
      "\n",
      "\n",
      "\n",
      "\n",
      "\n",
      "Loading...:  85%|█████████████████████████████████████████████████████████▋          | 168/198 [04:20<00:44,  1.49s/it]"
     ]
    },
    {
     "name": "stdout",
     "output_type": "stream",
     "text": [
      "VKS Vychlop\n"
     ]
    },
    {
     "name": "stderr",
     "output_type": "stream",
     "text": [
      "\n",
      "\n",
      "\n",
      "\n",
      "\n",
      "\n",
      "Loading...:  85%|██████████████████████████████████████████████████████████          | 169/198 [04:22<00:43,  1.51s/it]"
     ]
    },
    {
     "name": "stdout",
     "output_type": "stream",
     "text": [
      "VPO-111\n"
     ]
    },
    {
     "name": "stderr",
     "output_type": "stream",
     "text": [
      "\n",
      "\n",
      "\n",
      "\n",
      "\n",
      "\n",
      "Loading...:  86%|██████████████████████████████████████████████████████████▍         | 170/198 [04:23<00:41,  1.49s/it]"
     ]
    },
    {
     "name": "stdout",
     "output_type": "stream",
     "text": [
      "VPO-156\n"
     ]
    },
    {
     "name": "stderr",
     "output_type": "stream",
     "text": [
      "\n",
      "\n",
      "\n",
      "\n",
      "\n",
      "\n",
      "Loading...:  86%|██████████████████████████████████████████████████████████▋         | 171/198 [04:24<00:40,  1.50s/it]"
     ]
    },
    {
     "name": "stdout",
     "output_type": "stream",
     "text": [
      "VPO-302\n"
     ]
    },
    {
     "name": "stderr",
     "output_type": "stream",
     "text": [
      "\n",
      "\n",
      "\n",
      "\n",
      "\n",
      "\n",
      "Loading...:  87%|███████████████████████████████████████████████████████████         | 172/198 [04:26<00:38,  1.47s/it]"
     ]
    },
    {
     "name": "stdout",
     "output_type": "stream",
     "text": [
      "Chiappa Rhino 20/40/50/60DS\n"
     ]
    },
    {
     "name": "stderr",
     "output_type": "stream",
     "text": [
      "\n",
      "\n",
      "\n",
      "\n",
      "\n",
      "\n",
      "Loading...:  87%|███████████████████████████████████████████████████████████▍        | 173/198 [04:27<00:37,  1.51s/it]"
     ]
    },
    {
     "name": "stdout",
     "output_type": "stream",
     "text": [
      "CZ 75\n"
     ]
    },
    {
     "name": "stderr",
     "output_type": "stream",
     "text": [
      "\n",
      "\n",
      "\n",
      "\n",
      "\n",
      "\n",
      "Loading...:  88%|███████████████████████████████████████████████████████████▊        | 174/198 [04:29<00:36,  1.50s/it]"
     ]
    },
    {
     "name": "stdout",
     "output_type": "stream",
     "text": [
      "CZ P-09\n"
     ]
    },
    {
     "name": "stderr",
     "output_type": "stream",
     "text": [
      "\n",
      "\n",
      "\n",
      "\n",
      "\n",
      "\n",
      "Loading...:  88%|████████████████████████████████████████████████████████████        | 175/198 [04:30<00:33,  1.47s/it]"
     ]
    },
    {
     "name": "stdout",
     "output_type": "stream",
     "text": [
      "EAA Thor\n"
     ]
    },
    {
     "name": "stderr",
     "output_type": "stream",
     "text": [
      "\n",
      "\n",
      "\n",
      "\n",
      "\n",
      "\n",
      "Loading...:  89%|████████████████████████████████████████████████████████████▍       | 176/198 [04:32<00:32,  1.47s/it]"
     ]
    },
    {
     "name": "stdout",
     "output_type": "stream",
     "text": [
      "GSh-18\n"
     ]
    },
    {
     "name": "stderr",
     "output_type": "stream",
     "text": [
      "\n",
      "\n",
      "\n",
      "\n",
      "\n",
      "\n",
      "Loading...:  89%|████████████████████████████████████████████████████████████▊       | 177/198 [04:33<00:31,  1.49s/it]"
     ]
    },
    {
     "name": "stdout",
     "output_type": "stream",
     "text": [
      "Glock 19\n"
     ]
    },
    {
     "name": "stderr",
     "output_type": "stream",
     "text": [
      "\n",
      "\n",
      "\n",
      "\n",
      "\n",
      "\n",
      "Loading...:  90%|█████████████████████████████████████████████████████████████▏      | 178/198 [04:35<00:29,  1.48s/it]"
     ]
    },
    {
     "name": "stdout",
     "output_type": "stream",
     "text": [
      "Heckler\n"
     ]
    },
    {
     "name": "stderr",
     "output_type": "stream",
     "text": [
      "\n",
      "\n",
      "\n",
      "\n",
      "\n",
      "\n",
      "Loading...:  90%|█████████████████████████████████████████████████████████████▍      | 179/198 [04:36<00:28,  1.48s/it]"
     ]
    },
    {
     "name": "stdout",
     "output_type": "stream",
     "text": [
      "IMI Desert Eagle\n"
     ]
    },
    {
     "name": "stderr",
     "output_type": "stream",
     "text": [
      "\n",
      "\n",
      "\n",
      "\n",
      "\n",
      "\n",
      "Loading...:  91%|█████████████████████████████████████████████████████████████▊      | 180/198 [04:38<00:26,  1.48s/it]"
     ]
    },
    {
     "name": "stdout",
     "output_type": "stream",
     "text": [
      "Jericho 941\n"
     ]
    },
    {
     "name": "stderr",
     "output_type": "stream",
     "text": [
      "\n",
      "\n",
      "\n",
      "\n",
      "\n",
      "\n",
      "Loading...:  91%|██████████████████████████████████████████████████████████████▏     | 181/198 [04:39<00:24,  1.45s/it]"
     ]
    },
    {
     "name": "stdout",
     "output_type": "stream",
     "text": [
      "PMM\n"
     ]
    },
    {
     "name": "stderr",
     "output_type": "stream",
     "text": [
      "\n",
      "\n",
      "\n",
      "\n",
      "\n",
      "\n",
      "Loading...:  92%|██████████████████████████████████████████████████████████████▌     | 182/198 [04:41<00:23,  1.50s/it]"
     ]
    },
    {
     "name": "stdout",
     "output_type": "stream",
     "text": [
      "PSS\n"
     ]
    },
    {
     "name": "stderr",
     "output_type": "stream",
     "text": [
      "\n",
      "\n",
      "\n",
      "\n",
      "\n",
      "\n",
      "Loading...:  92%|██████████████████████████████████████████████████████████████▊     | 183/198 [04:42<00:22,  1.48s/it]"
     ]
    },
    {
     "name": "stdout",
     "output_type": "stream",
     "text": [
      "Smith\n"
     ]
    },
    {
     "name": "stderr",
     "output_type": "stream",
     "text": [
      "\n",
      "\n",
      "\n",
      "\n",
      "\n",
      "\n",
      "Loading...:  93%|███████████████████████████████████████████████████████████████▏    | 184/198 [04:44<00:20,  1.45s/it]"
     ]
    },
    {
     "name": "stdout",
     "output_type": "stream",
     "text": [
      "GP-25\n"
     ]
    },
    {
     "name": "stderr",
     "output_type": "stream",
     "text": [
      "\n",
      "\n",
      "\n",
      "\n",
      "\n",
      "\n",
      "Loading...:  93%|███████████████████████████████████████████████████████████████▌    | 185/198 [04:45<00:18,  1.45s/it]"
     ]
    },
    {
     "name": "stdout",
     "output_type": "stream",
     "text": [
      "GP-30M\n"
     ]
    },
    {
     "name": "stderr",
     "output_type": "stream",
     "text": [
      "\n",
      "\n",
      "\n",
      "\n",
      "\n",
      "\n",
      "Loading...:  94%|███████████████████████████████████████████████████████████████▉    | 186/198 [04:46<00:17,  1.45s/it]"
     ]
    },
    {
     "name": "stdout",
     "output_type": "stream",
     "text": [
      "GP-34 underbarrel grenade launcher\n"
     ]
    },
    {
     "name": "stderr",
     "output_type": "stream",
     "text": [
      "\n",
      "\n",
      "\n",
      "\n",
      "\n",
      "\n",
      "Loading...:  94%|████████████████████████████████████████████████████████████████▏   | 187/198 [04:48<00:16,  1.51s/it]"
     ]
    },
    {
     "name": "stdout",
     "output_type": "stream",
     "text": [
      "M203\n"
     ]
    },
    {
     "name": "stderr",
     "output_type": "stream",
     "text": [
      "\n",
      "\n",
      "\n",
      "\n",
      "\n",
      "\n",
      "Loading...:  95%|████████████████████████████████████████████████████████████████▌   | 188/198 [04:50<00:15,  1.51s/it]"
     ]
    },
    {
     "name": "stdout",
     "output_type": "stream",
     "text": [
      "Milkor MGL\n"
     ]
    },
    {
     "name": "stderr",
     "output_type": "stream",
     "text": [
      "\n",
      "\n",
      "\n",
      "\n",
      "\n",
      "\n",
      "Loading...:  95%|████████████████████████████████████████████████████████████████▉   | 189/198 [04:51<00:13,  1.48s/it]"
     ]
    },
    {
     "name": "stdout",
     "output_type": "stream",
     "text": [
      "RG-6\n"
     ]
    },
    {
     "name": "stderr",
     "output_type": "stream",
     "text": [
      "\n",
      "\n",
      "\n",
      "\n",
      "\n",
      "\n",
      "Loading...:  96%|█████████████████████████████████████████████████████████████████▎  | 190/198 [04:53<00:11,  1.49s/it]"
     ]
    },
    {
     "name": "stdout",
     "output_type": "stream",
     "text": [
      "RPG-7\n"
     ]
    },
    {
     "name": "stderr",
     "output_type": "stream",
     "text": [
      "\n",
      "\n",
      "\n",
      "\n",
      "\n",
      "\n",
      "Loading...:  96%|█████████████████████████████████████████████████████████████████▌  | 191/198 [04:54<00:10,  1.46s/it]"
     ]
    },
    {
     "name": "stdout",
     "output_type": "stream",
     "text": [
      "AN grenade (model unknown, could be an AN M14 incendiary grenade or a M18 smoke grenade)\n"
     ]
    },
    {
     "name": "stderr",
     "output_type": "stream",
     "text": [
      "\n",
      "\n",
      "\n",
      "\n",
      "\n",
      "\n",
      "Loading...:  97%|█████████████████████████████████████████████████████████████████▉  | 192/198 [04:56<00:08,  1.49s/it]"
     ]
    },
    {
     "name": "stdout",
     "output_type": "stream",
     "text": [
      "RGN offensive grenade (brown) and RGO defensive grenade (green), both with the UDZS dual action fuze\n"
     ]
    },
    {
     "name": "stderr",
     "output_type": "stream",
     "text": [
      "\n",
      "\n",
      "\n",
      "\n",
      "\n",
      "\n",
      "Loading...:  97%|██████████████████████████████████████████████████████████████████▎ | 193/198 [04:57<00:07,  1.46s/it]"
     ]
    },
    {
     "name": "stdout",
     "output_type": "stream",
     "text": [
      "OZM72 wire mine with MUV2 fuse\n"
     ]
    },
    {
     "name": "stderr",
     "output_type": "stream",
     "text": [
      "\n",
      "\n",
      "\n",
      "\n",
      "\n",
      "\n",
      "Loading...:  98%|██████████████████████████████████████████████████████████████████▋ | 194/198 [04:58<00:05,  1.46s/it]"
     ]
    },
    {
     "name": "stdout",
     "output_type": "stream",
     "text": [
      "PMN2 anti personnel mine\n"
     ]
    },
    {
     "name": "stderr",
     "output_type": "stream",
     "text": [
      "\n",
      "\n",
      "\n",
      "\n",
      "\n",
      "\n",
      "Loading...:  98%|██████████████████████████████████████████████████████████████████▉ | 195/198 [05:00<00:04,  1.54s/it]"
     ]
    },
    {
     "name": "stdout",
     "output_type": "stream",
     "text": [
      "PMN4 anti personnel mine\n"
     ]
    },
    {
     "name": "stderr",
     "output_type": "stream",
     "text": [
      "\n",
      "\n",
      "\n",
      "\n",
      "\n",
      "\n",
      "Loading...:  99%|███████████████████████████████████████████████████████████████████▎| 196/198 [05:02<00:03,  1.55s/it]"
     ]
    },
    {
     "name": "stdout",
     "output_type": "stream",
     "text": [
      "PFM1 anti personnel mine\n"
     ]
    },
    {
     "name": "stderr",
     "output_type": "stream",
     "text": [
      "\n",
      "\n",
      "\n",
      "\n",
      "\n",
      "\n",
      "Loading...:  99%|███████████████████████████████████████████████████████████████████▋| 197/198 [05:03<00:01,  1.50s/it]"
     ]
    },
    {
     "name": "stdout",
     "output_type": "stream",
     "text": [
      "MON-50\n"
     ]
    },
    {
     "name": "stderr",
     "output_type": "stream",
     "text": [
      "\n",
      "\n",
      "\n",
      "\n",
      "\n",
      "\n",
      "Loading...: 100%|████████████████████████████████████████████████████████████████████| 198/198 [05:04<00:00,  1.47s/it]"
     ]
    }
   ],
   "source": [
    "from tqdm import tqdm\n",
    "for i in tqdm(range(len(WeapLink)),desc=\"Loading...\"):\n",
    "    weapURL = requests.get(WeapLink[i])\n",
    "    weapSource = weapURL.content.decode('utf-8')\n",
    "    weapNewSoup = BeautifulSoup(weapSource,'lxml')\n",
    "    time.sleep(1)\n",
    "    \n",
    "    Name = weapNewSoup.find('h1','firstHeading').text + ','\n",
    "    print(Name)\n",
    "    \n",
    "    "
   ]
  },
  {
   "cell_type": "code",
   "execution_count": null,
   "metadata": {},
   "outputs": [],
   "source": []
  },
  {
   "cell_type": "code",
   "execution_count": null,
   "metadata": {},
   "outputs": [],
   "source": []
  }
 ],
 "metadata": {
  "kernelspec": {
   "display_name": "Python 3",
   "language": "python",
   "name": "python3"
  },
  "language_info": {
   "codemirror_mode": {
    "name": "ipython",
    "version": 3
   },
   "file_extension": ".py",
   "mimetype": "text/x-python",
   "name": "python",
   "nbconvert_exporter": "python",
   "pygments_lexer": "ipython3",
   "version": "3.7.3"
  }
 },
 "nbformat": 4,
 "nbformat_minor": 2
}
