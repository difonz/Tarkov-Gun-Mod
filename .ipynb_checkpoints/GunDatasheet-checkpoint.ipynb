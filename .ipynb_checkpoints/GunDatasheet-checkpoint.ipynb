{
 "cells": [
  {
   "cell_type": "markdown",
   "metadata": {},
   "source": [
    "## Escape from Tarkov Gun Mod Project Database ##"
   ]
  },
  {
   "cell_type": "code",
   "execution_count": 252,
   "metadata": {},
   "outputs": [],
   "source": [
    "from requests import get\n",
    "from bs4 import BeautifulSoup\n",
    "import pandas as pd\n",
    "import numpy as np"
   ]
  },
  {
   "cell_type": "markdown",
   "metadata": {},
   "source": [
    "## Website thats being webscrapped for database ##"
   ]
  },
  {
   "cell_type": "code",
   "execution_count": 253,
   "metadata": {},
   "outputs": [],
   "source": [
    "urlWeapons = 'https://escapefromtarkov.gamepedia.com/Weapons'\n",
    "urlGunMods= 'https://escapefromtarkov.gamepedia.com/Weapon_mods'\n",
    "tarkovURL = 'https://escapefromtarkov.gamepedia.com/'"
   ]
  },
  {
   "cell_type": "markdown",
   "metadata": {},
   "source": [
    "## Requesting information ##"
   ]
  },
  {
   "cell_type": "code",
   "execution_count": 254,
   "metadata": {},
   "outputs": [
    {
     "name": "stdout",
     "output_type": "stream",
     "text": [
      "Downloading Weapons Page https://escapefromtarkov.gamepedia.com/Weapons...\n",
      "Downloading Gun Mods Page https://escapefromtarkov.gamepedia.com/Weapon_mods...\n"
     ]
    }
   ],
   "source": [
    "print(\"Downloading Weapons Page %s...\" %urlWeapons)\n",
    "response = get(urlWeapons)\n",
    "print(\"Downloading Gun Mods Page %s...\" %urlGunMods)\n",
    "response2 = get(urlGunMods)\n",
    "response.raise_for_status()\n",
    "response2.raise_for_status()"
   ]
  },
  {
   "cell_type": "markdown",
   "metadata": {},
   "source": [
    "## Create obj ##"
   ]
  },
  {
   "cell_type": "code",
   "execution_count": 255,
   "metadata": {},
   "outputs": [],
   "source": [
    "WeaponSoup = BeautifulSoup(response.content,'lxml')\n",
    "ModSoup = BeautifulSoup(response2.content,'lxml')"
   ]
  },
  {
   "cell_type": "markdown",
   "metadata": {},
   "source": [
    "## Weapons Data ##"
   ]
  },
  {
   "cell_type": "code",
   "execution_count": 256,
   "metadata": {
    "scrolled": false
   },
   "outputs": [
    {
     "name": "stdout",
     "output_type": "stream",
     "text": [
      "['MON-50', 'Anti personnel mine', 'Confirmed with this screenshot on the Facebook page of BSG']\n"
     ]
    }
   ],
   "source": [
    "WeaponsData=[]\n",
    "\n",
    "for table in WeaponSoup.findAll('table',{\"class\":\"wikitable sortable\"}):\n",
    "\n",
    "    WeaponsTable_body = table.find('tbody')\n",
    "\n",
    "    WeaponsRows = WeaponsTable_body.find_all('tr')\n",
    "\n",
    "    for row in WeaponsRows:\n",
    "\n",
    "        WeaponCols = row.find_all('th')+ row.find_all('td')\n",
    "\n",
    "        WeaponCols = [ele.text.strip() for ele in WeaponCols]\n",
    "        \n",
    "        WeaponsData.append([ele for ele in WeaponCols if ele])\n",
    "    #print(WeaponsData) \n",
    "print(WeaponsData[-1])"
   ]
  },
  {
   "cell_type": "markdown",
   "metadata": {},
   "source": [
    "## Grabbing URLs ## "
   ]
  },
  {
   "cell_type": "code",
   "execution_count": 257,
   "metadata": {},
   "outputs": [
    {
     "data": {
      "text/html": [
       "<div>\n",
       "<style scoped>\n",
       "    .dataframe tbody tr th:only-of-type {\n",
       "        vertical-align: middle;\n",
       "    }\n",
       "\n",
       "    .dataframe tbody tr th {\n",
       "        vertical-align: top;\n",
       "    }\n",
       "\n",
       "    .dataframe thead th {\n",
       "        text-align: right;\n",
       "    }\n",
       "</style>\n",
       "<table border=\"1\" class=\"dataframe\">\n",
       "  <thead>\n",
       "    <tr style=\"text-align: right;\">\n",
       "      <th></th>\n",
       "      <th>image</th>\n",
       "    </tr>\n",
       "  </thead>\n",
       "  <tbody>\n",
       "    <tr>\n",
       "      <th>1</th>\n",
       "      <td>https://static.wikia.nocookie.net/escapefromta...</td>\n",
       "    </tr>\n",
       "    <tr>\n",
       "      <th>2</th>\n",
       "      <td>https://static.wikia.nocookie.net/escapefromta...</td>\n",
       "    </tr>\n",
       "    <tr>\n",
       "      <th>3</th>\n",
       "      <td>https://static.wikia.nocookie.net/escapefromta...</td>\n",
       "    </tr>\n",
       "    <tr>\n",
       "      <th>4</th>\n",
       "      <td>https://static.wikia.nocookie.net/escapefromta...</td>\n",
       "    </tr>\n",
       "    <tr>\n",
       "      <th>5</th>\n",
       "      <td>https://static.wikia.nocookie.net/escapefromta...</td>\n",
       "    </tr>\n",
       "    <tr>\n",
       "      <th>6</th>\n",
       "      <td>https://static.wikia.nocookie.net/escapefromta...</td>\n",
       "    </tr>\n",
       "    <tr>\n",
       "      <th>7</th>\n",
       "      <td>https://static.wikia.nocookie.net/escapefromta...</td>\n",
       "    </tr>\n",
       "    <tr>\n",
       "      <th>8</th>\n",
       "      <td>https://static.wikia.nocookie.net/escapefromta...</td>\n",
       "    </tr>\n",
       "    <tr>\n",
       "      <th>9</th>\n",
       "      <td>https://static.wikia.nocookie.net/escapefromta...</td>\n",
       "    </tr>\n",
       "    <tr>\n",
       "      <th>10</th>\n",
       "      <td>https://static.wikia.nocookie.net/escapefromta...</td>\n",
       "    </tr>\n",
       "    <tr>\n",
       "      <th>11</th>\n",
       "      <td>https://static.wikia.nocookie.net/escapefromta...</td>\n",
       "    </tr>\n",
       "    <tr>\n",
       "      <th>12</th>\n",
       "      <td>https://static.wikia.nocookie.net/escapefromta...</td>\n",
       "    </tr>\n",
       "    <tr>\n",
       "      <th>13</th>\n",
       "      <td>https://static.wikia.nocookie.net/escapefromta...</td>\n",
       "    </tr>\n",
       "    <tr>\n",
       "      <th>14</th>\n",
       "      <td>https://static.wikia.nocookie.net/escapefromta...</td>\n",
       "    </tr>\n",
       "    <tr>\n",
       "      <th>15</th>\n",
       "      <td>https://static.wikia.nocookie.net/escapefromta...</td>\n",
       "    </tr>\n",
       "    <tr>\n",
       "      <th>16</th>\n",
       "      <td>https://static.wikia.nocookie.net/escapefromta...</td>\n",
       "    </tr>\n",
       "    <tr>\n",
       "      <th>17</th>\n",
       "      <td>https://static.wikia.nocookie.net/escapefromta...</td>\n",
       "    </tr>\n",
       "    <tr>\n",
       "      <th>18</th>\n",
       "      <td>https://static.wikia.nocookie.net/escapefromta...</td>\n",
       "    </tr>\n",
       "    <tr>\n",
       "      <th>19</th>\n",
       "      <td>https://static.wikia.nocookie.net/escapefromta...</td>\n",
       "    </tr>\n",
       "    <tr>\n",
       "      <th>20</th>\n",
       "      <td>https://static.wikia.nocookie.net/escapefromta...</td>\n",
       "    </tr>\n",
       "    <tr>\n",
       "      <th>21</th>\n",
       "      <td>https://static.wikia.nocookie.net/escapefromta...</td>\n",
       "    </tr>\n",
       "    <tr>\n",
       "      <th>22</th>\n",
       "      <td>https://static.wikia.nocookie.net/escapefromta...</td>\n",
       "    </tr>\n",
       "    <tr>\n",
       "      <th>23</th>\n",
       "      <td>https://static.wikia.nocookie.net/escapefromta...</td>\n",
       "    </tr>\n",
       "    <tr>\n",
       "      <th>24</th>\n",
       "      <td>https://static.wikia.nocookie.net/escapefromta...</td>\n",
       "    </tr>\n",
       "    <tr>\n",
       "      <th>25</th>\n",
       "      <td>https://static.wikia.nocookie.net/escapefromta...</td>\n",
       "    </tr>\n",
       "    <tr>\n",
       "      <th>26</th>\n",
       "      <td>https://static.wikia.nocookie.net/escapefromta...</td>\n",
       "    </tr>\n",
       "    <tr>\n",
       "      <th>27</th>\n",
       "      <td>https://static.wikia.nocookie.net/escapefromta...</td>\n",
       "    </tr>\n",
       "    <tr>\n",
       "      <th>28</th>\n",
       "      <td>https://static.wikia.nocookie.net/escapefromta...</td>\n",
       "    </tr>\n",
       "    <tr>\n",
       "      <th>29</th>\n",
       "      <td>https://static.wikia.nocookie.net/escapefromta...</td>\n",
       "    </tr>\n",
       "    <tr>\n",
       "      <th>30</th>\n",
       "      <td>https://static.wikia.nocookie.net/escapefromta...</td>\n",
       "    </tr>\n",
       "    <tr>\n",
       "      <th>...</th>\n",
       "      <td>...</td>\n",
       "    </tr>\n",
       "    <tr>\n",
       "      <th>164</th>\n",
       "      <td>https://static.wikia.nocookie.net/escapefromta...</td>\n",
       "    </tr>\n",
       "    <tr>\n",
       "      <th>165</th>\n",
       "      <td>https://static.wikia.nocookie.net/escapefromta...</td>\n",
       "    </tr>\n",
       "    <tr>\n",
       "      <th>166</th>\n",
       "      <td>https://static.wikia.nocookie.net/escapefromta...</td>\n",
       "    </tr>\n",
       "    <tr>\n",
       "      <th>167</th>\n",
       "      <td>https://static.wikia.nocookie.net/escapefromta...</td>\n",
       "    </tr>\n",
       "    <tr>\n",
       "      <th>168</th>\n",
       "      <td>https://static.wikia.nocookie.net/escapefromta...</td>\n",
       "    </tr>\n",
       "    <tr>\n",
       "      <th>169</th>\n",
       "      <td>https://static.wikia.nocookie.net/escapefromta...</td>\n",
       "    </tr>\n",
       "    <tr>\n",
       "      <th>170</th>\n",
       "      <td>https://static.wikia.nocookie.net/escapefromta...</td>\n",
       "    </tr>\n",
       "    <tr>\n",
       "      <th>171</th>\n",
       "      <td>https://static.wikia.nocookie.net/escapefromta...</td>\n",
       "    </tr>\n",
       "    <tr>\n",
       "      <th>172</th>\n",
       "      <td>https://static.wikia.nocookie.net/escapefromta...</td>\n",
       "    </tr>\n",
       "    <tr>\n",
       "      <th>173</th>\n",
       "      <td>https://static.wikia.nocookie.net/escapefromta...</td>\n",
       "    </tr>\n",
       "    <tr>\n",
       "      <th>174</th>\n",
       "      <td>https://static.wikia.nocookie.net/escapefromta...</td>\n",
       "    </tr>\n",
       "    <tr>\n",
       "      <th>175</th>\n",
       "      <td>https://static.wikia.nocookie.net/escapefromta...</td>\n",
       "    </tr>\n",
       "    <tr>\n",
       "      <th>176</th>\n",
       "      <td>https://static.wikia.nocookie.net/escapefromta...</td>\n",
       "    </tr>\n",
       "    <tr>\n",
       "      <th>177</th>\n",
       "      <td>https://static.wikia.nocookie.net/escapefromta...</td>\n",
       "    </tr>\n",
       "    <tr>\n",
       "      <th>178</th>\n",
       "      <td>https://static.wikia.nocookie.net/escapefromta...</td>\n",
       "    </tr>\n",
       "    <tr>\n",
       "      <th>179</th>\n",
       "      <td>https://static.wikia.nocookie.net/escapefromta...</td>\n",
       "    </tr>\n",
       "    <tr>\n",
       "      <th>180</th>\n",
       "      <td>https://static.wikia.nocookie.net/escapefromta...</td>\n",
       "    </tr>\n",
       "    <tr>\n",
       "      <th>181</th>\n",
       "      <td>https://static.wikia.nocookie.net/escapefromta...</td>\n",
       "    </tr>\n",
       "    <tr>\n",
       "      <th>182</th>\n",
       "      <td>https://static.wikia.nocookie.net/escapefromta...</td>\n",
       "    </tr>\n",
       "    <tr>\n",
       "      <th>183</th>\n",
       "      <td>https://static.wikia.nocookie.net/escapefromta...</td>\n",
       "    </tr>\n",
       "    <tr>\n",
       "      <th>184</th>\n",
       "      <td>https://static.wikia.nocookie.net/escapefromta...</td>\n",
       "    </tr>\n",
       "    <tr>\n",
       "      <th>185</th>\n",
       "      <td>https://static.wikia.nocookie.net/escapefromta...</td>\n",
       "    </tr>\n",
       "    <tr>\n",
       "      <th>186</th>\n",
       "      <td>https://static.wikia.nocookie.net/escapefromta...</td>\n",
       "    </tr>\n",
       "    <tr>\n",
       "      <th>187</th>\n",
       "      <td>https://static.wikia.nocookie.net/escapefromta...</td>\n",
       "    </tr>\n",
       "    <tr>\n",
       "      <th>188</th>\n",
       "      <td>https://static.wikia.nocookie.net/escapefromta...</td>\n",
       "    </tr>\n",
       "    <tr>\n",
       "      <th>189</th>\n",
       "      <td>https://static.wikia.nocookie.net/escapefromta...</td>\n",
       "    </tr>\n",
       "    <tr>\n",
       "      <th>190</th>\n",
       "      <td>https://static.wikia.nocookie.net/escapefromta...</td>\n",
       "    </tr>\n",
       "    <tr>\n",
       "      <th>191</th>\n",
       "      <td>https://static.wikia.nocookie.net/escapefromta...</td>\n",
       "    </tr>\n",
       "    <tr>\n",
       "      <th>192</th>\n",
       "      <td>https://static.wikia.nocookie.net/escapefromta...</td>\n",
       "    </tr>\n",
       "    <tr>\n",
       "      <th>193</th>\n",
       "      <td>https://static.wikia.nocookie.net/escapefromta...</td>\n",
       "    </tr>\n",
       "  </tbody>\n",
       "</table>\n",
       "<p>193 rows × 1 columns</p>\n",
       "</div>"
      ],
      "text/plain": [
       "                                                 image\n",
       "1    https://static.wikia.nocookie.net/escapefromta...\n",
       "2    https://static.wikia.nocookie.net/escapefromta...\n",
       "3    https://static.wikia.nocookie.net/escapefromta...\n",
       "4    https://static.wikia.nocookie.net/escapefromta...\n",
       "5    https://static.wikia.nocookie.net/escapefromta...\n",
       "6    https://static.wikia.nocookie.net/escapefromta...\n",
       "7    https://static.wikia.nocookie.net/escapefromta...\n",
       "8    https://static.wikia.nocookie.net/escapefromta...\n",
       "9    https://static.wikia.nocookie.net/escapefromta...\n",
       "10   https://static.wikia.nocookie.net/escapefromta...\n",
       "11   https://static.wikia.nocookie.net/escapefromta...\n",
       "12   https://static.wikia.nocookie.net/escapefromta...\n",
       "13   https://static.wikia.nocookie.net/escapefromta...\n",
       "14   https://static.wikia.nocookie.net/escapefromta...\n",
       "15   https://static.wikia.nocookie.net/escapefromta...\n",
       "16   https://static.wikia.nocookie.net/escapefromta...\n",
       "17   https://static.wikia.nocookie.net/escapefromta...\n",
       "18   https://static.wikia.nocookie.net/escapefromta...\n",
       "19   https://static.wikia.nocookie.net/escapefromta...\n",
       "20   https://static.wikia.nocookie.net/escapefromta...\n",
       "21   https://static.wikia.nocookie.net/escapefromta...\n",
       "22   https://static.wikia.nocookie.net/escapefromta...\n",
       "23   https://static.wikia.nocookie.net/escapefromta...\n",
       "24   https://static.wikia.nocookie.net/escapefromta...\n",
       "25   https://static.wikia.nocookie.net/escapefromta...\n",
       "26   https://static.wikia.nocookie.net/escapefromta...\n",
       "27   https://static.wikia.nocookie.net/escapefromta...\n",
       "28   https://static.wikia.nocookie.net/escapefromta...\n",
       "29   https://static.wikia.nocookie.net/escapefromta...\n",
       "30   https://static.wikia.nocookie.net/escapefromta...\n",
       "..                                                 ...\n",
       "164  https://static.wikia.nocookie.net/escapefromta...\n",
       "165  https://static.wikia.nocookie.net/escapefromta...\n",
       "166  https://static.wikia.nocookie.net/escapefromta...\n",
       "167  https://static.wikia.nocookie.net/escapefromta...\n",
       "168  https://static.wikia.nocookie.net/escapefromta...\n",
       "169  https://static.wikia.nocookie.net/escapefromta...\n",
       "170  https://static.wikia.nocookie.net/escapefromta...\n",
       "171  https://static.wikia.nocookie.net/escapefromta...\n",
       "172  https://static.wikia.nocookie.net/escapefromta...\n",
       "173  https://static.wikia.nocookie.net/escapefromta...\n",
       "174  https://static.wikia.nocookie.net/escapefromta...\n",
       "175  https://static.wikia.nocookie.net/escapefromta...\n",
       "176  https://static.wikia.nocookie.net/escapefromta...\n",
       "177  https://static.wikia.nocookie.net/escapefromta...\n",
       "178  https://static.wikia.nocookie.net/escapefromta...\n",
       "179  https://static.wikia.nocookie.net/escapefromta...\n",
       "180  https://static.wikia.nocookie.net/escapefromta...\n",
       "181  https://static.wikia.nocookie.net/escapefromta...\n",
       "182  https://static.wikia.nocookie.net/escapefromta...\n",
       "183  https://static.wikia.nocookie.net/escapefromta...\n",
       "184  https://static.wikia.nocookie.net/escapefromta...\n",
       "185  https://static.wikia.nocookie.net/escapefromta...\n",
       "186  https://static.wikia.nocookie.net/escapefromta...\n",
       "187  https://static.wikia.nocookie.net/escapefromta...\n",
       "188  https://static.wikia.nocookie.net/escapefromta...\n",
       "189  https://static.wikia.nocookie.net/escapefromta...\n",
       "190  https://static.wikia.nocookie.net/escapefromta...\n",
       "191  https://static.wikia.nocookie.net/escapefromta...\n",
       "192  https://static.wikia.nocookie.net/escapefromta...\n",
       "193  https://static.wikia.nocookie.net/escapefromta...\n",
       "\n",
       "[193 rows x 1 columns]"
      ]
     },
     "execution_count": 257,
     "metadata": {},
     "output_type": "execute_result"
    }
   ],
   "source": [
    "imageData = pd.DataFrame()\n",
    "for table in WeaponSoup.findAll('table',{\"class\":\"wikitable sortable\"}):\n",
    "    tableRows = table.findAll('tr')\n",
    "    for row in tableRows :\n",
    "        for image in row.select('img'):\n",
    "            if image.has_attr('src'):\n",
    "                data = image['src']\n",
    "                imageData = imageData.append({'image':data},ignore_index=True)\n",
    "imageData.index = np.arange(1,len(imageData)+1)\n",
    "imageData"
   ]
  },
  {
   "cell_type": "markdown",
   "metadata": {},
   "source": [
    "## Header Adjust  And Adding  Images##"
   ]
  },
  {
   "cell_type": "code",
   "execution_count": 276,
   "metadata": {
    "scrolled": true
   },
   "outputs": [],
   "source": [
    "WeaponsDf = pd.DataFrame(WeaponsData)\n",
    "#WeaponsDf.head()\n",
    "WeaponsDf.drop(WeaponsDf.index[[31,35,37,55,63,70,78,80,97,99,101,116,122,124,126,183,197,205,206,209]],inplace=True)\n",
    "WeaponsDf = WeaponsDf.reset_index(drop=True)\n",
    "WeaponsDf = WeaponsDf[1:]\n",
    "WeaponsDf.columns = headerAdjust\n",
    "#print(len(WeaponsDf.columns))\n",
    "WeaponsDf\n",
    "deleteCols = len(WeaponsDf.columns)\n",
    "for cols in range(deleteCols+1):\n",
    "    if(cols <=6):\n",
    "        continue\n",
    "    WeaponsDf = WeaponsDf.drop(WeaponsDf.columns[[cols-1]],axis=1)\n",
    "    \n",
    "WeaponsDf.columns = ['Name','Cartridge','Fire Mode'\n",
    "                     ,'Fire Rate','Description','Image']\n",
    "WeaponsDf['Image'] = imageData['image']\n",
    "#WeaponsDf"
   ]
  },
  {
   "cell_type": "markdown",
   "metadata": {},
   "source": [
    "## Fixing unknown Characters##"
   ]
  },
  {
   "cell_type": "code",
   "execution_count": 277,
   "metadata": {},
   "outputs": [
    {
     "data": {
      "text/plain": [
       "1                                                 Single\n",
       "2                                        SingleFull‑Auto\n",
       "3                                        SingleFull‑Auto\n",
       "4                                        SingleFull‑Auto\n",
       "5                                        SingleFull‑Auto\n",
       "6                                        SingleFull‑Auto\n",
       "7                                        SingleFull‑Auto\n",
       "8                                        SingleFull‑Auto\n",
       "9                                        SingleFull‑Auto\n",
       "10                                       SingleFull‑Auto\n",
       "11                                       SingleFull‑Auto\n",
       "12                                       SingleFull‑Auto\n",
       "13                                       SingleFull‑Auto\n",
       "14                                       SingleFull‑Auto\n",
       "15                                       SingleFull‑Auto\n",
       "16                                       SingleFull‑Auto\n",
       "17                                       SingleFull‑Auto\n",
       "18                                       SingleFull‑Auto\n",
       "19                                       SingleFull‑Auto\n",
       "20                                       SingleFull‑Auto\n",
       "21                                       SingleFull‑Auto\n",
       "22                                       SingleFull‑Auto\n",
       "23                                       SingleFull‑Auto\n",
       "24                                                Single\n",
       "25                                       SingleFull‑Auto\n",
       "26                                       SingleFull‑Auto\n",
       "27                                       SingleFull‑Auto\n",
       "28                                                Single\n",
       "29                                                Single\n",
       "30                                                Single\n",
       "                             ...                        \n",
       "165    Present in a report on the Youtube channel of ...\n",
       "166    Present in a report on the Youtube channel of ...\n",
       "167    Present in a report on the Youtube channel of ...\n",
       "168                           Confirmed with screenshots\n",
       "169                                  Confirmed on Reddit\n",
       "170                      Confirmed on Talking Tarkov № 2\n",
       "171           Confirmed on russian audiopodcast with BSG\n",
       "172                               Confirmed on Instagram\n",
       "173              Confirmed in Talking Tarkov Devblog № 4\n",
       "174    Confirmed on Talking Tarkov № 2\\nConfirmed on ...\n",
       "175                                  Confirmed on Reddit\n",
       "176                      Confirmed on Talking Tarkov № 2\n",
       "177    Present in a report on the Youtube channel of ...\n",
       "178           Confirmed on russian audiopodcast with BSG\n",
       "179    Present in a report on the Youtube channel of ...\n",
       "180                      Confirmed on Talking Tarkov № 2\n",
       "181                    Confirmed on TarkovTV DevBlog № 4\n",
       "182                                              Twitter\n",
       "183                      Temporarily removed due to bugs\n",
       "184                    Confirmed on TarkovTV DevBlog № 4\n",
       "185                      Confirmed on Talking Tarkov № 6\n",
       "186                      Confirmed on Talking Tarkov № 1\n",
       "187    Image of trigger and grip posted to\\nBSG's Twi...\n",
       "188                       Confirmed with this screenshot\n",
       "189    Located within game files and confirmed with t...\n",
       "190    Confirmed with this screenshot on the Facebook...\n",
       "191    Confirmed with this screenshot on the Facebook...\n",
       "192                      Confirmed in Talking Tarkov № 5\n",
       "193                      Confirmed in Talking Tarkov № 6\n",
       "194    Confirmed with this screenshot on the Facebook...\n",
       "Name: Fire Mode, Length: 194, dtype: object"
      ]
     },
     "execution_count": 277,
     "metadata": {},
     "output_type": "execute_result"
    }
   ],
   "source": []
  },
  {
   "cell_type": "markdown",
   "metadata": {},
   "source": [
    "## Create csv ##"
   ]
  },
  {
   "cell_type": "code",
   "execution_count": 275,
   "metadata": {},
   "outputs": [],
   "source": [
    "WeaponsDf.to_csv(\"Weapons.csv\")\n",
    "WeaponsDf.to_excel(\"Weapons.xlsx\")"
   ]
  },
  {
   "cell_type": "code",
   "execution_count": 222,
   "metadata": {},
   "outputs": [
    {
     "data": {
      "text/plain": [
       "Name                                                      MON-50\n",
       "Cartridge                                    Anti personnel mine\n",
       "Fire Mode      Confirmed with this screenshot on the Facebook...\n",
       "Fire Rate                                                   None\n",
       "Description                                                 None\n",
       "Image                                                        NaN\n",
       "Name: 214, dtype: object"
      ]
     },
     "execution_count": 222,
     "metadata": {},
     "output_type": "execute_result"
    }
   ],
   "source": [
    "WeaponsDf.iloc[-1]"
   ]
  },
  {
   "cell_type": "code",
   "execution_count": null,
   "metadata": {},
   "outputs": [],
   "source": []
  },
  {
   "cell_type": "code",
   "execution_count": null,
   "metadata": {},
   "outputs": [],
   "source": []
  },
  {
   "cell_type": "markdown",
   "metadata": {},
   "source": [
    "## Weapon Mods Data ##"
   ]
  },
  {
   "cell_type": "code",
   "execution_count": 258,
   "metadata": {
    "scrolled": true
   },
   "outputs": [
    {
     "ename": "AttributeError",
     "evalue": "ResultSet object has no attribute 'findAll'. You're probably treating a list of items like a single item. Did you call find_all() when you meant to call find()?",
     "output_type": "error",
     "traceback": [
      "\u001b[1;31m---------------------------------------------------------------------------\u001b[0m",
      "\u001b[1;31mAttributeError\u001b[0m                            Traceback (most recent call last)",
      "\u001b[1;32m<ipython-input-258-7ad497186c6a>\u001b[0m in \u001b[0;36m<module>\u001b[1;34m\u001b[0m\n\u001b[0;32m      3\u001b[0m \u001b[1;33m\u001b[0m\u001b[0m\n\u001b[0;32m      4\u001b[0m \u001b[1;32mfor\u001b[0m \u001b[0mtables\u001b[0m \u001b[1;32min\u001b[0m \u001b[0mModTable\u001b[0m\u001b[1;33m:\u001b[0m\u001b[1;33m\u001b[0m\u001b[1;33m\u001b[0m\u001b[0m\n\u001b[1;32m----> 5\u001b[1;33m     \u001b[0mModTable_body\u001b[0m \u001b[1;33m=\u001b[0m \u001b[0mModTable\u001b[0m\u001b[1;33m.\u001b[0m\u001b[0mfindAll\u001b[0m\u001b[1;33m(\u001b[0m\u001b[1;34m'tbody'\u001b[0m\u001b[1;33m)\u001b[0m\u001b[1;33m\u001b[0m\u001b[1;33m\u001b[0m\u001b[0m\n\u001b[0m\u001b[0;32m      6\u001b[0m \u001b[1;33m\u001b[0m\u001b[0m\n\u001b[0;32m      7\u001b[0m     \u001b[0mModRows\u001b[0m \u001b[1;33m=\u001b[0m \u001b[0mModTable_body\u001b[0m\u001b[1;33m.\u001b[0m\u001b[0mfind_all\u001b[0m\u001b[1;33m(\u001b[0m\u001b[1;34m'tr'\u001b[0m\u001b[1;33m)\u001b[0m\u001b[1;33m\u001b[0m\u001b[1;33m\u001b[0m\u001b[0m\n",
      "\u001b[1;32mD:\\ProgramData\\Anaconda3\\lib\\site-packages\\bs4\\element.py\u001b[0m in \u001b[0;36m__getattr__\u001b[1;34m(self, key)\u001b[0m\n\u001b[0;32m   1618\u001b[0m     \u001b[1;32mdef\u001b[0m \u001b[0m__getattr__\u001b[0m\u001b[1;33m(\u001b[0m\u001b[0mself\u001b[0m\u001b[1;33m,\u001b[0m \u001b[0mkey\u001b[0m\u001b[1;33m)\u001b[0m\u001b[1;33m:\u001b[0m\u001b[1;33m\u001b[0m\u001b[1;33m\u001b[0m\u001b[0m\n\u001b[0;32m   1619\u001b[0m         raise AttributeError(\n\u001b[1;32m-> 1620\u001b[1;33m             \u001b[1;34m\"ResultSet object has no attribute '%s'. You're probably treating a list of items like a single item. Did you call find_all() when you meant to call find()?\"\u001b[0m \u001b[1;33m%\u001b[0m \u001b[0mkey\u001b[0m\u001b[1;33m\u001b[0m\u001b[1;33m\u001b[0m\u001b[0m\n\u001b[0m\u001b[0;32m   1621\u001b[0m         )\n",
      "\u001b[1;31mAttributeError\u001b[0m: ResultSet object has no attribute 'findAll'. You're probably treating a list of items like a single item. Did you call find_all() when you meant to call find()?"
     ]
    }
   ],
   "source": [
    "ModData=[]\n",
    "ModTable = ModSoup.findAll('table')\n",
    "\n",
    "for tables in ModTable:\n",
    "    ModTable_body = ModTable.findAll('tbody')\n",
    "\n",
    "    ModRows = ModTable_body.find_all('tr')\n",
    "\n",
    "    for row in ModRows:\n",
    "\n",
    "        ModCols = row.find_all('th')+ row.find_all('td')\n",
    "\n",
    "        ModCols = [ele.text.strip() for ele in ModCols]\n",
    "\n",
    "        ModData.append([ele for ele in ModCols if ele])\n",
    "\n",
    "    #print(ModData) \n",
    "print(ModData)"
   ]
  },
  {
   "cell_type": "markdown",
   "metadata": {},
   "source": [
    "## ADJUST MOD TABLE ##"
   ]
  },
  {
   "cell_type": "code",
   "execution_count": 259,
   "metadata": {},
   "outputs": [
    {
     "ename": "IndexError",
     "evalue": "single positional indexer is out-of-bounds",
     "output_type": "error",
     "traceback": [
      "\u001b[1;31m---------------------------------------------------------------------------\u001b[0m",
      "\u001b[1;31mIndexError\u001b[0m                                Traceback (most recent call last)",
      "\u001b[1;32m<ipython-input-259-11b477007884>\u001b[0m in \u001b[0;36m<module>\u001b[1;34m\u001b[0m\n\u001b[0;32m      1\u001b[0m \u001b[0mModDf\u001b[0m \u001b[1;33m=\u001b[0m \u001b[0mpd\u001b[0m\u001b[1;33m.\u001b[0m\u001b[0mDataFrame\u001b[0m\u001b[1;33m(\u001b[0m\u001b[0mModData\u001b[0m\u001b[1;33m)\u001b[0m\u001b[1;33m\u001b[0m\u001b[1;33m\u001b[0m\u001b[0m\n\u001b[1;32m----> 2\u001b[1;33m \u001b[0mmodAdjust\u001b[0m \u001b[1;33m=\u001b[0m \u001b[0mModDf\u001b[0m\u001b[1;33m.\u001b[0m\u001b[0miloc\u001b[0m\u001b[1;33m[\u001b[0m\u001b[1;36m0\u001b[0m\u001b[1;33m]\u001b[0m\u001b[1;33m\u001b[0m\u001b[1;33m\u001b[0m\u001b[0m\n\u001b[0m\u001b[0;32m      3\u001b[0m \u001b[0mModDf\u001b[0m \u001b[1;33m=\u001b[0m \u001b[0mModDf\u001b[0m\u001b[1;33m[\u001b[0m\u001b[1;36m1\u001b[0m\u001b[1;33m:\u001b[0m\u001b[1;33m]\u001b[0m\u001b[1;33m\u001b[0m\u001b[1;33m\u001b[0m\u001b[0m\n\u001b[0;32m      4\u001b[0m \u001b[0mModDf\u001b[0m\u001b[1;33m.\u001b[0m\u001b[0mcolumns\u001b[0m \u001b[1;33m=\u001b[0m \u001b[0mModAdjust\u001b[0m\u001b[1;33m\u001b[0m\u001b[1;33m\u001b[0m\u001b[0m\n\u001b[0;32m      5\u001b[0m \u001b[0mModDf\u001b[0m\u001b[1;33m\u001b[0m\u001b[1;33m\u001b[0m\u001b[0m\n",
      "\u001b[1;32mD:\\ProgramData\\Anaconda3\\lib\\site-packages\\pandas\\core\\indexing.py\u001b[0m in \u001b[0;36m__getitem__\u001b[1;34m(self, key)\u001b[0m\n\u001b[0;32m   1498\u001b[0m \u001b[1;33m\u001b[0m\u001b[0m\n\u001b[0;32m   1499\u001b[0m             \u001b[0mmaybe_callable\u001b[0m \u001b[1;33m=\u001b[0m \u001b[0mcom\u001b[0m\u001b[1;33m.\u001b[0m\u001b[0mapply_if_callable\u001b[0m\u001b[1;33m(\u001b[0m\u001b[0mkey\u001b[0m\u001b[1;33m,\u001b[0m \u001b[0mself\u001b[0m\u001b[1;33m.\u001b[0m\u001b[0mobj\u001b[0m\u001b[1;33m)\u001b[0m\u001b[1;33m\u001b[0m\u001b[1;33m\u001b[0m\u001b[0m\n\u001b[1;32m-> 1500\u001b[1;33m             \u001b[1;32mreturn\u001b[0m \u001b[0mself\u001b[0m\u001b[1;33m.\u001b[0m\u001b[0m_getitem_axis\u001b[0m\u001b[1;33m(\u001b[0m\u001b[0mmaybe_callable\u001b[0m\u001b[1;33m,\u001b[0m \u001b[0maxis\u001b[0m\u001b[1;33m=\u001b[0m\u001b[0maxis\u001b[0m\u001b[1;33m)\u001b[0m\u001b[1;33m\u001b[0m\u001b[1;33m\u001b[0m\u001b[0m\n\u001b[0m\u001b[0;32m   1501\u001b[0m \u001b[1;33m\u001b[0m\u001b[0m\n\u001b[0;32m   1502\u001b[0m     \u001b[1;32mdef\u001b[0m \u001b[0m_is_scalar_access\u001b[0m\u001b[1;33m(\u001b[0m\u001b[0mself\u001b[0m\u001b[1;33m,\u001b[0m \u001b[0mkey\u001b[0m\u001b[1;33m)\u001b[0m\u001b[1;33m:\u001b[0m\u001b[1;33m\u001b[0m\u001b[1;33m\u001b[0m\u001b[0m\n",
      "\u001b[1;32mD:\\ProgramData\\Anaconda3\\lib\\site-packages\\pandas\\core\\indexing.py\u001b[0m in \u001b[0;36m_getitem_axis\u001b[1;34m(self, key, axis)\u001b[0m\n\u001b[0;32m   2228\u001b[0m \u001b[1;33m\u001b[0m\u001b[0m\n\u001b[0;32m   2229\u001b[0m             \u001b[1;31m# validate the location\u001b[0m\u001b[1;33m\u001b[0m\u001b[1;33m\u001b[0m\u001b[1;33m\u001b[0m\u001b[0m\n\u001b[1;32m-> 2230\u001b[1;33m             \u001b[0mself\u001b[0m\u001b[1;33m.\u001b[0m\u001b[0m_validate_integer\u001b[0m\u001b[1;33m(\u001b[0m\u001b[0mkey\u001b[0m\u001b[1;33m,\u001b[0m \u001b[0maxis\u001b[0m\u001b[1;33m)\u001b[0m\u001b[1;33m\u001b[0m\u001b[1;33m\u001b[0m\u001b[0m\n\u001b[0m\u001b[0;32m   2231\u001b[0m \u001b[1;33m\u001b[0m\u001b[0m\n\u001b[0;32m   2232\u001b[0m             \u001b[1;32mreturn\u001b[0m \u001b[0mself\u001b[0m\u001b[1;33m.\u001b[0m\u001b[0m_get_loc\u001b[0m\u001b[1;33m(\u001b[0m\u001b[0mkey\u001b[0m\u001b[1;33m,\u001b[0m \u001b[0maxis\u001b[0m\u001b[1;33m=\u001b[0m\u001b[0maxis\u001b[0m\u001b[1;33m)\u001b[0m\u001b[1;33m\u001b[0m\u001b[1;33m\u001b[0m\u001b[0m\n",
      "\u001b[1;32mD:\\ProgramData\\Anaconda3\\lib\\site-packages\\pandas\\core\\indexing.py\u001b[0m in \u001b[0;36m_validate_integer\u001b[1;34m(self, key, axis)\u001b[0m\n\u001b[0;32m   2137\u001b[0m         \u001b[0mlen_axis\u001b[0m \u001b[1;33m=\u001b[0m \u001b[0mlen\u001b[0m\u001b[1;33m(\u001b[0m\u001b[0mself\u001b[0m\u001b[1;33m.\u001b[0m\u001b[0mobj\u001b[0m\u001b[1;33m.\u001b[0m\u001b[0m_get_axis\u001b[0m\u001b[1;33m(\u001b[0m\u001b[0maxis\u001b[0m\u001b[1;33m)\u001b[0m\u001b[1;33m)\u001b[0m\u001b[1;33m\u001b[0m\u001b[1;33m\u001b[0m\u001b[0m\n\u001b[0;32m   2138\u001b[0m         \u001b[1;32mif\u001b[0m \u001b[0mkey\u001b[0m \u001b[1;33m>=\u001b[0m \u001b[0mlen_axis\u001b[0m \u001b[1;32mor\u001b[0m \u001b[0mkey\u001b[0m \u001b[1;33m<\u001b[0m \u001b[1;33m-\u001b[0m\u001b[0mlen_axis\u001b[0m\u001b[1;33m:\u001b[0m\u001b[1;33m\u001b[0m\u001b[1;33m\u001b[0m\u001b[0m\n\u001b[1;32m-> 2139\u001b[1;33m             \u001b[1;32mraise\u001b[0m \u001b[0mIndexError\u001b[0m\u001b[1;33m(\u001b[0m\u001b[1;34m\"single positional indexer is out-of-bounds\"\u001b[0m\u001b[1;33m)\u001b[0m\u001b[1;33m\u001b[0m\u001b[1;33m\u001b[0m\u001b[0m\n\u001b[0m\u001b[0;32m   2140\u001b[0m \u001b[1;33m\u001b[0m\u001b[0m\n\u001b[0;32m   2141\u001b[0m     \u001b[1;32mdef\u001b[0m \u001b[0m_getitem_tuple\u001b[0m\u001b[1;33m(\u001b[0m\u001b[0mself\u001b[0m\u001b[1;33m,\u001b[0m \u001b[0mtup\u001b[0m\u001b[1;33m)\u001b[0m\u001b[1;33m:\u001b[0m\u001b[1;33m\u001b[0m\u001b[1;33m\u001b[0m\u001b[0m\n",
      "\u001b[1;31mIndexError\u001b[0m: single positional indexer is out-of-bounds"
     ]
    }
   ],
   "source": [
    "ModDf = pd.DataFrame(ModData)\n",
    "modAdjust = ModDf.iloc[0]\n",
    "ModDf = ModDf[1:]\n",
    "ModDf.columns = ModAdjust\n",
    "ModDf"
   ]
  },
  {
   "cell_type": "code",
   "execution_count": null,
   "metadata": {},
   "outputs": [],
   "source": []
  },
  {
   "cell_type": "code",
   "execution_count": null,
   "metadata": {},
   "outputs": [],
   "source": []
  }
 ],
 "metadata": {
  "kernelspec": {
   "display_name": "Python 3",
   "language": "python",
   "name": "python3"
  },
  "language_info": {
   "codemirror_mode": {
    "name": "ipython",
    "version": 3
   },
   "file_extension": ".py",
   "mimetype": "text/x-python",
   "name": "python",
   "nbconvert_exporter": "python",
   "pygments_lexer": "ipython3",
   "version": "3.7.3"
  }
 },
 "nbformat": 4,
 "nbformat_minor": 2
}
